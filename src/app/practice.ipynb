{
 "cells": [
  {
   "cell_type": "code",
   "execution_count": 19,
   "id": "6784f971",
   "metadata": {},
   "outputs": [
    {
     "name": "stdout",
     "output_type": "stream",
     "text": [
      "up_ITw2Ag9 ...\n"
     ]
    }
   ],
   "source": [
    "import pandas as pd\n",
    "import os\n",
    "from dotenv import load_dotenv\n",
    "import openai\n",
    "from rouge import Rouge # 모델의 성능을 평가하기 위한 라이브러리입니다.\n",
    "\n",
    "# --- Configuration ---\n",
    "# Assuming the script is run from the root of the project\n",
    "PROJECT_DIR = \"/mnt/c/SKH/ai_lab_13/projects/nlp-text-summarization/song\"\n",
    "DATA_DIR = os.path.join(PROJECT_DIR, 'data')\n",
    "TRAIN_CSV = os.path.join(DATA_DIR, \"train.csv\")\n",
    "DEV_CSV = os.path.join(DATA_DIR, \"dev.csv\")\n",
    "\n",
    "load_dotenv(os.path.join(PROJECT_DIR, \".env\"))\n",
    "UPSTAGE_API_KEY = os.getenv(\"UPSTAGE_API_KEY\")\n",
    "print(UPSTAGE_API_KEY[:10],\"...\")\n",
    "\n",
    "train_df = pd.read_csv(TRAIN_CSV)\n",
    "val_df = pd.read_csv(DEV_CSV)"
   ]
  },
  {
   "cell_type": "code",
   "execution_count": 20,
   "id": "59492939",
   "metadata": {},
   "outputs": [],
   "source": [
    "def get_NER(dialogue):\n",
    "    # not implemented\n",
    "    return None\n",
    "def get_sample_by_index(dataset_name, index, use_NER=True):\n",
    "    df = train_df if dataset_name == \"train\" else val_df\n",
    "    index = int(index)\n",
    "    if 0 <= index < len(df):\n",
    "        sample = df.iloc[index]\n",
    "\n",
    "        # get NER by NER-model if exists.\n",
    "        ner = get_NER(sample['dialogue']) if use_NER else None\n",
    "        if ner is None:\n",
    "            ner = \"NER model is not ready.\"\n",
    "\n",
    "        return sample['fname'], sample['dialogue'], sample['summary'], ner, sample['topic'], index\n",
    "    return \"N/A\", \"N/A\", \"N/A\", \"N/A\", \"N/A\", index\n",
    "\n",
    "def call_Solar(dataset_name, index):\n",
    "    fname, dialogue, _, _, _, _ = get_sample_by_index(dataset_name, index, use_NER=False)\n",
    "    \n",
    "    return fname, f\"```\\nSolar API is not ready.\\n```\",f\"```\\nSolar API is not ready.\\n```\",f\"```\\nSolar API is not ready.\\n```\",f\"```\\nSolar API is not ready.\\n```\""
   ]
  },
  {
   "cell_type": "code",
   "execution_count": 7,
   "id": "aae69bf4",
   "metadata": {},
   "outputs": [],
   "source": [
    "fname, dialogue, _, _, _, _ = get_sample_by_index('train', 0, use_NER=False)"
   ]
  },
  {
   "cell_type": "code",
   "execution_count": 9,
   "id": "747ee998",
   "metadata": {},
   "outputs": [
    {
     "name": "stdout",
     "output_type": "stream",
     "text": [
      "#Person1#: 안녕하세요, 스미스씨. 저는 호킨스 의사입니다. 오늘 왜 오셨나요?\n",
      "#Person2#: 건강검진을 받는 것이 좋을 것 같아서요.\n",
      "#Person1#: 그렇군요, 당신은 5년 동안 건강검진을 받지 않았습니다. 매년 받아야 합니다.\n",
      "#Person2#: 알고 있습니다. 하지만 아무 문제가 없다면 왜 의사를 만나러 가야 하나요?\n",
      "#Person1#: 심각한 질병을 피하는 가장 좋은 방법은 이를 조기에 발견하는 것입니다. 그러니 당신의 건강을 위해 최소한 매년 한 번은 오세요.\n",
      "#Person2#: 알겠습니다.\n",
      "#Person1#: 여기 보세요. 당신의 눈과 귀는 괜찮아 보입니다. 깊게 숨을 들이쉬세요. 스미스씨, 담배 피우시나요?\n",
      "#Person2#: 네.\n",
      "#Person1#: 당신도 알다시피, 담배는 폐암과 심장병의 주요 원인입니다. 정말로 끊으셔야 합니다. \n",
      "#Person2#: 수백 번 시도했지만, 습관을 버리는 것이 어렵습니다.\n",
      "#Person1#: 우리는 도움이 될 수 있는 수업과 약물들을 제공하고 있습니다. 나가기 전에 더 많은 정보를 드리겠습니다.\n",
      "#Person2#: 알겠습니다, 감사합니다, 의사선생님.\n"
     ]
    }
   ],
   "source": [
    "print(dialogue)"
   ]
  },
  {
   "cell_type": "markdown",
   "id": "d0eee610",
   "metadata": {},
   "source": [
    "- Solar Chat API"
   ]
  },
  {
   "cell_type": "code",
   "execution_count": 21,
   "id": "4ed3e1e3",
   "metadata": {},
   "outputs": [],
   "source": [
    "client = openai.OpenAI(\n",
    "    api_key=UPSTAGE_API_KEY,\n",
    "    base_url=\"https://api.upstage.ai/v1/solar\"\n",
    ")"
   ]
  },
  {
   "cell_type": "code",
   "execution_count": 104,
   "id": "50ff7d52",
   "metadata": {},
   "outputs": [],
   "source": [
    "# Prompt를 생성하는 함수를 수정합니다.\n",
    "def build_prompt(dialogue, type='summarization'):\n",
    "    if type=='summarization':\n",
    "        system_prompt = \"You are a expert in the field of dialogue summarization, summarize the given dialogue in a concise manner. Follow the user's instruction carefully and provide a summary that is relevant to the dialogue.\"\n",
    "\n",
    "        user_prompt = (\n",
    "            \"Following the instructions below, summarize the given document.\\n\"\n",
    "            \"Instructions:\\n\"\n",
    "            \"1. Read the dialogue carefully.\\n\"\n",
    "            \"2. Preserve named entities in the summary.\\n\"\n",
    "            \"3. Among special characters and symbols, only Arabic numerals, commas, and periods may be used.\\n\"\n",
    "            \"4. Reflect discourse relations, speech acts, and conversational intentions in the summary.\\n\"\n",
    "            \"5. Keep the summary concise and brief.\\n\"\n",
    "            \"6. Response in KOREAN.\\n\\n\"\n",
    "            \"Dialogue:\\n\"\n",
    "            f\"{dialogue}\\n\\n\"\n",
    "            \"Summary:\\n\"\n",
    "        )\n",
    "    elif type=='ko2en':\n",
    "        system_prompt = \"You are a expert in the field of translation. Translate the given Korean dialogue into English. Follow the user's instruction carefully and provide a translation that is relevant to the original korean dialogue.\"\n",
    "\n",
    "        user_prompt = (\n",
    "            \"Following the instructions below, translate the given dialogue.\\n\"\n",
    "            \"Instructions:\\n\"\n",
    "            \"1. Read the dialogue carefully.\\n\"\n",
    "            \"2. Preserve named entities or english name in the dialogue.\\n\"\n",
    "            \"3. Each turn is distinguished by line feed, preserve the number of turns and representation of speaker such as #Person1#.\\n\"\n",
    "            \"4. Translate Korean to English.\\n\\n\"\n",
    "            \"Korean Dialogue:\\n\"\n",
    "            f\"{dialogue}\\n\\n\"\n",
    "            \"Translation:\\n\"\n",
    "        )\n",
    "    elif type=='en2ko':\n",
    "        system_prompt = \"You are a expert in the field of translation. Translate the given English dialogue into Korean. Follow the user's instruction carefully and provide a translation that is relevant to the original english dialogue.\"\n",
    "\n",
    "        user_prompt = (\n",
    "            \"Following the instructions below, translate the given dialogue.\\n\"\n",
    "            \"Instructions:\\n\"\n",
    "            \"1. Read the dialogue carefully.\\n\"\n",
    "            \"2. Preserve named entities or english name in the dialogue.\\n\"\n",
    "            \"3. Each turn is distinguished by line feed, preserve the number of turns and representation of speaker such as #Person1#.\\n\"\n",
    "            \"4. Preserve Personal Identity Information masking such as #Person1#, #Email#, #Address#, etc.\"\n",
    "            \"5. Translate English to Korean.\\n\\n\"\n",
    "            \"English Dialogue:\\n\"\n",
    "            f\"{dialogue}\\n\\n\"\n",
    "            \"Translation:\\n\"\n",
    "        )\n",
    "    elif type=='topic':\n",
    "        system_prompt = \"You are a expert in the field of topic classification. Extract discourse relations, speech acts, and conversational intentions in the summary and represents it as topic. Follow the user's instruction carefully and provide a topic that is relevant to the dialogue.\"\n",
    "\n",
    "        user_prompt = (\n",
    "            \"Following the instructions below, extract topic in the given dialogue.\\n\"\n",
    "            \"Instructions:\\n\"\n",
    "            \"1. Read the dialogue carefully.\\n\"\n",
    "            \"2. Focus on named entities in the dialogue.\\n\"\n",
    "            \"3. Topic must be at most 3 words.\\n\"\n",
    "            \"4. Response in KOREAN with no prefix or suffix, only the topic.\\n\\n\"\n",
    "            \"Dialogue:\\n\"\n",
    "            f\"{dialogue}\\n\\n\"\n",
    "        )\n",
    "    \n",
    "    return [\n",
    "        {\n",
    "            \"role\": \"system\",\n",
    "            \"content\": system_prompt\n",
    "        },\n",
    "        {\n",
    "            \"role\": \"user\",\n",
    "            \"content\": user_prompt\n",
    "        }\n",
    "    ]\n",
    "\n"
   ]
  },
  {
   "cell_type": "code",
   "execution_count": 40,
   "id": "d8db0b2d",
   "metadata": {},
   "outputs": [],
   "source": [
    "# 모델 성능에 대한 평가 지표를 정의합니다. 본 대회에서는 ROUGE 점수를 통해 모델의 성능을 평가합니다.\n",
    "rouge = Rouge()\n",
    "def compute_metrics(pred, gold):\n",
    "    results = rouge.get_scores(pred, gold, avg=True)\n",
    "    result = {key: value[\"f\"] for key, value in results.items()}\n",
    "    return result"
   ]
  },
  {
   "cell_type": "code",
   "execution_count": 69,
   "id": "93bff4b3",
   "metadata": {},
   "outputs": [
    {
     "data": {
      "text/plain": [
       "566.8000000000001"
      ]
     },
     "execution_count": 69,
     "metadata": {},
     "output_type": "execute_result"
    }
   ],
   "source": [
    "len(train_df.iloc[0]['dialogue'].split(' ')) * 5.2"
   ]
  },
  {
   "cell_type": "code",
   "execution_count": 105,
   "id": "7ebbc8d5",
   "metadata": {},
   "outputs": [],
   "source": [
    "def chat_solar(dialogue, type='summarization'):\n",
    "    max_tokens = 170\n",
    "    if type in ['en2ko', 'ko2en']:\n",
    "        max_tokens = None # 따로 설정하지 않는다.\n",
    "    elif type == 'topic':\n",
    "        max_tokens = 15\n",
    "    prompt = build_prompt(dialogue, type)\n",
    "    # print(prompt)\n",
    "    if max_tokens is not None:\n",
    "        output = client.chat.completions.create(\n",
    "            model=\"solar-mini\",\n",
    "            messages=prompt,\n",
    "            temperature=0.2,\n",
    "            top_p=0.3,\n",
    "            max_tokens=max_tokens,\n",
    "        )\n",
    "    else:\n",
    "        output = client.chat.completions.create(\n",
    "            model=\"solar-mini\",\n",
    "            messages=prompt,\n",
    "            temperature=0.2,\n",
    "            top_p=0.3,\n",
    "        )\n",
    "\n",
    "    return output.choices[0].message.content"
   ]
  },
  {
   "cell_type": "code",
   "execution_count": 80,
   "id": "17f4b0b7",
   "metadata": {},
   "outputs": [],
   "source": [
    "# Train data 중 처음 3개의 대화를 요약합니다.\n",
    "def test_on_train_data(num_samples=3):\n",
    "    for idx, row in train_df[:num_samples].iterrows():\n",
    "        dialogue = row['dialogue']\n",
    "        summary = chat_solar(dialogue)\n",
    "        print(f\"Dialogue:\\n{dialogue}\\n\")\n",
    "        print(f\"Pred Summary: {summary}\\n\")\n",
    "        print(f\"Gold Summary: {row['summary']}\\n\")\n",
    "        print(\"==\"*50)"
   ]
  },
  {
   "cell_type": "code",
   "execution_count": 106,
   "id": "fa17623e",
   "metadata": {},
   "outputs": [],
   "source": [
    "from tqdm import tqdm\n",
    "def retranslate_all(df):\n",
    "    results = []\n",
    "    idx = -1  # 초기화 필요 (finally에서 사용되므로)\n",
    "    try:\n",
    "        for idx,row in tqdm(df.iterrows()):\n",
    "            dialogue = row['dialogue']\n",
    "            summary, ko2en, en2ko, re_summary, topic = None, None, None, None, None\n",
    "\n",
    "            # 각 처리 결과에 대해 예외 처리\n",
    "            try:\n",
    "                summary = chat_solar(dialogue, type='summarization')\n",
    "                # print(summary)\n",
    "            except Exception as e:\n",
    "                print(f\"[{idx}] Error in summarization: {e}\")\n",
    "                results.append([summary, ko2en, en2ko, re_summary, topic])\n",
    "                continue\n",
    "\n",
    "            try:\n",
    "                ko2en = chat_solar(dialogue, type='ko2en') # 한국어를 영어로\n",
    "            except Exception as e:\n",
    "                print(f\"[{idx}] Error in ko2en: {e}\")\n",
    "                results.append([summary, None, None, None, None])\n",
    "                continue\n",
    "\n",
    "            try:\n",
    "                en2ko = chat_solar(ko2en, type='en2ko') # 영어를 입력받아 다시 한국어로\n",
    "            except Exception as e:\n",
    "                print(f\"[{idx}] Error in en2ko: {e}\")\n",
    "                results.append([summary, ko2en, None, None, None])\n",
    "                continue\n",
    "\n",
    "            try:\n",
    "                re_summary = chat_solar(en2ko, type='summarization') # en2ko로 요약문 생성\n",
    "            except Exception as e:\n",
    "                print(f\"[{idx}] Error in re_summary: {e}\")\n",
    "                results.append([summary, ko2en, en2ko, None, None])\n",
    "                continue\n",
    "\n",
    "            try:\n",
    "                topic = chat_solar(en2ko, type='topic') # en2ko로 토픽 생성\n",
    "            except Exception as e:\n",
    "                print(f\"[{idx}] Error in topic: {e}\")\n",
    "                results.append([summary, ko2en, en2ko, re_summary, None])\n",
    "                continue\n",
    "\n",
    "            results.append([summary, topic, ko2en, en2ko, re_summary])\n",
    "    except Exception as e:\n",
    "        print(\"Error:\", e)\n",
    "    finally:\n",
    "        print(f\"Finished at index: {idx} / {len(df)-1}\")\n",
    "        results_df = pd.DataFrame(\n",
    "            results, columns=['summary_solar', 'dialogue_ko2en', 'dialogue_en2ko', 're_summary_solar', 'topic_solar']\n",
    "        )\n",
    "        return results_df"
   ]
  },
  {
   "cell_type": "code",
   "execution_count": 57,
   "id": "c6b6f94f",
   "metadata": {},
   "outputs": [
    {
     "data": {
      "text/html": [
       "<div>\n",
       "<style scoped>\n",
       "    .dataframe tbody tr th:only-of-type {\n",
       "        vertical-align: middle;\n",
       "    }\n",
       "\n",
       "    .dataframe tbody tr th {\n",
       "        vertical-align: top;\n",
       "    }\n",
       "\n",
       "    .dataframe thead th {\n",
       "        text-align: right;\n",
       "    }\n",
       "</style>\n",
       "<table border=\"1\" class=\"dataframe\">\n",
       "  <thead>\n",
       "    <tr style=\"text-align: right;\">\n",
       "      <th></th>\n",
       "      <th>fname</th>\n",
       "      <th>dialogue</th>\n",
       "      <th>summary</th>\n",
       "      <th>topic</th>\n",
       "    </tr>\n",
       "  </thead>\n",
       "  <tbody>\n",
       "    <tr>\n",
       "      <th>0</th>\n",
       "      <td>train_0</td>\n",
       "      <td>#Person1#: 안녕하세요, Mr. Smith. 저는 Dr. Hawkins입니다...</td>\n",
       "      <td>Mr. Smith는 Dr. Hawkins에게 건강검진을 받으러 와서, 매년 검진 필...</td>\n",
       "      <td>건강검진</td>\n",
       "    </tr>\n",
       "    <tr>\n",
       "      <th>1</th>\n",
       "      <td>train_1</td>\n",
       "      <td>#Person1#: 안녕하세요, Mrs. Parker. 잘 지내셨나요?\\n#Pers...</td>\n",
       "      <td>Mrs. Parker가 Ricky와 함께 백신 접종을 위해 방문하였고, Dr. Pe...</td>\n",
       "      <td>백신 접종</td>\n",
       "    </tr>\n",
       "  </tbody>\n",
       "</table>\n",
       "</div>"
      ],
      "text/plain": [
       "     fname                                           dialogue  \\\n",
       "0  train_0  #Person1#: 안녕하세요, Mr. Smith. 저는 Dr. Hawkins입니다...   \n",
       "1  train_1  #Person1#: 안녕하세요, Mrs. Parker. 잘 지내셨나요?\\n#Pers...   \n",
       "\n",
       "                                             summary  topic  \n",
       "0  Mr. Smith는 Dr. Hawkins에게 건강검진을 받으러 와서, 매년 검진 필...   건강검진  \n",
       "1  Mrs. Parker가 Ricky와 함께 백신 접종을 위해 방문하였고, Dr. Pe...  백신 접종  "
      ]
     },
     "metadata": {},
     "output_type": "display_data"
    },
    {
     "data": {
      "text/html": [
       "<div>\n",
       "<style scoped>\n",
       "    .dataframe tbody tr th:only-of-type {\n",
       "        vertical-align: middle;\n",
       "    }\n",
       "\n",
       "    .dataframe tbody tr th {\n",
       "        vertical-align: top;\n",
       "    }\n",
       "\n",
       "    .dataframe thead th {\n",
       "        text-align: right;\n",
       "    }\n",
       "</style>\n",
       "<table border=\"1\" class=\"dataframe\">\n",
       "  <thead>\n",
       "    <tr style=\"text-align: right;\">\n",
       "      <th></th>\n",
       "      <th>fname</th>\n",
       "      <th>dialogue</th>\n",
       "      <th>summary</th>\n",
       "      <th>topic</th>\n",
       "    </tr>\n",
       "  </thead>\n",
       "  <tbody>\n",
       "    <tr>\n",
       "      <th>0</th>\n",
       "      <td>dev_0</td>\n",
       "      <td>#Person1#: 안녕하세요, 오늘 기분이 어떠세요?\\n#Person2#: 요즘 ...</td>\n",
       "      <td>#Person2#는 숨쉬기 어려워합니다. 의사는 #Person2#에게 증상을 확인하...</td>\n",
       "      <td>의사 상담</td>\n",
       "    </tr>\n",
       "    <tr>\n",
       "      <th>1</th>\n",
       "      <td>dev_1</td>\n",
       "      <td>#Person1#: 야 Jimmy, 오늘 좀 이따 운동하러 가자.\\n#Person2...</td>\n",
       "      <td>#Person1#는 Jimmy를 운동하러 초대하고 팔과 복근 운동을 하도록 설득합니다.</td>\n",
       "      <td>운동 계획</td>\n",
       "    </tr>\n",
       "  </tbody>\n",
       "</table>\n",
       "</div>"
      ],
      "text/plain": [
       "   fname                                           dialogue  \\\n",
       "0  dev_0  #Person1#: 안녕하세요, 오늘 기분이 어떠세요?\\n#Person2#: 요즘 ...   \n",
       "1  dev_1  #Person1#: 야 Jimmy, 오늘 좀 이따 운동하러 가자.\\n#Person2...   \n",
       "\n",
       "                                             summary  topic  \n",
       "0  #Person2#는 숨쉬기 어려워합니다. 의사는 #Person2#에게 증상을 확인하...  의사 상담  \n",
       "1   #Person1#는 Jimmy를 운동하러 초대하고 팔과 복근 운동을 하도록 설득합니다.  운동 계획  "
      ]
     },
     "metadata": {},
     "output_type": "display_data"
    }
   ],
   "source": [
    "display(train_df.head(2))\n",
    "display(val_df.head(2))"
   ]
  },
  {
   "cell_type": "code",
   "execution_count": null,
   "id": "c7ec06c7",
   "metadata": {},
   "outputs": [
    {
     "name": "stderr",
     "output_type": "stream",
     "text": [
      "746it [2:31:00,  9.18s/it]"
     ]
    }
   ],
   "source": [
    "train_results = retranslate_all(train_df)"
   ]
  },
  {
   "cell_type": "code",
   "execution_count": null,
   "id": "b3f0116f",
   "metadata": {},
   "outputs": [
    {
     "data": {
      "text/html": [
       "<div>\n",
       "<style scoped>\n",
       "    .dataframe tbody tr th:only-of-type {\n",
       "        vertical-align: middle;\n",
       "    }\n",
       "\n",
       "    .dataframe tbody tr th {\n",
       "        vertical-align: top;\n",
       "    }\n",
       "\n",
       "    .dataframe thead th {\n",
       "        text-align: right;\n",
       "    }\n",
       "</style>\n",
       "<table border=\"1\" class=\"dataframe\">\n",
       "  <thead>\n",
       "    <tr style=\"text-align: right;\">\n",
       "      <th></th>\n",
       "      <th>summary_solar</th>\n",
       "      <th>dialogue_ko2en</th>\n",
       "      <th>dialogue_en2ko</th>\n",
       "      <th>re_summary_solar</th>\n",
       "      <th>topic_solar</th>\n",
       "    </tr>\n",
       "  </thead>\n",
       "  <tbody>\n",
       "    <tr>\n",
       "      <th>0</th>\n",
       "      <td>Dr. Hawkins는 Mr. Smith를 반갑게 맞이하며 건강검진을 받으러 온 이...</td>\n",
       "      <td>주제: 건강검진, 흡연 경고</td>\n",
       "      <td>#Person1#: Hello, Mr. Smith. I'm Dr. Hawkins. ...</td>\n",
       "      <td>아래의 지침을 따라 주어진 영어 대화를 한국어로 번역해드리겠습니다.\\n지침:\\n1....</td>\n",
       "      <td>#Person1#: 안녕하세요, 스미스씨. 저는 박사 호킨스입니다. 오늘은 무슨 일...</td>\n",
       "    </tr>\n",
       "  </tbody>\n",
       "</table>\n",
       "</div>"
      ],
      "text/plain": [
       "                                       summary_solar   dialogue_ko2en  \\\n",
       "0  Dr. Hawkins는 Mr. Smith를 반갑게 맞이하며 건강검진을 받으러 온 이...  주제: 건강검진, 흡연 경고   \n",
       "\n",
       "                                      dialogue_en2ko  \\\n",
       "0  #Person1#: Hello, Mr. Smith. I'm Dr. Hawkins. ...   \n",
       "\n",
       "                                    re_summary_solar  \\\n",
       "0  아래의 지침을 따라 주어진 영어 대화를 한국어로 번역해드리겠습니다.\\n지침:\\n1....   \n",
       "\n",
       "                                         topic_solar  \n",
       "0  #Person1#: 안녕하세요, 스미스씨. 저는 박사 호킨스입니다. 오늘은 무슨 일...  "
      ]
     },
     "execution_count": 102,
     "metadata": {},
     "output_type": "execute_result"
    }
   ],
   "source": [
    "train_results.head(3)"
   ]
  },
  {
   "cell_type": "code",
   "execution_count": null,
   "id": "bf5e27b7",
   "metadata": {},
   "outputs": [],
   "source": [
    "train_results['fname'] = train_df['fname'].iloc[:len(train_results)]\n",
    "train_results.to_csv(os.path.join(PROJECT_DIR,\"data\",\"train_solar_results.csv\"), index=False)"
   ]
  },
  {
   "cell_type": "code",
   "execution_count": null,
   "id": "19ee5826",
   "metadata": {},
   "outputs": [],
   "source": [
    "val_results = retranslate_all(val_df)"
   ]
  },
  {
   "cell_type": "code",
   "execution_count": null,
   "id": "90c541f6",
   "metadata": {},
   "outputs": [],
   "source": [
    "val_results.head(3)"
   ]
  },
  {
   "cell_type": "code",
   "execution_count": null,
   "id": "5b9e41e3",
   "metadata": {},
   "outputs": [],
   "source": [
    "val_results['fname'] = val_df['fname'].iloc[:len(val_results)]\n",
    "val_results.to_csv(os.path.join(PROJECT_DIR,\"data\",\"val_solar_results.csv\"), index=False)"
   ]
  },
  {
   "cell_type": "code",
   "execution_count": 73,
   "id": "f3edf49c",
   "metadata": {},
   "outputs": [
    {
     "name": "stderr",
     "output_type": "stream",
     "text": [
      "/tmp/ipykernel_1918/1141706780.py:2: SettingWithCopyWarning: \n",
      "A value is trying to be set on a copy of a slice from a DataFrame.\n",
      "Try using .loc[row_indexer,col_indexer] = value instead\n",
      "\n",
      "See the caveats in the documentation: https://pandas.pydata.org/pandas-docs/stable/user_guide/indexing.html#returning-a-view-versus-a-copy\n",
      "  topics['len'] = topics['topic'].apply(lambda x: len(x.split(\" \")))\n",
      "/tmp/ipykernel_1918/1141706780.py:3: SettingWithCopyWarning: \n",
      "A value is trying to be set on a copy of a slice from a DataFrame.\n",
      "Try using .loc[row_indexer,col_indexer] = value instead\n",
      "\n",
      "See the caveats in the documentation: https://pandas.pydata.org/pandas-docs/stable/user_guide/indexing.html#returning-a-view-versus-a-copy\n",
      "  topics['보정'] = topics['len'] * 5.2\n"
     ]
    },
    {
     "data": {
      "text/html": [
       "<div>\n",
       "<style scoped>\n",
       "    .dataframe tbody tr th:only-of-type {\n",
       "        vertical-align: middle;\n",
       "    }\n",
       "\n",
       "    .dataframe tbody tr th {\n",
       "        vertical-align: top;\n",
       "    }\n",
       "\n",
       "    .dataframe thead th {\n",
       "        text-align: right;\n",
       "    }\n",
       "</style>\n",
       "<table border=\"1\" class=\"dataframe\">\n",
       "  <thead>\n",
       "    <tr style=\"text-align: right;\">\n",
       "      <th></th>\n",
       "      <th>topic</th>\n",
       "      <th>len</th>\n",
       "      <th>보정</th>\n",
       "    </tr>\n",
       "  </thead>\n",
       "  <tbody>\n",
       "    <tr>\n",
       "      <th>0</th>\n",
       "      <td>건강검진</td>\n",
       "      <td>1</td>\n",
       "      <td>5.2</td>\n",
       "    </tr>\n",
       "    <tr>\n",
       "      <th>1</th>\n",
       "      <td>백신 접종</td>\n",
       "      <td>2</td>\n",
       "      <td>10.4</td>\n",
       "    </tr>\n",
       "    <tr>\n",
       "      <th>2</th>\n",
       "      <td>열쇠 분실</td>\n",
       "      <td>2</td>\n",
       "      <td>10.4</td>\n",
       "    </tr>\n",
       "    <tr>\n",
       "      <th>3</th>\n",
       "      <td>여자친구와의 결혼</td>\n",
       "      <td>2</td>\n",
       "      <td>10.4</td>\n",
       "    </tr>\n",
       "    <tr>\n",
       "      <th>4</th>\n",
       "      <td>춤 제안</td>\n",
       "      <td>2</td>\n",
       "      <td>10.4</td>\n",
       "    </tr>\n",
       "  </tbody>\n",
       "</table>\n",
       "</div>"
      ],
      "text/plain": [
       "       topic  len    보정\n",
       "0       건강검진    1   5.2\n",
       "1      백신 접종    2  10.4\n",
       "2      열쇠 분실    2  10.4\n",
       "3  여자친구와의 결혼    2  10.4\n",
       "4       춤 제안    2  10.4"
      ]
     },
     "execution_count": 73,
     "metadata": {},
     "output_type": "execute_result"
    }
   ],
   "source": [
    "topics = train_df[['topic']]\n",
    "topics['len'] = topics['topic'].apply(lambda x: len(x.split(\" \")))\n",
    "topics['보정'] = topics['len'] * 5.2\n",
    "topics.head()"
   ]
  },
  {
   "cell_type": "code",
   "execution_count": 74,
   "id": "500f6208",
   "metadata": {},
   "outputs": [
    {
     "data": {
      "text/html": [
       "<div>\n",
       "<style scoped>\n",
       "    .dataframe tbody tr th:only-of-type {\n",
       "        vertical-align: middle;\n",
       "    }\n",
       "\n",
       "    .dataframe tbody tr th {\n",
       "        vertical-align: top;\n",
       "    }\n",
       "\n",
       "    .dataframe thead th {\n",
       "        text-align: right;\n",
       "    }\n",
       "</style>\n",
       "<table border=\"1\" class=\"dataframe\">\n",
       "  <thead>\n",
       "    <tr style=\"text-align: right;\">\n",
       "      <th></th>\n",
       "      <th>topic</th>\n",
       "      <th>len</th>\n",
       "      <th>보정</th>\n",
       "    </tr>\n",
       "  </thead>\n",
       "  <tbody>\n",
       "    <tr>\n",
       "      <th>6236</th>\n",
       "      <td>비행기 내 식사 주문 및 자리 변경 요청</td>\n",
       "      <td>8</td>\n",
       "      <td>41.6</td>\n",
       "    </tr>\n",
       "    <tr>\n",
       "      <th>6449</th>\n",
       "      <td>비행기 좌석 조절 및 귀 압력 문제 해결</td>\n",
       "      <td>8</td>\n",
       "      <td>41.6</td>\n",
       "    </tr>\n",
       "  </tbody>\n",
       "</table>\n",
       "</div>"
      ],
      "text/plain": [
       "                       topic  len    보정\n",
       "6236  비행기 내 식사 주문 및 자리 변경 요청    8  41.6\n",
       "6449  비행기 좌석 조절 및 귀 압력 문제 해결    8  41.6"
      ]
     },
     "execution_count": 74,
     "metadata": {},
     "output_type": "execute_result"
    }
   ],
   "source": [
    "topics[topics['len']==topics['len'].max()].head()"
   ]
  }
 ],
 "metadata": {
  "kernelspec": {
   "display_name": "Python 3 (ipykernel)",
   "language": "python",
   "name": "python3"
  },
  "language_info": {
   "codemirror_mode": {
    "name": "ipython",
    "version": 3
   },
   "file_extension": ".py",
   "mimetype": "text/x-python",
   "name": "python",
   "nbconvert_exporter": "python",
   "pygments_lexer": "ipython3",
   "version": "3.10.0"
  }
 },
 "nbformat": 4,
 "nbformat_minor": 5
}
