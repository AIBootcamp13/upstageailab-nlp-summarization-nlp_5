{
 "cells": [
  {
   "cell_type": "code",
   "execution_count": 16,
   "id": "f6a7f3f2",
   "metadata": {},
   "outputs": [],
   "source": [
    "# 모델의 구성 정보를 YAML 파일로 저장합니다.\n",
    "project_dir = \"/data/ephemeral/home/nlp-5/song/\"\n",
    "import os\n",
    "import sys\n",
    "sys.path.append(\n",
    "    project_dir\n",
    ")\n",
    "from src.utils.utils import *\n",
    "\n",
    "import pandas as pd\n",
    "pd.set_option('display.max_columns',None)\n",
    "pd.set_option('display.max_rows',None)\n",
    "\n",
    "train_df = pd.read_csv(os.path.join(project_dir, 'data','train.csv'))\n",
    "val_df = pd.read_csv(os.path.join(project_dir, 'data','dev.csv'))\n",
    "\n",
    "test_df = pd.read_csv(os.path.join(project_dir, 'data','test.csv'))\n",
    "sub_df = pd.read_csv(os.path.join(project_dir, 'outputs', 'exp_aug_0730191312', 'submission_0730191312-0.csv'))"
   ]
  },
  {
   "cell_type": "code",
   "execution_count": 17,
   "id": "c83fec07",
   "metadata": {},
   "outputs": [],
   "source": [
    "import re\n",
    "def clean_spaces(summary):\n",
    "    summary = summary.strip()\n",
    "    summary = re.sub(pattern=r'\\s+', repl=\" \", string=summary, flags=re.IGNORECASE)\n",
    "    return summary\n",
    "\n",
    "sub_df['summary'] = sub_df['summary'].apply(clean_spaces)"
   ]
  },
  {
   "cell_type": "code",
   "execution_count": 18,
   "id": "e74c932d",
   "metadata": {},
   "outputs": [],
   "source": [
    "sub_df.to_csv(os.path.join(project_dir, 'outputs', 'exp_aug_0730191312', 'submission_0730191312-1postprocess.csv'))"
   ]
  },
  {
   "cell_type": "code",
   "execution_count": null,
   "id": "5cd280c8",
   "metadata": {},
   "outputs": [],
   "source": []
  },
  {
   "cell_type": "code",
   "execution_count": null,
   "id": "4ccc42b3",
   "metadata": {},
   "outputs": [],
   "source": []
  }
 ],
 "metadata": {
  "kernelspec": {
   "display_name": "py311",
   "language": "python",
   "name": "python3"
  },
  "language_info": {
   "codemirror_mode": {
    "name": "ipython",
    "version": 3
   },
   "file_extension": ".py",
   "mimetype": "text/x-python",
   "name": "python",
   "nbconvert_exporter": "python",
   "pygments_lexer": "ipython3",
   "version": "3.11.0"
  }
 },
 "nbformat": 4,
 "nbformat_minor": 5
}
