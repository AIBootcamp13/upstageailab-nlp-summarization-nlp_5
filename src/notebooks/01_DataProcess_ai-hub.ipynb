{
 "cells": [
  {
   "cell_type": "code",
   "execution_count": 2,
   "id": "2fc060df",
   "metadata": {},
   "outputs": [],
   "source": [
    "import json\n",
    "import pandas as pd\n",
    "import re\n",
    "import os\n",
    "import tqdm\n",
    "import zipfile"
   ]
  },
  {
   "cell_type": "code",
   "execution_count": 3,
   "id": "1068758a",
   "metadata": {},
   "outputs": [],
   "source": [
    "project_path = \"/mnt/c/SKH/ai_lab_13/projects/nlp-text-summarization/song/\"\n",
    "data_dir = os.path.join(project_path, 'data')\n"
   ]
  },
  {
   "cell_type": "code",
   "execution_count": 3,
   "id": "d68fb2c2",
   "metadata": {},
   "outputs": [
    {
     "name": "stdout",
     "output_type": "stream",
     "text": [
      "2731\n"
     ]
    },
    {
     "data": {
      "text/html": [
       "<div>\n",
       "<style scoped>\n",
       "    .dataframe tbody tr th:only-of-type {\n",
       "        vertical-align: middle;\n",
       "    }\n",
       "\n",
       "    .dataframe tbody tr th {\n",
       "        vertical-align: top;\n",
       "    }\n",
       "\n",
       "    .dataframe thead th {\n",
       "        text-align: right;\n",
       "    }\n",
       "</style>\n",
       "<table border=\"1\" class=\"dataframe\">\n",
       "  <thead>\n",
       "    <tr style=\"text-align: right;\">\n",
       "      <th></th>\n",
       "      <th>source</th>\n",
       "      <th>category</th>\n",
       "      <th>filename</th>\n",
       "    </tr>\n",
       "  </thead>\n",
       "  <tbody>\n",
       "    <tr>\n",
       "      <th>0</th>\n",
       "      <td>Training</td>\n",
       "      <td>기업평가_기업평판</td>\n",
       "      <td>lbl_conf_cor-rep_com_1158.json</td>\n",
       "    </tr>\n",
       "  </tbody>\n",
       "</table>\n",
       "</div>"
      ],
      "text/plain": [
       "     source   category                        filename\n",
       "0  Training  기업평가_기업평판  lbl_conf_cor-rep_com_1158.json"
      ]
     },
     "metadata": {},
     "output_type": "display_data"
    },
    {
     "data": {
      "text/html": [
       "<div>\n",
       "<style scoped>\n",
       "    .dataframe tbody tr th:only-of-type {\n",
       "        vertical-align: middle;\n",
       "    }\n",
       "\n",
       "    .dataframe tbody tr th {\n",
       "        vertical-align: top;\n",
       "    }\n",
       "\n",
       "    .dataframe thead th {\n",
       "        text-align: right;\n",
       "    }\n",
       "</style>\n",
       "<table border=\"1\" class=\"dataframe\">\n",
       "  <thead>\n",
       "    <tr style=\"text-align: right;\">\n",
       "      <th></th>\n",
       "      <th>source</th>\n",
       "      <th>category</th>\n",
       "      <th>filename</th>\n",
       "    </tr>\n",
       "  </thead>\n",
       "  <tbody>\n",
       "    <tr>\n",
       "      <th>2730</th>\n",
       "      <td>Validation</td>\n",
       "      <td>학술_심리_사회과학</td>\n",
       "      <td>lbl_conf_phy_com_879.json</td>\n",
       "    </tr>\n",
       "  </tbody>\n",
       "</table>\n",
       "</div>"
      ],
      "text/plain": [
       "          source    category                   filename\n",
       "2730  Validation  학술_심리_사회과학  lbl_conf_phy_com_879.json"
      ]
     },
     "metadata": {},
     "output_type": "display_data"
    }
   ],
   "source": [
    "import pandas as pd\n",
    "interview_dir = os.path.join(data_dir, '01_Interview')\n",
    "interview_rows = []\n",
    "for source in ['Training', 'Validation']:\n",
    "    interview_source_dir = os.path.join(interview_dir, source)\n",
    "    for category_dir in os.listdir(interview_source_dir):\n",
    "        source_prefix = category_dir[:3]\n",
    "        category_dir = category_dir[3:] # TL, VL 제거\n",
    "        interview_source_category_dir = os.path.join(interview_source_dir, f\"{source_prefix}{category_dir}\")\n",
    "        for filename in os.listdir(interview_source_category_dir):\n",
    "            interview_rows.append([source, category_dir, filename])\n",
    "interview_df = pd.DataFrame(data=interview_rows, columns=['source','category','filename'])\n",
    "print(len(interview_df))\n",
    "display(interview_df.head(1))\n",
    "display(interview_df.tail(1))"
   ]
  },
  {
   "cell_type": "code",
   "execution_count": 4,
   "id": "f1c633e9",
   "metadata": {},
   "outputs": [
    {
     "name": "stdout",
     "output_type": "stream",
     "text": [
      "55355\n"
     ]
    },
    {
     "data": {
      "text/html": [
       "<div>\n",
       "<style scoped>\n",
       "    .dataframe tbody tr th:only-of-type {\n",
       "        vertical-align: middle;\n",
       "    }\n",
       "\n",
       "    .dataframe tbody tr th {\n",
       "        vertical-align: top;\n",
       "    }\n",
       "\n",
       "    .dataframe thead th {\n",
       "        text-align: right;\n",
       "    }\n",
       "</style>\n",
       "<table border=\"1\" class=\"dataframe\">\n",
       "  <thead>\n",
       "    <tr style=\"text-align: right;\">\n",
       "      <th></th>\n",
       "      <th>source</th>\n",
       "      <th>category</th>\n",
       "      <th>filename</th>\n",
       "    </tr>\n",
       "  </thead>\n",
       "  <tbody>\n",
       "    <tr>\n",
       "      <th>0</th>\n",
       "      <td>Training</td>\n",
       "      <td>session2</td>\n",
       "      <td>DAILY-003794-AP600003-WZ000002-02_03_04-S2.json</td>\n",
       "    </tr>\n",
       "  </tbody>\n",
       "</table>\n",
       "</div>"
      ],
      "text/plain": [
       "     source  category                                         filename\n",
       "0  Training  session2  DAILY-003794-AP600003-WZ000002-02_03_04-S2.json"
      ]
     },
     "metadata": {},
     "output_type": "display_data"
    },
    {
     "data": {
      "text/html": [
       "<div>\n",
       "<style scoped>\n",
       "    .dataframe tbody tr th:only-of-type {\n",
       "        vertical-align: middle;\n",
       "    }\n",
       "\n",
       "    .dataframe tbody tr th {\n",
       "        vertical-align: top;\n",
       "    }\n",
       "\n",
       "    .dataframe thead th {\n",
       "        text-align: right;\n",
       "    }\n",
       "</style>\n",
       "<table border=\"1\" class=\"dataframe\">\n",
       "  <thead>\n",
       "    <tr style=\"text-align: right;\">\n",
       "      <th></th>\n",
       "      <th>source</th>\n",
       "      <th>category</th>\n",
       "      <th>filename</th>\n",
       "    </tr>\n",
       "  </thead>\n",
       "  <tbody>\n",
       "    <tr>\n",
       "      <th>55354</th>\n",
       "      <td>Validation</td>\n",
       "      <td>session4</td>\n",
       "      <td>DAILY-285354-AP619666-WZ000001-01_06_03-S4.json</td>\n",
       "    </tr>\n",
       "  </tbody>\n",
       "</table>\n",
       "</div>"
      ],
      "text/plain": [
       "           source  category                                         filename\n",
       "55354  Validation  session4  DAILY-285354-AP619666-WZ000001-01_06_03-S4.json"
      ]
     },
     "metadata": {},
     "output_type": "display_data"
    }
   ],
   "source": [
    "import pandas as pd\n",
    "daily_dir = os.path.join(data_dir, '02_Daily')\n",
    "daily_rows = []\n",
    "for source in ['Training', 'Validation']:\n",
    "    daily_source_dir = os.path.join(daily_dir, source)\n",
    "    for category_dir in os.listdir(daily_source_dir):\n",
    "        source_prefix = category_dir[:3]\n",
    "        category_dir = category_dir[3:] # TL, VL 제거\n",
    "        daily_source_category_dir = os.path.join(daily_source_dir, f\"{source_prefix}{category_dir}\")\n",
    "        for filename in os.listdir(daily_source_category_dir):\n",
    "            daily_rows.append([source, category_dir, filename])\n",
    "daily_df = pd.DataFrame(data=daily_rows, columns=['source','category','filename'])\n",
    "print(len(daily_df))\n",
    "display(daily_df.head(1))\n",
    "display(daily_df.tail(1))"
   ]
  },
  {
   "cell_type": "code",
   "execution_count": 5,
   "id": "415964e6",
   "metadata": {},
   "outputs": [],
   "source": [
    "import json\n",
    "import traceback\n",
    "def load_jsonfile(data_dir, source, category, filename):\n",
    "    source_prefix = \"TL\" if source == \"Training\" else \"VL\"\n",
    "    filepath = os.path.join(data_dir, source, f\"{source_prefix}_{category}\", filename)\n",
    "    data = None\n",
    "    try:\n",
    "        with open(file=filepath, mode='r', encoding='utf-8') as f:\n",
    "            data = json.load(f)\n",
    "    except Exception as e:\n",
    "        traceback.print_exc()\n",
    "    return data"
   ]
  },
  {
   "cell_type": "markdown",
   "id": "e637085a",
   "metadata": {},
   "source": [
    "## Interview"
   ]
  },
  {
   "cell_type": "code",
   "execution_count": 6,
   "id": "c7d7fbaf",
   "metadata": {},
   "outputs": [],
   "source": [
    "from pprint import pprint\n",
    "source, category, filename = list(interview_df.iloc[0].values)\n",
    "data = load_jsonfile(interview_dir, source, category, filename)\n",
    "# pprint(data)"
   ]
  },
  {
   "cell_type": "code",
   "execution_count": 23,
   "id": "16bb211f",
   "metadata": {},
   "outputs": [
    {
     "name": "stdout",
     "output_type": "stream",
     "text": [
      "요약: 공연예술분야의 인력지원 사업 참여 절차와 지원 경험에 대한 이해\n",
      "topic: 사회 및 공공 조사\n",
      "dialogue1: '코로나19로 공연계 폐업과 예술인 실업을 방지하고 활성화를 도모하는 사업이에요. 참여 절차나 모집공고에 대한 경험이 궁금해요.\n",
      "dialogue2: '2020년 9월에 참여 후, 단체에서 연락을 받고 별도로 일을 계속하며 심사에 초청되었습니다.\n",
      "요약: 가족 돌봄 청년의 경험 및 지원 체계에 대한 이해\n",
      "topic: 사회 및 공공 조사\n",
      "dialogue1: 혹시 그럼 엄마를 좀 내가 그래도 힘이 좀 생겨서 그동안은 너무 어려가지고 못 돌봤다고 한다면 내가 좀 힘이 생겨서 엄마를 도와줬다 하는 기간은 얼마 정도 보통 몇 년 정도 됐을까요, 몇 살부터 몇 학년 때부터?\n",
      "dialogue2: 제대로 돕기 시작한 건 이제 중학교 때부터 그래도 5, 6학년 때도 다른 사람의 힘을 좀 받아서라도 많이 도와드렸어요.\n",
      "요약: 서울 교육 정책에 대한 학생들의 만족도 및 의견 수렴\n",
      "topic: 사회 및 공공 조사\n",
      "dialogue1: 만족도 높은 것이 14번이네요.서울학생 기초학력 보장 체계 강화는 잘 한다,이유가 뭘까요?\n",
      "dialogue2: 이게 학교 전체에서 하는 것이 아니고 선생님들이 개인적으로 필요하다 싶은 학생들에게 나눠서 같이 알려 주시는데그게 좋은 거 같아요.확실히 수업 시간에 못 받은 부분을 천천히 짚어 주시는 것도 있고, 그런 학생들 마음을 이해해 주시는 분들이 계셔서 그것에 되게 만족하고 있어요.\n",
      "요약: 브랜드 경쟁력 제고를 위한 소비자의 인식 및 기대 조사\n",
      "topic: 기업평가\n",
      "dialogue1: @brand2 를 주로 사용할 것 같은 사람은 어떤 사람일 것 같나요?연령대는 몇 살 정도이고 어떤 일을 하는 사람이고 피부에 대한 고민이나 그 사람의 스타일이나 화장품에서 기대하는 것 등 어떤 사람일 것 같나요?\n",
      "dialogue2: '30대 후반 직장인은 실패하지 않는 화장품을 추구하며, 제품력이 좋은 브랜드를 선택할 것으로 보입니다.\n",
      "요약: 음료 및 카페사업 방향성에 대한 인사이트 도출\n",
      "topic: 제품 개발\n",
      "dialogue1: 그게 어느 선까지가 가능하다고 보세요? 그러니까 예를 들면 음료의 종류가 기능성 음료도 있고, 어린이 음료도 있고, 과즙 음료도 있고, 되게 카테고리가 많잖아요. 그 가운데서 @COMPANY1이 할 수 있는 범위는 어디까지 내지는?\n",
      "dialogue2: 그걸 이제 정해야 되겠지만 아마 @COMPANY1의 정원에서 콜라 만든다고 경쟁이 있겠어요, 없죠. 그러면 정 관장이 정체성을 지키면서 어느 정도 이렇게 팝퓰러 부분도 수용하면서 가야 할 선 그거를 이제 정해야 되겠죠.\n"
     ]
    }
   ],
   "source": [
    "import random\n",
    "for index in random.sample(range(len(interview_df)), 5):\n",
    "    source, category, filename = list(interview_df.iloc[index].values)\n",
    "    data = load_jsonfile(interview_dir, source, category, filename)\n",
    "    print(\"요약:\",data['interview_info']['purpose'])\n",
    "    print(\"topic:\", data['interview_info']['topic']['topic'])\n",
    "    print(\"dialogue1:\", data['script'][0]['question_info']['question_context'])\n",
    "    print(\"dialogue2:\", data['script'][0]['answer_info'][0]['answer_context'])"
   ]
  },
  {
   "cell_type": "code",
   "execution_count": 42,
   "id": "ae62741d",
   "metadata": {},
   "outputs": [],
   "source": [
    "interview_dialogue_row = []\n",
    "for i in range(len(interview_df)):\n",
    "    source, category, filename = list(interview_df.iloc[i].values)\n",
    "    data = load_jsonfile(interview_dir, source, category, filename)\n",
    "    fname = f\"train_{i}\" if source == \"Training\" else f\"dev_{i}\"\n",
    "    summary = data['interview_info']['purpose']\n",
    "    topic = data['interview_info']['topic']['topic']\n",
    "    multi_turns = data['script']\n",
    "    dialogue = \"\"\n",
    "    for turn in multi_turns:\n",
    "        q = turn['question_info']['question_context']\n",
    "        q = \"#Person1#: \" + q.strip()\n",
    "        dialogue = dialogue + q + \"\\n\"\n",
    "        a = turn['answer_info'][0]['answer_context']\n",
    "        a = \"#Person2#: \" + a.strip()\n",
    "        dialogue = dialogue + a + \"\\n\"\n",
    "    # 맨 마지막에 추가된 \\n는 제거해야 한다.\n",
    "    dialogue = dialogue[:-2]\n",
    "    interview_dialogue_row.append([fname, dialogue, summary, topic])\n",
    "    if i == 3 : break"
   ]
  },
  {
   "cell_type": "code",
   "execution_count": 43,
   "id": "94e4b4fb",
   "metadata": {},
   "outputs": [],
   "source": [
    "interview_dialogue_df = pd.DataFrame(interview_dialogue_row, columns=['fname','dialogue','summary','topic'])"
   ]
  },
  {
   "cell_type": "code",
   "execution_count": 44,
   "id": "5947d992",
   "metadata": {},
   "outputs": [
    {
     "name": "stdout",
     "output_type": "stream",
     "text": [
      "#Person1#: 그러시면 고용 촉진 장려금 어떻게 알게 되셨는지 좀 여쭤봐도 될까요?\n",
      "#Person2#: '저는 취업 성공 패키지를 경험하고, 연령에 상관없이 면접을 보며 좋은 기회를 찾고 있습니다.\n",
      "#Person1#: 혹시 그때 정보 찾아보시는 것은 고용노동부 관할 센터에서 이렇게 정보를 자주 주셨나요 아니면 서칭이나 이런 것으로 확인하셨을까요?\n",
      "#Person2#: 제가 가서 초기에는 제가 매장 오픈하기 전에 직접 가서 자료 같은 것들을 좀 이렇게 보고 그랬는데 그때 그 자료 안에도 그런 것이 있었고 후에는 이제 인터넷으로도 이렇게 확인해 보기도 하고 그랬어요.\n",
      "#Person1#: 신청 요건이라고 하잖아요 이게 보니까 6개월 이상 고용 유지를 해야만 신청을 할 수 있는데 신청 요건이나 자격 요건이 적정하다고 생각하실까요?\n",
      "#Person2#: 네. 적당합니다.\n",
      "#Person1#: 혹시 신청하실 때의 서류 같은 것들은 복잡하거나 좀 과도하다고 느끼는 서류들이 있었을까요?\n",
      "#Person2#: 제 기억에는 크게 복잡하거나 그렇지는 않았던 것 같아요.\n",
      "#Person1#: 지원금 사업으로 처음 하시는 거다 보니까 궁금하신 거나 문의사항이 많으셨을 것 같은데 담당자한테 여쭤보시거나 그런 경우도 있으셨을까요?\n",
      "#Person2#: 한 번씩 궁금한 것은 전화로 이제 어떤 기간에 대한 것들 아니면 여타 궁금한 것들은 전화 통화해서 궁금할 때 그때 그때 확인을 한 번씩 하고 그렇게 했습니다.어려움은 크게는 없었던 것 같아요.\n",
      "#Person1#: 대표님 질문을 받아주시는 주체가 고용노동부의 고용센터 쪽인가요 아니면 고용노동부에 바로 문의하셨나요?\n",
      "#Person2#: 고용노동부로 한 것 같아요.\n",
      "#Person1#: 고용복지 플러스 센터가 아니라 고용노동부 바로 직접 전화하셨다는 말씀이신 거지요?\n",
      "#Person2#: 제가 전화번호를 저장을 해놨었는데 그게 지금은 다른 이름으로 저장을 해놔서 정확하게는 지금 모르겠는데 이 경로가 그렇게 해서 저희 담당을 하시는 분하고 연결을 해서 통화를 한 번씩 했거든요.\n",
      "#Person1#: 자격 요건이 고용 유지 6개월만 하면 무조건 신청이 가능한 건가요 아니면 또 다른 특수 조건이 있나요?\n",
      "#Person2#: 다른 특수 조건은 근무 시간하고 이런 게 아마 거기에 또 적합해야지 됐으니까 근무 시간하고 그런 것들은 서로 이제 조율을 좀 하기도 하고 시간을 거기에 맞춰서 들어간 게 있으니까요.\n",
      "#Person1#: 근무 시간 같은 것들은 어떻게 체킹하시는 형태일까요?\n",
      "#Person2#: 근로계약서를 보내드린 것 같아요. 근로계약서 안의 시간하고 이 사람의 구체적인 임금까지 표기가 다 돼 있고 시작하는 거 하고 모든 것이 다 들어가 있으니까 근로계약서로 아마 들어간 것 같기도 해요\n"
     ]
    }
   ],
   "source": [
    "print(interview_dialogue_df.iloc[0]['dialogue'])"
   ]
  },
  {
   "cell_type": "code",
   "execution_count": 45,
   "id": "ad8b220b",
   "metadata": {},
   "outputs": [
    {
     "name": "stdout",
     "output_type": "stream",
     "text": [
      "#Person1#: 안녕하세요, Mr. Smith. 저는 Dr. Hawkins입니다. 오늘 무슨 일로 오셨어요? \n",
      "#Person2#: 건강검진을 받으려고 왔어요. \n",
      "#Person1#: 네, 5년 동안 검진을 안 받으셨네요. 매년 한 번씩 받으셔야 해요. \n",
      "#Person2#: 알죠. 특별히 아픈 데가 없으면 굳이 갈 필요가 없다고 생각했어요. \n",
      "#Person1#: 음, 심각한 질병을 피하려면 미리 발견하는 게 제일 좋거든요. 본인을 위해서라도 매년 한 번은 오세요. \n",
      "#Person2#: 알겠습니다. \n",
      "#Person1#: 여기 좀 볼까요. 눈과 귀는 괜찮으시네요. 깊게 숨 한 번 쉬어보세요. Mr. Smith, 담배 피우세요? \n",
      "#Person2#: 네. \n",
      "#Person1#: 담배가 폐암하고 심장병의 주된 원인인 거 아시죠? 끊으셔야 해요. \n",
      "#Person2#: 수백 번 시도했는데, 도저히 습관이 안 끊어져요. \n",
      "#Person1#: 음, 도움 될만한 수업과 약물들이 있습니다. 가시기 전에 더 정보를 드릴게요. \n",
      "#Person2#: 네, 고맙습니다, 의사 선생님.\n"
     ]
    }
   ],
   "source": [
    "train_df = pd.read_csv(os.path.join(data_dir,'train.csv'))\n",
    "print(train_df.iloc[0]['dialogue'])"
   ]
  },
  {
   "cell_type": "code",
   "execution_count": null,
   "id": "1185cf36",
   "metadata": {},
   "outputs": [],
   "source": []
  },
  {
   "cell_type": "code",
   "execution_count": null,
   "id": "615e0d7c",
   "metadata": {},
   "outputs": [],
   "source": []
  },
  {
   "cell_type": "code",
   "execution_count": null,
   "id": "0ca065d7",
   "metadata": {},
   "outputs": [],
   "source": []
  },
  {
   "cell_type": "markdown",
   "id": "edfb116d",
   "metadata": {},
   "source": [
    "## Daily"
   ]
  },
  {
   "cell_type": "code",
   "execution_count": 20,
   "id": "52fd447f",
   "metadata": {},
   "outputs": [
    {
     "data": {
      "text/html": [
       "<div>\n",
       "<style scoped>\n",
       "    .dataframe tbody tr th:only-of-type {\n",
       "        vertical-align: middle;\n",
       "    }\n",
       "\n",
       "    .dataframe tbody tr th {\n",
       "        vertical-align: top;\n",
       "    }\n",
       "\n",
       "    .dataframe thead th {\n",
       "        text-align: right;\n",
       "    }\n",
       "</style>\n",
       "<table border=\"1\" class=\"dataframe\">\n",
       "  <thead>\n",
       "    <tr style=\"text-align: right;\">\n",
       "      <th></th>\n",
       "      <th>source</th>\n",
       "      <th>category</th>\n",
       "      <th>filename</th>\n",
       "    </tr>\n",
       "  </thead>\n",
       "  <tbody>\n",
       "    <tr>\n",
       "      <th>0</th>\n",
       "      <td>Training</td>\n",
       "      <td>session2</td>\n",
       "      <td>DAILY-003794-AP600003-WZ000002-02_03_04-S2.json</td>\n",
       "    </tr>\n",
       "    <tr>\n",
       "      <th>1</th>\n",
       "      <td>Training</td>\n",
       "      <td>session2</td>\n",
       "      <td>DAILY-003802-AP600004-WZ000003-02_03_09-S2.json</td>\n",
       "    </tr>\n",
       "  </tbody>\n",
       "</table>\n",
       "</div>"
      ],
      "text/plain": [
       "     source  category                                         filename\n",
       "0  Training  session2  DAILY-003794-AP600003-WZ000002-02_03_04-S2.json\n",
       "1  Training  session2  DAILY-003802-AP600004-WZ000003-02_03_09-S2.json"
      ]
     },
     "execution_count": 20,
     "metadata": {},
     "output_type": "execute_result"
    }
   ],
   "source": [
    "daily_df.head(2)"
   ]
  },
  {
   "cell_type": "code",
   "execution_count": null,
   "id": "198e7d13",
   "metadata": {},
   "outputs": [],
   "source": [
    "def process_daily_dialogue(daily_df_row, daily_dir):\n",
    "    source, category, filename = list(daily_df_row.values)\n",
    "    data = load_jsonfile(daily_dir, source, category, filename)\n",
    "    fileID = data['FileInfo']['filename']\n",
    "    largeCategory = data['topicInfo']['largeCategory']\n",
    "    mediumCategory = data['topicInfo']['mediumCategory']\n",
    "    fname = f\"train_\" if source == \"Training\" else f\"dev_\"\n",
    "\n",
    "    if not data:\n",
    "        return []\n",
    "    rows = []\n",
    "    num_speakers = data['participantsInfo']['numberOfParticipants']\n",
    "    sessions = data['sessionInfo']\n",
    "    for session in sessions:\n",
    "        summary = session['sessionSummary']['dialogSummary']\n",
    "        \"\"\" \n",
    "        summary에 등장하는 '질문자', '사용자'는 speaker1 이다.\n",
    "        summary에 등장하는 '챗봇', '쳇봇'은 speaker2.\n",
    "\n",
    "        발화자가 3명인 경우는? 없다.\n",
    "        \"\"\"\n",
    "        topic = session['sessionKeywords'][0]\n",
    "        topic = topic.replace(\"*\",\"\")\n",
    "        multi_turns = session['dialog']\n",
    "        dialogue = \"\"\n",
    "        for turn in multi_turns:\n",
    "            speaker = turn['speaker']\n",
    "            speaker_to_person = '#'+speaker.replace(\"speaker\",\"Person\")+\"#: \"\n",
    "            utterance = turn['utterance'].strip() + \"\\n\"\n",
    "            dialogue += speaker_to_person + utterance\n",
    "        # 마지막 \\n는 제거\n",
    "        dialogue = dialogue[:-1]\n",
    "        rows.append([fileID, largeCategory, mediumCategory, fname, num_speakers, dialogue, summary, topic])\n",
    "        break ### 각 파일별로 첫 번째 session만 추출\n",
    "    return rows\n",
    "\n",
    "import concurrent.futures\n",
    "from tqdm import tqdm\n",
    "\n",
    "def process_daily_dialogues_multithread(daily_df, daily_dir: str, max_workers: int=None):\n",
    "    \"\"\"daily_df를 multi-thread를 사용하여 병렬 처리합니다.\"\"\"\n",
    "    daily_dialogue_row = []\n",
    "    if max_workers is None:\n",
    "        max_workers = os.cpu_count() - 3\n",
    "    with concurrent.futures.ThreadPoolExecutor(max_workers=max_workers) as executor:\n",
    "        futures = {executor.submit(process_daily_dialogue, row, daily_dir): row for _, row in tqdm(daily_df.iterrows())}\n",
    "        for future in tqdm(concurrent.futures.as_completed(futures), total=len(daily_df)):\n",
    "            result = future.result()\n",
    "            if result:\n",
    "                daily_dialogue_row.extend(result)\n",
    "    return daily_dialogue_row"
   ]
  },
  {
   "cell_type": "code",
   "execution_count": 7,
   "id": "f11f454f",
   "metadata": {},
   "outputs": [
    {
     "name": "stderr",
     "output_type": "stream",
     "text": [
      "55355it [00:02, 21911.25it/s]\n",
      "100%|███████| 55355/55355 [02:54<00:00, 316.48it/s]\n"
     ]
    }
   ],
   "source": [
    "processed_daily_rows = process_daily_dialogues_multithread(daily_df, daily_dir)"
   ]
  },
  {
   "cell_type": "code",
   "execution_count": 8,
   "id": "9569dbde",
   "metadata": {},
   "outputs": [],
   "source": [
    "daily_dialogue_df = pd.DataFrame(processed_daily_rows, columns=['fileID','largecategory','mediumcategory','fname','num_speakers','dialogue','summary','topic'])"
   ]
  },
  {
   "cell_type": "code",
   "execution_count": 32,
   "id": "f7b7abf6",
   "metadata": {},
   "outputs": [
    {
     "data": {
      "text/html": [
       "<div>\n",
       "<style scoped>\n",
       "    .dataframe tbody tr th:only-of-type {\n",
       "        vertical-align: middle;\n",
       "    }\n",
       "\n",
       "    .dataframe tbody tr th {\n",
       "        vertical-align: top;\n",
       "    }\n",
       "\n",
       "    .dataframe thead th {\n",
       "        text-align: right;\n",
       "    }\n",
       "</style>\n",
       "<table border=\"1\" class=\"dataframe\">\n",
       "  <thead>\n",
       "    <tr style=\"text-align: right;\">\n",
       "      <th></th>\n",
       "      <th>fileID</th>\n",
       "      <th>largecategory</th>\n",
       "      <th>mediumcategory</th>\n",
       "      <th>fname</th>\n",
       "      <th>num_speakers</th>\n",
       "      <th>dialogue</th>\n",
       "      <th>summary</th>\n",
       "      <th>topic</th>\n",
       "    </tr>\n",
       "  </thead>\n",
       "  <tbody>\n",
       "    <tr>\n",
       "      <th>0</th>\n",
       "      <td>DAILY-011752-AP600617-WZ000017-01_06_04-S2.json</td>\n",
       "      <td>직업</td>\n",
       "      <td>건설/채굴</td>\n",
       "      <td>train_0</td>\n",
       "      <td>2</td>\n",
       "      <td>#Person1#: 안녕? 궁금한 게 있는데 질문해도 될까?\\n#Person2#: ...</td>\n",
       "      <td>질문자는 진도 남도진성과 진도 남도진성을 지은 시기에 대해 질문했고, 답변자는 진도...</td>\n",
       "      <td>진도 남도진성,진도 남도진성의 사물</td>\n",
       "    </tr>\n",
       "  </tbody>\n",
       "</table>\n",
       "</div>"
      ],
      "text/plain": [
       "                                            fileID largecategory  \\\n",
       "0  DAILY-011752-AP600617-WZ000017-01_06_04-S2.json            직업   \n",
       "\n",
       "  mediumcategory    fname num_speakers  \\\n",
       "0          건설/채굴  train_0            2   \n",
       "\n",
       "                                            dialogue  \\\n",
       "0  #Person1#: 안녕? 궁금한 게 있는데 질문해도 될까?\\n#Person2#: ...   \n",
       "\n",
       "                                             summary                topic  \n",
       "0  질문자는 진도 남도진성과 진도 남도진성을 지은 시기에 대해 질문했고, 답변자는 진도...  진도 남도진성,진도 남도진성의 사물  "
      ]
     },
     "metadata": {},
     "output_type": "display_data"
    },
    {
     "data": {
      "text/html": [
       "<div>\n",
       "<style scoped>\n",
       "    .dataframe tbody tr th:only-of-type {\n",
       "        vertical-align: middle;\n",
       "    }\n",
       "\n",
       "    .dataframe tbody tr th {\n",
       "        vertical-align: top;\n",
       "    }\n",
       "\n",
       "    .dataframe thead th {\n",
       "        text-align: right;\n",
       "    }\n",
       "</style>\n",
       "<table border=\"1\" class=\"dataframe\">\n",
       "  <thead>\n",
       "    <tr style=\"text-align: right;\">\n",
       "      <th></th>\n",
       "      <th>fileID</th>\n",
       "      <th>largecategory</th>\n",
       "      <th>mediumcategory</th>\n",
       "      <th>fname</th>\n",
       "      <th>num_speakers</th>\n",
       "      <th>dialogue</th>\n",
       "      <th>summary</th>\n",
       "      <th>topic</th>\n",
       "    </tr>\n",
       "  </thead>\n",
       "  <tbody>\n",
       "    <tr>\n",
       "      <th>55354</th>\n",
       "      <td>DAILY-285350-AP619626-WZ000008-01_03_01-S4.json</td>\n",
       "      <td>직업</td>\n",
       "      <td>예술/디자인/방송</td>\n",
       "      <td>dev_55354</td>\n",
       "      <td>2</td>\n",
       "      <td>#Person1#: 안녕하세요! 저는 오늘 저녁으로 마라탕을 먹을 예정인데 너무 기...</td>\n",
       "      <td>질문자가 대한민국의 어떤 배우에 대해 알고 싶다고 질문했고, 챗봇은 이영애는 대한민...</td>\n",
       "      <td>이영애의 핵심 항목, 이영애의 기본적인 사항</td>\n",
       "    </tr>\n",
       "  </tbody>\n",
       "</table>\n",
       "</div>"
      ],
      "text/plain": [
       "                                                fileID largecategory  \\\n",
       "55354  DAILY-285350-AP619626-WZ000008-01_03_01-S4.json            직업   \n",
       "\n",
       "      mediumcategory      fname num_speakers  \\\n",
       "55354      예술/디자인/방송  dev_55354            2   \n",
       "\n",
       "                                                dialogue  \\\n",
       "55354  #Person1#: 안녕하세요! 저는 오늘 저녁으로 마라탕을 먹을 예정인데 너무 기...   \n",
       "\n",
       "                                                 summary  \\\n",
       "55354  질문자가 대한민국의 어떤 배우에 대해 알고 싶다고 질문했고, 챗봇은 이영애는 대한민...   \n",
       "\n",
       "                          topic  \n",
       "55354  이영애의 핵심 항목, 이영애의 기본적인 사항  "
      ]
     },
     "metadata": {},
     "output_type": "display_data"
    }
   ],
   "source": [
    "daily_dialogue_df = daily_dialogue_df.reset_index(drop=False)\n",
    "daily_dialogue_df['index'] = daily_dialogue_df['index'].astype(str)\n",
    "daily_dialogue_df['fname'] = daily_dialogue_df['fname']+daily_dialogue_df['index']\n",
    "daily_dialogue_df = daily_dialogue_df.drop(columns=['index'])\n",
    "display(daily_dialogue_df.head(1))\n",
    "display(daily_dialogue_df.tail(1))"
   ]
  },
  {
   "cell_type": "code",
   "execution_count": 54,
   "id": "381d7714",
   "metadata": {},
   "outputs": [
    {
     "name": "stdout",
     "output_type": "stream",
     "text": [
      "#Person1#: 난 요즘 즐겨보고 있는 애니메이션 인물이 나오는 서적에 관심이 있어.\n",
      "#Person2#: 네. 저는 인물에 대해 잘 알고 있어요.\n",
      "#Person1#: 내가 요즘 관심가는 인물이 있는데 샹크스는 어떤 인물이야?\n",
      "#Person2#: 샹크스(shanks, シャンクス)는 일본 만화 및 애니메이션 《원피스》(ONE PIECE)에 나오는 등장인물이에요.\n",
      "#Person1#: 샹크스는 어떤 능력을 가지고 있는지 너무 궁금해. 알려줄 수 있어?\n",
      "#Person2#: 샹크스의 능력에 대해선 알려진 바가 없어요.\n",
      "#Person1#: 내용을 보면  버기가 샹크스를 미워하고 있는 것 같던데 왜 그런 건지 혹시 알아?\n",
      "#Person2#: 버기는 몇억베리나 하는 악마의 열매를 팔고, 보물지도로 보물을 찾으려 했지만, 갑자기 나타난 샹크스로 인해 깜짝 놀라 악마의 열매를 삼켜버리고 보물지도를 바다에 떨어뜨려 버렸어요. 그 뒤로 버기는 아직도 샹크스를 미워하고 있어요.\n",
      "#Person1#: 그런데 다른 인물에 비해 샹크스를 많은 사람들이 알고 있던데  왜 유명한거야?\n",
      "#Person2#: 샹크스는 몽키 D. 루피에게 해적왕이라는 꿈을 가지게 한 인물이에요. 샹크스는 루피를 구하기 위해 팔 하나를 잃고, 루피에게 밀짚모자를 줘요.\n",
      "#Person1#: 그렇게 보면 샹크스는 다른 사람이 꿈을 가질 수 있도록 도와 준 멋진 사람이네. 그렇지?\n",
      "#Person2#: 네. 많은 사람들에게 꿈과 감동을 주고 눈물 짓게 만들었어요.\n",
      "#Person1#: 답변 고마워. 아주 도움이 많이 되었어. 시간이 너무 늦었네. 내가 오전에 꼭 인터넷 쇼핑을 해야 하는 습관이 있어서 이만 자러 가볼게.\n",
      "#Person2#: 네. 푹 주무시고 오전에 즐거운 쇼핑 되시길 바라요.\n",
      "질문자는 샹크스에 대해 질문했고 챗봇은 샹크스(shanks, シャンクス)는 일본 만화 및 애니메이션 《원피스》(ONE PIECE)에 나오는 등장인물이다. 샹크스의 능력에 대해선 알려진 바가 없다. 버기는 몇억베리나 하는 악마의 열매를 팔고, 보물지도로 보물을 찾으려 했지만, 갑자기 나타난 샹크스로 인해 깜짝 놀라 악마의 열매를 삼켜버리고 보물지도를 바다에 떨어뜨려 버렸다. 그 뒤로 버기는 아직도 샹크스를 미워하고 있다라고 답변했다.\n",
      "샹크스,샹크스의 인물\n"
     ]
    }
   ],
   "source": [
    "print(daily_dialogue_df.iloc[0]['dialogue'])\n",
    "print(daily_dialogue_df.iloc[0]['summary'])\n",
    "print(daily_dialogue_df.iloc[0]['topic'])"
   ]
  },
  {
   "cell_type": "code",
   "execution_count": 10,
   "id": "ec3341d1",
   "metadata": {},
   "outputs": [],
   "source": [
    "# 길이\n",
    "daily_dialogue_df['dialogue_len'] = daily_dialogue_df['dialogue'].apply(len)\n",
    "daily_dialogue_df['summary_len'] = daily_dialogue_df['summary'].apply(len)"
   ]
  },
  {
   "cell_type": "code",
   "execution_count": 13,
   "id": "c857eb15",
   "metadata": {},
   "outputs": [
    {
     "data": {
      "application/vnd.jupyter.widget-view+json": {
       "model_id": "efe7e3656e354435b6d450545a9c9be3",
       "version_major": 2,
       "version_minor": 0
      },
      "text/plain": [
       "tokenizer_config.json:   0%|          | 0.00/605 [00:00<?, ?B/s]"
      ]
     },
     "metadata": {},
     "output_type": "display_data"
    },
    {
     "data": {
      "application/vnd.jupyter.widget-view+json": {
       "model_id": "4ce3296814c344a598d748cee704a728",
       "version_major": 2,
       "version_minor": 0
      },
      "text/plain": [
       "tokenizer.json: 0.00B [00:00, ?B/s]"
      ]
     },
     "metadata": {},
     "output_type": "display_data"
    },
    {
     "data": {
      "application/vnd.jupyter.widget-view+json": {
       "model_id": "7f0315edebee42eba9fdc4cdd0817267",
       "version_major": 2,
       "version_minor": 0
      },
      "text/plain": [
       "special_tokens_map.json:   0%|          | 0.00/559 [00:00<?, ?B/s]"
      ]
     },
     "metadata": {},
     "output_type": "display_data"
    }
   ],
   "source": [
    "from transformers import AutoTokenizer\n",
    "tokenizer = AutoTokenizer.from_pretrained(\"alaggung/bart-r3f\")\n",
    "def count_tokens(text, tokenizer):\n",
    "    return len(tokenizer.encode(text, add_special_tokens=True))"
   ]
  },
  {
   "cell_type": "code",
   "execution_count": null,
   "id": "7d0f9e41",
   "metadata": {},
   "outputs": [
    {
     "name": "stderr",
     "output_type": "stream",
     "text": [
      "100%|██████| 55355/55355 [00:29<00:00, 1894.03it/s]\n",
      "100%|█████| 55355/55355 [00:05<00:00, 10595.28it/s]"
     ]
    },
    {
     "name": "stdout",
     "output_type": "stream",
     "text": [
      "55355\n",
      "54542\n",
      "55355\n",
      "55355\n",
      "55355\n"
     ]
    },
    {
     "name": "stderr",
     "output_type": "stream",
     "text": [
      "\n"
     ]
    }
   ],
   "source": [
    "from tqdm import tqdm\n",
    "tqdm.pandas()\n",
    "daily_dialogue_df['dialogue_token_count'] = daily_dialogue_df['dialogue'].progress_apply(lambda x: count_tokens(x, tokenizer))\n",
    "daily_dialogue_df['summary_token_count'] = daily_dialogue_df['summary'].progress_apply(lambda x: count_tokens(x, tokenizer))"
   ]
  },
  {
   "cell_type": "code",
   "execution_count": 23,
   "id": "ee307ffd",
   "metadata": {},
   "outputs": [
    {
     "name": "stdout",
     "output_type": "stream",
     "text": [
      "55355\n",
      "54542\n",
      "53254\n",
      "55352\n",
      "55217\n",
      "55214\n"
     ]
    }
   ],
   "source": [
    "print(len(daily_dialogue_df))\n",
    "print(daily_dialogue_df[daily_dialogue_df['dialogue_len'] < 1500].shape[0])\n",
    "print(daily_dialogue_df[daily_dialogue_df['summary_len'] < 250].shape[0])\n",
    "print(daily_dialogue_df[daily_dialogue_df['dialogue_token_count'] < 1500].shape[0])\n",
    "print(daily_dialogue_df[daily_dialogue_df['summary_token_count'] < 250].shape[0])\n",
    "print(daily_dialogue_df[(daily_dialogue_df['dialogue_token_count'] < 1500)\n",
    "                        & (daily_dialogue_df['summary_token_count'] < 250)].shape[0])"
   ]
  },
  {
   "cell_type": "code",
   "execution_count": 17,
   "id": "bbfb1f27",
   "metadata": {},
   "outputs": [
    {
     "name": "stdout",
     "output_type": "stream",
     "text": [
      "#Person1#: 아시안 게임을 요새 보고 있는데 축구가 나는 특히 재미 있더라고. 아시안 게임이 아니더라도 축구는 정말 재미 있는 거 같아\n",
      "#Person2#: 네 맞아요. 축구는 재미있는 스포츠 중에 하나예요. 스포츠 단체에 대해 알고 싶나요?\n",
      "#Person1#: 응 내가 이탈리아 축구를 좀 좋아하는데 거기 스페치아 갈초가라는 단체가 있데 거기 선수 중 하나 설명해줘.\n",
      "#Person2#: 야코포 살라는 스페치아 칼초에서 미드필더로 뛰며 가끔 윙백으로도 뛰는 이탈리아의 축구 선수이고 살라는 홈경기에서 도르트문트에게 5-1로 패배하던 경기에서 65분경에 마르첼 얀젠의 교체선수로 출전하며 정식 대뷔전을 치렀습니다.\n",
      "#Person1#: 아 그렇게 대뷔전을 치뤘구나. 패배하던 경기의 교체선수로 들어가다니 그 선수를 이탈리아 팀이 믿었던 거겠지?\n",
      "#Person2#: 네 스페치아 갈초는 도르트문트에 패배했지만 선수의 대뷔전을 이뤄줬어요.\n",
      "#Person1#: 응 나는 스포츠 단체 팀들이 정말 다양한 전략과 전술을 구사하고 있다고 생각해. 각 팀마다의 그런 특징이 두드러지잖아?  뉴질랜드 축구팀도 나는 좀 좋아하는데.\n",
      "#Person2#: 네 그렇군요. 뉴질랜드 팀에 대해서 궁금한 가요?\n",
      "#Person1#: 응 뉴질랜드 축구팀이 피파는 높지 않지?  그래도 나는 뉴질랜드에 한번 가보고 싶어. 나의 꿈의 뉴질랜드라고 할까?\n",
      "#Person2#: 네 뉴질랜드의 피파랭킹은 100위 권입니다.\n",
      "#Person1#: 응 그래서 내 생일인 3월에 뉴질랜드에 가서 뉴질랜드 축구팀의 축구도 보고 그러고 싶어.\n",
      "#Person2#: 네  3월 생일에 뉴질랜드에 가서 꼭 축구팀도 보고 그러시길 바랄게요.\n",
      "#Person1#: 응 고마워. 나는 축구경기나 더 보러 가야 겠다 스페치아 갈초의 경기를 볼 거거든~ 그럼 안녕\n",
      "#Person2#: 답변이 만족스러우셨나요? 다음에도 질문해 주세요.\n"
     ]
    }
   ],
   "source": [
    "idxs = daily_dialogue_df[daily_dialogue_df['dialogue_token_count'] < 1024].index\n",
    "print(daily_dialogue_df.iloc[idxs]['dialogue'].values[0])"
   ]
  },
  {
   "cell_type": "code",
   "execution_count": 24,
   "id": "3fe2ef37",
   "metadata": {},
   "outputs": [],
   "source": [
    "daily_dialogue_df_good_len = daily_dialogue_df[(daily_dialogue_df['dialogue_token_count'] < 1500)\n",
    "                        & (daily_dialogue_df['summary_token_count'] < 250)]"
   ]
  },
  {
   "cell_type": "code",
   "execution_count": 25,
   "id": "45b0480c",
   "metadata": {},
   "outputs": [
    {
     "name": "stdout",
     "output_type": "stream",
     "text": [
      "Index(['fileID', 'largecategory', 'mediumcategory', 'fname', 'num_speakers',\n",
      "       'dialogue', 'summary', 'topic', 'dialogue_len', 'summary_len',\n",
      "       'dialogue_token_count', 'summary_token_count'],\n",
      "      dtype='object')\n"
     ]
    }
   ],
   "source": [
    "print(daily_dialogue_df_good_len.columns)"
   ]
  },
  {
   "cell_type": "code",
   "execution_count": 55,
   "id": "fc006ed8",
   "metadata": {},
   "outputs": [
    {
     "name": "stdout",
     "output_type": "stream",
     "text": [
      "largecategory\n",
      "취미    26220\n",
      "직업    25236\n",
      "음식     3899\n",
      "Name: count, dtype: int64\n",
      "13\n",
      "mediumcategory\n",
      "스포츠          12461\n",
      "관광/감상        11951\n",
      "예술/디자인/방송    11576\n",
      "건설/채굴         4131\n",
      "역사            2399\n",
      "교육            2393\n",
      "경영/사무/보험      2247\n",
      "영업/판매/운전      2218\n",
      "레시피           1500\n",
      "농림/어업         1402\n",
      "연구/공학         1269\n",
      "패션             937\n",
      "쇼핑             871\n",
      "Name: count, dtype: int64\n"
     ]
    }
   ],
   "source": [
    "print(daily_dialogue_df['largecategory'].value_counts())\n",
    "print(len(daily_dialogue_df['mediumcategory'].value_counts()))\n",
    "print(daily_dialogue_df['mediumcategory'].value_counts())"
   ]
  },
  {
   "cell_type": "code",
   "execution_count": 26,
   "id": "a7ab40b6",
   "metadata": {},
   "outputs": [],
   "source": [
    "def get_indices_with_regex(df: pd.DataFrame, pattern: str):\n",
    "    \"\"\"\n",
    "    dialogue와 summary 컬럼에서 특정 정규표현식을 만족하는 샘플의 인덱스를 추출합니다.\n",
    "\n",
    "    Args:\n",
    "        df (pd.DataFrame): 'dialogue'와 'summary' 컬럼을 포함하는 pandas DataFrame.\n",
    "        pattern (str): 정규표현식 패턴 문자열.\n",
    "\n",
    "    Returns:\n",
    "        List[Union[int, str]]: 정규표현식에 매칭되는 샘플의 인덱스 리스트.\n",
    "    \"\"\"\n",
    "    if 'dialogue' not in df.columns or 'summary' not in df.columns:\n",
    "        raise ValueError(\"DataFrame must contain 'dialogue' and 'summary' columns.\")\n",
    "\n",
    "    # 각 컬럼에서 정규표현식을 만족하는 행을 boolean Series로 반환\n",
    "    dialogue_matches = df['dialogue'].str.contains(pattern, na=False, regex=True)\n",
    "    summary_matches = df['summary'].str.contains(pattern, na=False, regex=True)\n",
    "\n",
    "    # 두 컬럼 중 하나라도 조건을 만족하는 행을 찾기 위해 OR 연산\n",
    "    combined_matches = dialogue_matches | summary_matches\n",
    "\n",
    "    # 조건을 만족하는 행의 인덱스를 추출하여 리스트로 반환\n",
    "    indices = df[combined_matches].index.tolist()\n",
    "\n",
    "    return indices"
   ]
  },
  {
   "cell_type": "code",
   "execution_count": 42,
   "id": "1bfc0dce",
   "metadata": {},
   "outputs": [],
   "source": [
    "def sample_by_mediumcategory(df: pd.DataFrame, n: int = 1200) -> pd.DataFrame:\n",
    "    \"\"\"\n",
    "    데이터프레임에서 'mediumcategory'별로 n개씩 랜덤하게 샘플링합니다.\n",
    "    데이터가 n개보다 적은 카테고리는 모든 데이터를 포함하고,\n",
    "    n개보다 많은 카테고리만 n개씩 샘플링합니다.\n",
    "    \"\"\"\n",
    "    # 각 카테고리의 데이터 개수를 계산합니다.\n",
    "    category_counts = df['mediumcategory'].value_counts()\n",
    "    \n",
    "    # n보다 데이터가 적은 카테고리(under_sampled_df)와 많은 카테고리(over_sampled_df)로 나눕니다.\n",
    "    under_sampled_categories = category_counts[category_counts < n].index\n",
    "    over_sampled_categories = category_counts[category_counts >= n].index\n",
    "\n",
    "    # 1. 데이터가 부족한 카테고리는 모두 선택합니다.\n",
    "    under_sampled_df = df[df['mediumcategory'].isin(under_sampled_categories)]\n",
    "    \n",
    "    # 2. 데이터가 충분한 카테고리는 n개씩 샘플링합니다.\n",
    "    over_sampled_df = df[df['mediumcategory'].isin(over_sampled_categories)]\n",
    "    \n",
    "    # n개보다 많은 카테고리에서만 n개씩 랜덤 샘플링합니다.\n",
    "    sampled_over_df = over_sampled_df.groupby('mediumcategory').sample(n=n, random_state=42, replace=False)\n",
    "\n",
    "    # 3. 샘플링된 두 데이터프레임을 하나로 합칩니다.\n",
    "    final_sampled_df = pd.concat([under_sampled_df, sampled_over_df], ignore_index=True)\n",
    "    \n",
    "    # 최종 데이터프레임의 인덱스를 재설정하고 반환합니다.\n",
    "    return final_sampled_df"
   ]
  },
  {
   "cell_type": "code",
   "execution_count": 41,
   "id": "247c4e4a",
   "metadata": {},
   "outputs": [
    {
     "name": "stderr",
     "output_type": "stream",
     "text": [
      "/tmp/ipykernel_853/2311973655.py:16: UserWarning: This pattern is interpreted as a regular expression, and has match groups. To actually get the groups, use str.extract.\n",
      "  dialogue_matches = df['dialogue'].str.contains(pattern, na=False, regex=True)\n"
     ]
    },
    {
     "name": "stdout",
     "output_type": "stream",
     "text": [
      "53759 53759\n",
      "53759\n"
     ]
    },
    {
     "name": "stderr",
     "output_type": "stream",
     "text": [
      "/tmp/ipykernel_853/2311973655.py:17: UserWarning: This pattern is interpreted as a regular expression, and has match groups. To actually get the groups, use str.extract.\n",
      "  summary_matches = df['summary'].str.contains(pattern, na=False, regex=True)\n"
     ]
    }
   ],
   "source": [
    "# summary에 질문자, 챗봇이 존재하는 것만 추출. '쳇봇'처럼 오타를 방지.\n",
    "daily_dialogue_df_good_len = daily_dialogue_df_good_len.reset_index(drop=True)\n",
    "only_speaker_chatbot_idxs = get_indices_with_regex(daily_dialogue_df_good_len, r\".*(질문자).*(챗봇).*\")\n",
    "print(len(daily_dialogue_df_good_len), len(only_speaker_chatbot_idxs))\n",
    "daily_dialogue_df_good_len = daily_dialogue_df_good_len.iloc[only_speaker_chatbot_idxs]\n",
    "print(len(daily_dialogue_df_good_len))"
   ]
  },
  {
   "cell_type": "code",
   "execution_count": null,
   "id": "117cfa3c",
   "metadata": {},
   "outputs": [
    {
     "name": "stdout",
     "output_type": "stream",
     "text": [
      "15532\n",
      "28889\n"
     ]
    }
   ],
   "source": [
    "# 함수 실행\n",
    "# sampling_15532_df = sample_by_mediumcategory(daily_dialogue_df, n=1250)\n",
    "# print(len(sampling_15532_df))\n",
    "# sampling_28889_df = sample_by_mediumcategory(daily_dialogue_df, n=3500)\n",
    "# print(len(sampling_28889_df))"
   ]
  },
  {
   "cell_type": "code",
   "execution_count": 43,
   "id": "f20a921b",
   "metadata": {},
   "outputs": [],
   "source": [
    "sampling_df = sample_by_mediumcategory(daily_dialogue_df_good_len, n=1250)"
   ]
  },
  {
   "cell_type": "code",
   "execution_count": 44,
   "id": "b093fd37",
   "metadata": {},
   "outputs": [],
   "source": [
    "sampled_df_idxs = sampling_df.index\n",
    "not_sampled_idxs = list(set(daily_dialogue_df_good_len.index) - set(sampled_df_idxs))\n",
    "not_sampled_df = daily_dialogue_df_good_len.iloc[not_sampled_idxs]"
   ]
  },
  {
   "cell_type": "code",
   "execution_count": 47,
   "id": "4557a046",
   "metadata": {},
   "outputs": [],
   "source": [
    "sampling_df = sampling_df.reset_index(drop=True)\n",
    "sampling_df['fname'] = [f\"train_{i}\" for i in range(len(sampling_df))]\n",
    "sampling_df_tosave = sampling_df[['fname','dialogue','summary','topic']]\n",
    "\n",
    "not_sampled_df = not_sampled_df.reset_index(drop=True)\n",
    "not_sampled_df['fname'] = [f\"train_{i}\" for i in range(len(not_sampled_df))]\n",
    "not_sampled_df_tosave = not_sampled_df[['fname','dialogue','summary','topic']]"
   ]
  },
  {
   "cell_type": "markdown",
   "id": "a4eb1c42",
   "metadata": {},
   "source": [
    "#### 데이터 정제"
   ]
  },
  {
   "cell_type": "code",
   "execution_count": 100,
   "id": "9e3158c0",
   "metadata": {},
   "outputs": [],
   "source": [
    "# daily_dialogue_df.to_csv(os.path.join(data_dir, \"ai_hub_02daily_origin.csv\"),index=False)"
   ]
  },
  {
   "cell_type": "markdown",
   "id": "7864bcb3",
   "metadata": {},
   "source": [
    "- summary에 '질문자'와 '챗봇' 처리"
   ]
  },
  {
   "cell_type": "code",
   "execution_count": 67,
   "id": "ca3682fa",
   "metadata": {},
   "outputs": [
    {
     "name": "stdout",
     "output_type": "stream",
     "text": [
      "num_speakers\n",
      "2    55355\n",
      "Name: count, dtype: int64\n"
     ]
    }
   ],
   "source": [
    "# num_speakers 확인\n",
    "print(daily_dialogue_df['num_speakers'].value_counts()) # 2명밖에 없음.\n",
    "daily_dialogue_df = daily_dialogue_df.drop(columns=['num_speakers'])"
   ]
  },
  {
   "cell_type": "markdown",
   "id": "3fca740e",
   "metadata": {},
   "source": [
    "- dialogue 정제"
   ]
  },
  {
   "cell_type": "code",
   "execution_count": 102,
   "id": "2a3782c9",
   "metadata": {},
   "outputs": [
    {
     "name": "stdout",
     "output_type": "stream",
     "text": [
      "47\n"
     ]
    },
    {
     "data": {
      "text/html": [
       "<div>\n",
       "<style scoped>\n",
       "    .dataframe tbody tr th:only-of-type {\n",
       "        vertical-align: middle;\n",
       "    }\n",
       "\n",
       "    .dataframe tbody tr th {\n",
       "        vertical-align: top;\n",
       "    }\n",
       "\n",
       "    .dataframe thead th {\n",
       "        text-align: right;\n",
       "    }\n",
       "</style>\n",
       "<table border=\"1\" class=\"dataframe\">\n",
       "  <thead>\n",
       "    <tr style=\"text-align: right;\">\n",
       "      <th></th>\n",
       "      <th>fname</th>\n",
       "      <th>dialogue</th>\n",
       "      <th>summary</th>\n",
       "      <th>topic</th>\n",
       "    </tr>\n",
       "  </thead>\n",
       "  <tbody>\n",
       "    <tr>\n",
       "      <th>60</th>\n",
       "      <td>train_60</td>\n",
       "      <td>#Person1#: 앞으로 뭘 하고 먹고살지에 대한 문제는 진짜 중요한 것 같아.\\...</td>\n",
       "      <td>질문자는 상업장부에 대해 질문했고 챗봇은 상업장부란 상인이 영업상의 재산상태 및 손...</td>\n",
       "      <td>상업장부,상업장부의 개념</td>\n",
       "    </tr>\n",
       "    <tr>\n",
       "      <th>6162</th>\n",
       "      <td>train_6162</td>\n",
       "      <td>#Person1#: 안녕. 나는 고양이 두 마리를 키우는중이야. 그런데 내가 외출한...</td>\n",
       "      <td>질문자는 도매상에 대해 질문했고, 챗봇은 도매상(都賣商)이란 소매상을 비롯한 판매업...</td>\n",
       "      <td>계절성산업의 핵심 부분, 계절성산업의 주요 기능, 계절성산업의 기본 사항</td>\n",
       "    </tr>\n",
       "    <tr>\n",
       "      <th>6163</th>\n",
       "      <td>train_6163</td>\n",
       "      <td>#Person1#: 나 다시 왔어. 너무 피곤해서 세 시간이나 자버렸네.\\n#Per...</td>\n",
       "      <td>질문자는 도매의 도매상에 대해 질문 하였고, 챗봇은 도매상(都賣商)이란 소매상을 비...</td>\n",
       "      <td>도매의 도매상, 도매의 요점</td>\n",
       "    </tr>\n",
       "    <tr>\n",
       "      <th>6176</th>\n",
       "      <td>train_6176</td>\n",
       "      <td>#Person1#: 안녕, 챗봇! 만나서 반가워.\\n#Person2#: 만나서 반가...</td>\n",
       "      <td>질문자는 상업장부의 조문에 대해 질문했고 챗봇은 제29조 (상업장부의 종류·작성원칙...</td>\n",
       "      <td>상업장부의 조문, 상업장부의 요소</td>\n",
       "    </tr>\n",
       "    <tr>\n",
       "      <th>11053</th>\n",
       "      <td>train_11053</td>\n",
       "      <td>#Person1#: 오늘 다시 또 보네. 아까 방카슈랑스에 대해 알려줘서 고마웠어....</td>\n",
       "      <td>질문자는 가치 공학에 대해 질문하였고, 챗봇은 가치 공학(價値工學, ) 또는 가치 ...</td>\n",
       "      <td>가치 공학의 진행방식, 가치 공학의 핵심적인 정보</td>\n",
       "    </tr>\n",
       "  </tbody>\n",
       "</table>\n",
       "</div>"
      ],
      "text/plain": [
       "             fname                                           dialogue  \\\n",
       "60        train_60  #Person1#: 앞으로 뭘 하고 먹고살지에 대한 문제는 진짜 중요한 것 같아.\\...   \n",
       "6162    train_6162  #Person1#: 안녕. 나는 고양이 두 마리를 키우는중이야. 그런데 내가 외출한...   \n",
       "6163    train_6163  #Person1#: 나 다시 왔어. 너무 피곤해서 세 시간이나 자버렸네.\\n#Per...   \n",
       "6176    train_6176  #Person1#: 안녕, 챗봇! 만나서 반가워.\\n#Person2#: 만나서 반가...   \n",
       "11053  train_11053  #Person1#: 오늘 다시 또 보네. 아까 방카슈랑스에 대해 알려줘서 고마웠어....   \n",
       "\n",
       "                                                 summary  \\\n",
       "60     질문자는 상업장부에 대해 질문했고 챗봇은 상업장부란 상인이 영업상의 재산상태 및 손...   \n",
       "6162   질문자는 도매상에 대해 질문했고, 챗봇은 도매상(都賣商)이란 소매상을 비롯한 판매업...   \n",
       "6163   질문자는 도매의 도매상에 대해 질문 하였고, 챗봇은 도매상(都賣商)이란 소매상을 비...   \n",
       "6176   질문자는 상업장부의 조문에 대해 질문했고 챗봇은 제29조 (상업장부의 종류·작성원칙...   \n",
       "11053  질문자는 가치 공학에 대해 질문하였고, 챗봇은 가치 공학(價値工學, ) 또는 가치 ...   \n",
       "\n",
       "                                          topic  \n",
       "60                                상업장부,상업장부의 개념  \n",
       "6162   계절성산업의 핵심 부분, 계절성산업의 주요 기능, 계절성산업의 기본 사항  \n",
       "6163                            도매의 도매상, 도매의 요점  \n",
       "6176                         상업장부의 조문, 상업장부의 요소  \n",
       "11053               가치 공학의 진행방식, 가치 공학의 핵심적인 정보  "
      ]
     },
     "execution_count": 102,
     "metadata": {},
     "output_type": "execute_result"
    }
   ],
   "source": [
    "idxs = get_indices_with_regex(daily_dialogue_df, r\"①\")\n",
    "print(len(idxs)) \n",
    "daily_dialogue_df.iloc[idxs].head()"
   ]
  },
  {
   "cell_type": "code",
   "execution_count": 107,
   "id": "afba5c13",
   "metadata": {},
   "outputs": [
    {
     "name": "stdout",
     "output_type": "stream",
     "text": [
      "152\n"
     ]
    },
    {
     "data": {
      "text/html": [
       "<div>\n",
       "<style scoped>\n",
       "    .dataframe tbody tr th:only-of-type {\n",
       "        vertical-align: middle;\n",
       "    }\n",
       "\n",
       "    .dataframe tbody tr th {\n",
       "        vertical-align: top;\n",
       "    }\n",
       "\n",
       "    .dataframe thead th {\n",
       "        text-align: right;\n",
       "    }\n",
       "</style>\n",
       "<table border=\"1\" class=\"dataframe\">\n",
       "  <thead>\n",
       "    <tr style=\"text-align: right;\">\n",
       "      <th></th>\n",
       "      <th>fname</th>\n",
       "      <th>dialogue</th>\n",
       "      <th>summary</th>\n",
       "      <th>topic</th>\n",
       "    </tr>\n",
       "  </thead>\n",
       "  <tbody>\n",
       "    <tr>\n",
       "      <th>200</th>\n",
       "      <td>train_200</td>\n",
       "      <td>#Person1#: 안녕 나는 게임 인물에 관심이 많아\\n#Person2#: 안녕하...</td>\n",
       "      <td>게임인물에 관심이 많은 질문자는 카자마 진이라는 캐릭터에 대해 알려달라고 질문했고 ...</td>\n",
       "      <td>카자마 진,카자마 진의 인물</td>\n",
       "    </tr>\n",
       "    <tr>\n",
       "      <th>203</th>\n",
       "      <td>train_203</td>\n",
       "      <td>#Person1#: 저녁 먹으러 간다는게 1주일이 지났네\\n#Person2#: 그렇...</td>\n",
       "      <td>질문자는 only one에 대해 질문했고 챗봇은 〈Only One〉는 대한민국 여자...</td>\n",
       "      <td>예술/디자인/방송 내에서의 Only One (보아의 노래),Only One (보아의...</td>\n",
       "    </tr>\n",
       "    <tr>\n",
       "      <th>335</th>\n",
       "      <td>train_335</td>\n",
       "      <td>#Person1#: 궁금한게 있어 3주가 지나고 다시 찾아왔어\\n#Person2#:...</td>\n",
       "      <td>질문자는 고려대학교 구 중앙도서관에 대해 궁금하다고 질문했고 고려대학교 구 중앙도서...</td>\n",
       "      <td>고려대학교 구 중앙도서관,고려대학교 구 중앙도서관의 장소</td>\n",
       "    </tr>\n",
       "    <tr>\n",
       "      <th>655</th>\n",
       "      <td>train_655</td>\n",
       "      <td>#Person1#: 안녕?  7주 전에 알려 준 아카데미 시상식 정보는 참 유익했어...</td>\n",
       "      <td>질문자는 동경 BABYLON에 대해 질문했고 챗봇은 《동경 BABYLON》은 일본의...</td>\n",
       "      <td>동경 BABYLON,동경 BABYLON의 개념</td>\n",
       "    </tr>\n",
       "    <tr>\n",
       "      <th>1049</th>\n",
       "      <td>train_1049</td>\n",
       "      <td>#Person1#: 안녕하세요. 지난 번 답변이 너무 만족스러워서 다시 찾아왔어요....</td>\n",
       "      <td>질문자는 아로스티치니에 대해 질문하였고 챗봇은 아로스티치니(이탈리아어:Arrosti...</td>\n",
       "      <td>아로스티치니,아로스티치니의 개념</td>\n",
       "    </tr>\n",
       "  </tbody>\n",
       "</table>\n",
       "</div>"
      ],
      "text/plain": [
       "           fname                                           dialogue  \\\n",
       "200    train_200  #Person1#: 안녕 나는 게임 인물에 관심이 많아\\n#Person2#: 안녕하...   \n",
       "203    train_203  #Person1#: 저녁 먹으러 간다는게 1주일이 지났네\\n#Person2#: 그렇...   \n",
       "335    train_335  #Person1#: 궁금한게 있어 3주가 지나고 다시 찾아왔어\\n#Person2#:...   \n",
       "655    train_655  #Person1#: 안녕?  7주 전에 알려 준 아카데미 시상식 정보는 참 유익했어...   \n",
       "1049  train_1049  #Person1#: 안녕하세요. 지난 번 답변이 너무 만족스러워서 다시 찾아왔어요....   \n",
       "\n",
       "                                                summary  \\\n",
       "200   게임인물에 관심이 많은 질문자는 카자마 진이라는 캐릭터에 대해 알려달라고 질문했고 ...   \n",
       "203   질문자는 only one에 대해 질문했고 챗봇은 〈Only One〉는 대한민국 여자...   \n",
       "335   질문자는 고려대학교 구 중앙도서관에 대해 궁금하다고 질문했고 고려대학교 구 중앙도서...   \n",
       "655   질문자는 동경 BABYLON에 대해 질문했고 챗봇은 《동경 BABYLON》은 일본의...   \n",
       "1049  질문자는 아로스티치니에 대해 질문하였고 챗봇은 아로스티치니(이탈리아어:Arrosti...   \n",
       "\n",
       "                                                  topic  \n",
       "200                                     카자마 진,카자마 진의 인물  \n",
       "203   예술/디자인/방송 내에서의 Only One (보아의 노래),Only One (보아의...  \n",
       "335                     고려대학교 구 중앙도서관,고려대학교 구 중앙도서관의 장소  \n",
       "655                           동경 BABYLON,동경 BABYLON의 개념  \n",
       "1049                                  아로스티치니,아로스티치니의 개념  "
      ]
     },
     "execution_count": 107,
     "metadata": {},
     "output_type": "execute_result"
    }
   ],
   "source": [
    "idxs = get_indices_with_regex(daily_dialogue_df, r\"\\.\\s+\\.\")\n",
    "print(len(idxs)) \n",
    "daily_dialogue_df.iloc[idxs].head()"
   ]
  },
  {
   "cell_type": "code",
   "execution_count": 126,
   "id": "f6f882f9",
   "metadata": {},
   "outputs": [
    {
     "name": "stdout",
     "output_type": "stream",
     "text": [
      "6526\n"
     ]
    },
    {
     "data": {
      "text/html": [
       "<div>\n",
       "<style scoped>\n",
       "    .dataframe tbody tr th:only-of-type {\n",
       "        vertical-align: middle;\n",
       "    }\n",
       "\n",
       "    .dataframe tbody tr th {\n",
       "        vertical-align: top;\n",
       "    }\n",
       "\n",
       "    .dataframe thead th {\n",
       "        text-align: right;\n",
       "    }\n",
       "</style>\n",
       "<table border=\"1\" class=\"dataframe\">\n",
       "  <thead>\n",
       "    <tr style=\"text-align: right;\">\n",
       "      <th></th>\n",
       "      <th>fname</th>\n",
       "      <th>dialogue</th>\n",
       "      <th>summary</th>\n",
       "      <th>topic</th>\n",
       "    </tr>\n",
       "  </thead>\n",
       "  <tbody>\n",
       "    <tr>\n",
       "      <th>0</th>\n",
       "      <td>train_0</td>\n",
       "      <td>#Person1#: 안녕! 처음 들어왔는데 너는 무슨 전문 챗봇이야?\\n#Perso...</td>\n",
       "      <td>질문자는 체스터필드 (담배)에 대해 질문하였고 챗봇은 체스터필드(Chesterfie...</td>\n",
       "      <td>체스터필드 (담배),체스터필드 (담배)의 사물</td>\n",
       "    </tr>\n",
       "    <tr>\n",
       "      <th>9</th>\n",
       "      <td>train_9</td>\n",
       "      <td>#Person1#: 안녕~ 한 3주일만에 온거 같네\\n#Person2#: 네, 오랜...</td>\n",
       "      <td>질문자는 김동훈(배우)에 대해서 질문하였고 챗봇은 김동훈(金東勳, 1939년 3월 ...</td>\n",
       "      <td>김동훈 (배우),김동훈 (배우)의 인물</td>\n",
       "    </tr>\n",
       "    <tr>\n",
       "      <th>14</th>\n",
       "      <td>train_14</td>\n",
       "      <td>#Person1#: 안녕! 나 일하다가 궁금한 것이 있어 급히 물어볼게!\\n#Per...</td>\n",
       "      <td>질문자는 \"굿 스마일 컴퍼니\"에 대해서 질문하였고, 챗봇은 주식회사 굿 스마일 컴퍼...</td>\n",
       "      <td>굿 스마일 컴퍼니,굿 스마일 컴퍼니의 개념</td>\n",
       "    </tr>\n",
       "    <tr>\n",
       "      <th>16</th>\n",
       "      <td>train_16</td>\n",
       "      <td>#Person1#: 이제 곧 크리스마스이네.. 크리스마스에 할 일이 없는데.\\n#P...</td>\n",
       "      <td>질문자는 루돌프 사슴코를 비롯한 캐럴에 대해 질문했고 챗봇은 《루돌프 사슴코》()는...</td>\n",
       "      <td>예술/디자인/방송 내에서의 루돌프 사슴코,루돌프 사슴코</td>\n",
       "    </tr>\n",
       "    <tr>\n",
       "      <th>26</th>\n",
       "      <td>train_26</td>\n",
       "      <td>#Person1#: 나는 관광을 하고싶어서 알아보고 있는데 어디가 좋을까\\n#Per...</td>\n",
       "      <td>질문자는 서울 구 러시아 공사관에 대해서 질문했고 챗본은 구 러시아 공사관(舊 러시...</td>\n",
       "      <td>서울 구 러시아 공사관,서울 구 러시아 공사관의 유적</td>\n",
       "    </tr>\n",
       "  </tbody>\n",
       "</table>\n",
       "</div>"
      ],
      "text/plain": [
       "       fname                                           dialogue  \\\n",
       "0    train_0  #Person1#: 안녕! 처음 들어왔는데 너는 무슨 전문 챗봇이야?\\n#Perso...   \n",
       "9    train_9  #Person1#: 안녕~ 한 3주일만에 온거 같네\\n#Person2#: 네, 오랜...   \n",
       "14  train_14  #Person1#: 안녕! 나 일하다가 궁금한 것이 있어 급히 물어볼게!\\n#Per...   \n",
       "16  train_16  #Person1#: 이제 곧 크리스마스이네.. 크리스마스에 할 일이 없는데.\\n#P...   \n",
       "26  train_26  #Person1#: 나는 관광을 하고싶어서 알아보고 있는데 어디가 좋을까\\n#Per...   \n",
       "\n",
       "                                              summary  \\\n",
       "0   질문자는 체스터필드 (담배)에 대해 질문하였고 챗봇은 체스터필드(Chesterfie...   \n",
       "9   질문자는 김동훈(배우)에 대해서 질문하였고 챗봇은 김동훈(金東勳, 1939년 3월 ...   \n",
       "14  질문자는 \"굿 스마일 컴퍼니\"에 대해서 질문하였고, 챗봇은 주식회사 굿 스마일 컴퍼...   \n",
       "16  질문자는 루돌프 사슴코를 비롯한 캐럴에 대해 질문했고 챗봇은 《루돌프 사슴코》()는...   \n",
       "26  질문자는 서울 구 러시아 공사관에 대해서 질문했고 챗본은 구 러시아 공사관(舊 러시...   \n",
       "\n",
       "                             topic  \n",
       "0        체스터필드 (담배),체스터필드 (담배)의 사물  \n",
       "9            김동훈 (배우),김동훈 (배우)의 인물  \n",
       "14         굿 스마일 컴퍼니,굿 스마일 컴퍼니의 개념  \n",
       "16  예술/디자인/방송 내에서의 루돌프 사슴코,루돌프 사슴코  \n",
       "26   서울 구 러시아 공사관,서울 구 러시아 공사관의 유적  "
      ]
     },
     "execution_count": 126,
     "metadata": {},
     "output_type": "execute_result"
    }
   ],
   "source": [
    "idxs = get_indices_with_regex(daily_dialogue_df, r\"[·|②]\")\n",
    "print(len(idxs)) \n",
    "daily_dialogue_df.iloc[idxs].head()"
   ]
  },
  {
   "cell_type": "code",
   "execution_count": 96,
   "id": "a063a278",
   "metadata": {},
   "outputs": [
    {
     "name": "stdout",
     "output_type": "stream",
     "text": [
      "49156\n"
     ]
    },
    {
     "data": {
      "text/html": [
       "<div>\n",
       "<style scoped>\n",
       "    .dataframe tbody tr th:only-of-type {\n",
       "        vertical-align: middle;\n",
       "    }\n",
       "\n",
       "    .dataframe tbody tr th {\n",
       "        vertical-align: top;\n",
       "    }\n",
       "\n",
       "    .dataframe thead th {\n",
       "        text-align: right;\n",
       "    }\n",
       "</style>\n",
       "<table border=\"1\" class=\"dataframe\">\n",
       "  <thead>\n",
       "    <tr style=\"text-align: right;\">\n",
       "      <th></th>\n",
       "      <th>fname</th>\n",
       "      <th>dialogue</th>\n",
       "      <th>summary</th>\n",
       "      <th>topic</th>\n",
       "    </tr>\n",
       "  </thead>\n",
       "  <tbody>\n",
       "    <tr>\n",
       "      <th>4</th>\n",
       "      <td>train_4</td>\n",
       "      <td>#Person1#: 안녕~ 잘지내고 있니? 오랜만이야.\\n#Person2#: 안녕하...</td>\n",
       "      <td>질문자는 서울억새축제에 대해서 질문했고 챗봇은 서울억새축제는 환경 생태공원으로 탈바...</td>\n",
       "      <td>서울억새축제,서울억새축제의 의식/행사</td>\n",
       "    </tr>\n",
       "    <tr>\n",
       "      <th>5</th>\n",
       "      <td>train_5</td>\n",
       "      <td>#Person1#: 안녕~ 2시간이 후딱 지나가네.\\n#Person2#: 안녕하세요...</td>\n",
       "      <td>질문자는 라리베르타드주에 대해 질문했고 챗봇은 라리베르타드주()는 페루 북서부에 위...</td>\n",
       "      <td>라리베르타드주 (페루),라리베르타드주 (페루)의 의식/행사</td>\n",
       "    </tr>\n",
       "    <tr>\n",
       "      <th>8</th>\n",
       "      <td>train_8</td>\n",
       "      <td>#Person1#: 안녕 반가워. 나는 연기 공부를 하는 학생이야\\n#Person2...</td>\n",
       "      <td>질문자는 이기광에 대해서 질문하였고 챗봇은 이기광(李起光, 1990년 3월 30일 ...</td>\n",
       "      <td>이기광,이기광의 인물</td>\n",
       "    </tr>\n",
       "    <tr>\n",
       "      <th>9</th>\n",
       "      <td>train_9</td>\n",
       "      <td>#Person1#: 안녕~ 한 3주일만에 온거 같네\\n#Person2#: 네, 오랜...</td>\n",
       "      <td>질문자는 김동훈(배우)에 대해서 질문하였고 챗봇은 김동훈(金東勳, 1939년 3월 ...</td>\n",
       "      <td>김동훈 (배우),김동훈 (배우)의 인물</td>\n",
       "    </tr>\n",
       "    <tr>\n",
       "      <th>12</th>\n",
       "      <td>train_12</td>\n",
       "      <td>#Person1#: 예술에 대해서 물어봐도 될까? 나는 예술에 대한 지식을 쌓고 있...</td>\n",
       "      <td>질문자는 네오클래시컬 메탈에 대해 질문하였고 챗봇은 네오클래시컬 메탈은 헤비 메탈의...</td>\n",
       "      <td>예술/디자인/방송 내에서의 네오클래시컬 메탈,네오클래시컬 메탈</td>\n",
       "    </tr>\n",
       "  </tbody>\n",
       "</table>\n",
       "</div>"
      ],
      "text/plain": [
       "       fname                                           dialogue  \\\n",
       "4    train_4  #Person1#: 안녕~ 잘지내고 있니? 오랜만이야.\\n#Person2#: 안녕하...   \n",
       "5    train_5  #Person1#: 안녕~ 2시간이 후딱 지나가네.\\n#Person2#: 안녕하세요...   \n",
       "8    train_8  #Person1#: 안녕 반가워. 나는 연기 공부를 하는 학생이야\\n#Person2...   \n",
       "9    train_9  #Person1#: 안녕~ 한 3주일만에 온거 같네\\n#Person2#: 네, 오랜...   \n",
       "12  train_12  #Person1#: 예술에 대해서 물어봐도 될까? 나는 예술에 대한 지식을 쌓고 있...   \n",
       "\n",
       "                                              summary  \\\n",
       "4   질문자는 서울억새축제에 대해서 질문했고 챗봇은 서울억새축제는 환경 생태공원으로 탈바...   \n",
       "5   질문자는 라리베르타드주에 대해 질문했고 챗봇은 라리베르타드주()는 페루 북서부에 위...   \n",
       "8   질문자는 이기광에 대해서 질문하였고 챗봇은 이기광(李起光, 1990년 3월 30일 ...   \n",
       "9   질문자는 김동훈(배우)에 대해서 질문하였고 챗봇은 김동훈(金東勳, 1939년 3월 ...   \n",
       "12  질문자는 네오클래시컬 메탈에 대해 질문하였고 챗봇은 네오클래시컬 메탈은 헤비 메탈의...   \n",
       "\n",
       "                                 topic  \n",
       "4                 서울억새축제,서울억새축제의 의식/행사  \n",
       "5     라리베르타드주 (페루),라리베르타드주 (페루)의 의식/행사  \n",
       "8                          이기광,이기광의 인물  \n",
       "9                김동훈 (배우),김동훈 (배우)의 인물  \n",
       "12  예술/디자인/방송 내에서의 네오클래시컬 메탈,네오클래시컬 메탈  "
      ]
     },
     "execution_count": 96,
     "metadata": {},
     "output_type": "execute_result"
    }
   ],
   "source": [
    "idxs = get_indices_with_regex(daily_dialogue_df, r\"\\~\")\n",
    "print(len(idxs)) \n",
    "daily_dialogue_df.iloc[idxs].head()"
   ]
  },
  {
   "cell_type": "code",
   "execution_count": 69,
   "id": "05aa98b0",
   "metadata": {},
   "outputs": [
    {
     "name": "stdout",
     "output_type": "stream",
     "text": [
      "96165\n"
     ]
    },
    {
     "data": {
      "text/html": [
       "<div>\n",
       "<style scoped>\n",
       "    .dataframe tbody tr th:only-of-type {\n",
       "        vertical-align: middle;\n",
       "    }\n",
       "\n",
       "    .dataframe tbody tr th {\n",
       "        vertical-align: top;\n",
       "    }\n",
       "\n",
       "    .dataframe thead th {\n",
       "        text-align: right;\n",
       "    }\n",
       "</style>\n",
       "<table border=\"1\" class=\"dataframe\">\n",
       "  <thead>\n",
       "    <tr style=\"text-align: right;\">\n",
       "      <th></th>\n",
       "      <th>fname</th>\n",
       "      <th>dialogue</th>\n",
       "      <th>summary</th>\n",
       "      <th>topic</th>\n",
       "    </tr>\n",
       "  </thead>\n",
       "  <tbody>\n",
       "    <tr>\n",
       "      <th>0</th>\n",
       "      <td>train_0</td>\n",
       "      <td>#Person1#: 안녕! 처음 들어왔는데 너는 무슨 전문 챗봇이야?\\n#Perso...</td>\n",
       "      <td>질문자는 체스터필드 (담배)에 대해 질문하였고 챗봇은 체스터필드(Chesterfie...</td>\n",
       "      <td>체스터필드 (담배),체스터필드 (담배)의 사물</td>\n",
       "    </tr>\n",
       "    <tr>\n",
       "      <th>1</th>\n",
       "      <td>train_1</td>\n",
       "      <td>#Person1#: 안녕! 오랜만이지? 잘 지냈어?\\n#Person2#: 안녕하세요...</td>\n",
       "      <td>질문자는 체스처필드 (담배)에 이어 JT저축은행에 대해 질문하였고 챗봇은 JT저축은...</td>\n",
       "      <td>JT저축은행,JT저축은행의 사물</td>\n",
       "    </tr>\n",
       "    <tr>\n",
       "      <th>2</th>\n",
       "      <td>train_2</td>\n",
       "      <td>#Person1#: 나는 지금 대학에서 방송에 대한 교육을 받고 있어. 궁금한 게 ...</td>\n",
       "      <td>질문자는 드라큘라에 대해 질문했고 챗봇은 드라큘라는 2013년부터 2014년까지 N...</td>\n",
       "      <td>예술/디자인/방송 내에서의 드라큘라 (2013년 드라마),드라큘라 (2013년 드라마)</td>\n",
       "    </tr>\n",
       "    <tr>\n",
       "      <th>5</th>\n",
       "      <td>train_5</td>\n",
       "      <td>#Person1#: 안녕~ 2시간이 후딱 지나가네.\\n#Person2#: 안녕하세요...</td>\n",
       "      <td>질문자는 라리베르타드주에 대해 질문했고 챗봇은 라리베르타드주()는 페루 북서부에 위...</td>\n",
       "      <td>라리베르타드주 (페루),라리베르타드주 (페루)의 의식/행사</td>\n",
       "    </tr>\n",
       "    <tr>\n",
       "      <th>6</th>\n",
       "      <td>train_6</td>\n",
       "      <td>#Person1#: 안녕! 궁금한 게 있는데 너는 어떤 분야의 챗봇이야?\\n#Per...</td>\n",
       "      <td>질문자는 위대한 유산 (2003년 영화)에 대해 질문하였고 챗봇은 \"위대한 유산\"은...</td>\n",
       "      <td>예술/디자인/방송 내에서의 위대한 유산 (2003년 영화),위대한 유산 (2003년...</td>\n",
       "    </tr>\n",
       "  </tbody>\n",
       "</table>\n",
       "</div>"
      ],
      "text/plain": [
       "     fname                                           dialogue  \\\n",
       "0  train_0  #Person1#: 안녕! 처음 들어왔는데 너는 무슨 전문 챗봇이야?\\n#Perso...   \n",
       "1  train_1  #Person1#: 안녕! 오랜만이지? 잘 지냈어?\\n#Person2#: 안녕하세요...   \n",
       "2  train_2  #Person1#: 나는 지금 대학에서 방송에 대한 교육을 받고 있어. 궁금한 게 ...   \n",
       "5  train_5  #Person1#: 안녕~ 2시간이 후딱 지나가네.\\n#Person2#: 안녕하세요...   \n",
       "6  train_6  #Person1#: 안녕! 궁금한 게 있는데 너는 어떤 분야의 챗봇이야?\\n#Per...   \n",
       "\n",
       "                                             summary  \\\n",
       "0  질문자는 체스터필드 (담배)에 대해 질문하였고 챗봇은 체스터필드(Chesterfie...   \n",
       "1  질문자는 체스처필드 (담배)에 이어 JT저축은행에 대해 질문하였고 챗봇은 JT저축은...   \n",
       "2  질문자는 드라큘라에 대해 질문했고 챗봇은 드라큘라는 2013년부터 2014년까지 N...   \n",
       "5  질문자는 라리베르타드주에 대해 질문했고 챗봇은 라리베르타드주()는 페루 북서부에 위...   \n",
       "6  질문자는 위대한 유산 (2003년 영화)에 대해 질문하였고 챗봇은 \"위대한 유산\"은...   \n",
       "\n",
       "                                               topic  \n",
       "0                          체스터필드 (담배),체스터필드 (담배)의 사물  \n",
       "1                                  JT저축은행,JT저축은행의 사물  \n",
       "2   예술/디자인/방송 내에서의 드라큘라 (2013년 드라마),드라큘라 (2013년 드라마)  \n",
       "5                   라리베르타드주 (페루),라리베르타드주 (페루)의 의식/행사  \n",
       "6  예술/디자인/방송 내에서의 위대한 유산 (2003년 영화),위대한 유산 (2003년...  "
      ]
     },
     "execution_count": 69,
     "metadata": {},
     "output_type": "execute_result"
    }
   ],
   "source": [
    "idxs = get_indices_with_regex(daily_dialogue_df, r\"\\(.*\\)\")\n",
    "print(len(idxs)) # 괄호를 포함하는 데이터 샘플 개수\n",
    "daily_dialogue_df.iloc[idxs].head()"
   ]
  },
  {
   "cell_type": "code",
   "execution_count": 32,
   "id": "980f6e02",
   "metadata": {},
   "outputs": [
    {
     "name": "stderr",
     "output_type": "stream",
     "text": [
      "/tmp/ipykernel_4400/2311973655.py:16: UserWarning: This pattern is interpreted as a regular expression, and has match groups. To actually get the groups, use str.extract.\n",
      "  dialogue_matches = df['dialogue'].str.contains(pattern, na=False, regex=True)\n",
      "/tmp/ipykernel_4400/2311973655.py:17: UserWarning: This pattern is interpreted as a regular expression, and has match groups. To actually get the groups, use str.extract.\n",
      "  summary_matches = df['summary'].str.contains(pattern, na=False, regex=True)\n"
     ]
    },
    {
     "data": {
      "text/html": [
       "<div>\n",
       "<style scoped>\n",
       "    .dataframe tbody tr th:only-of-type {\n",
       "        vertical-align: middle;\n",
       "    }\n",
       "\n",
       "    .dataframe tbody tr th {\n",
       "        vertical-align: top;\n",
       "    }\n",
       "\n",
       "    .dataframe thead th {\n",
       "        text-align: right;\n",
       "    }\n",
       "</style>\n",
       "<table border=\"1\" class=\"dataframe\">\n",
       "  <thead>\n",
       "    <tr style=\"text-align: right;\">\n",
       "      <th></th>\n",
       "      <th>fname</th>\n",
       "      <th>dialogue</th>\n",
       "      <th>summary</th>\n",
       "      <th>topic</th>\n",
       "    </tr>\n",
       "  </thead>\n",
       "  <tbody>\n",
       "    <tr>\n",
       "      <th>8</th>\n",
       "      <td>train_8</td>\n",
       "      <td>#Person1#: 안녕 반가워. 나는 연기 공부를 하는 학생이야\\n#Person2...</td>\n",
       "      <td>질문자는 이기광에 대해서 질문하였고 챗봇은 이기광(李起光, 1990년 3월 30일 ...</td>\n",
       "      <td>이기광,이기광의 인물</td>\n",
       "    </tr>\n",
       "    <tr>\n",
       "      <th>9</th>\n",
       "      <td>train_9</td>\n",
       "      <td>#Person1#: 안녕~ 한 3주일만에 온거 같네\\n#Person2#: 네, 오랜...</td>\n",
       "      <td>질문자는 김동훈(배우)에 대해서 질문하였고 챗봇은 김동훈(金東勳, 1939년 3월 ...</td>\n",
       "      <td>김동훈 (배우),김동훈 (배우)의 인물</td>\n",
       "    </tr>\n",
       "    <tr>\n",
       "      <th>12</th>\n",
       "      <td>train_12</td>\n",
       "      <td>#Person1#: 예술에 대해서 물어봐도 될까? 나는 예술에 대한 지식을 쌓고 있...</td>\n",
       "      <td>질문자는 네오클래시컬 메탈에 대해 질문하였고 챗봇은 네오클래시컬 메탈은 헤비 메탈의...</td>\n",
       "      <td>예술/디자인/방송 내에서의 네오클래시컬 메탈,네오클래시컬 메탈</td>\n",
       "    </tr>\n",
       "    <tr>\n",
       "      <th>13</th>\n",
       "      <td>train_13</td>\n",
       "      <td>#Person1#: 친구랑 마라톤하고 온다고 했는데 벌써 6주일이 지났네. 시간 진...</td>\n",
       "      <td>질문자는 그루브 아마다에 대해 질문하였고 챗봇은 그루브 아마다(Groove Arma...</td>\n",
       "      <td>예술/디자인/방송 내에서의 그루브 아마다,그루브 아마다</td>\n",
       "    </tr>\n",
       "    <tr>\n",
       "      <th>16</th>\n",
       "      <td>train_16</td>\n",
       "      <td>#Person1#: 이제 곧 크리스마스이네.. 크리스마스에 할 일이 없는데.\\n#P...</td>\n",
       "      <td>질문자는 루돌프 사슴코를 비롯한 캐럴에 대해 질문했고 챗봇은 《루돌프 사슴코》()는...</td>\n",
       "      <td>예술/디자인/방송 내에서의 루돌프 사슴코,루돌프 사슴코</td>\n",
       "    </tr>\n",
       "  </tbody>\n",
       "</table>\n",
       "</div>"
      ],
      "text/plain": [
       "       fname                                           dialogue  \\\n",
       "8    train_8  #Person1#: 안녕 반가워. 나는 연기 공부를 하는 학생이야\\n#Person2...   \n",
       "9    train_9  #Person1#: 안녕~ 한 3주일만에 온거 같네\\n#Person2#: 네, 오랜...   \n",
       "12  train_12  #Person1#: 예술에 대해서 물어봐도 될까? 나는 예술에 대한 지식을 쌓고 있...   \n",
       "13  train_13  #Person1#: 친구랑 마라톤하고 온다고 했는데 벌써 6주일이 지났네. 시간 진...   \n",
       "16  train_16  #Person1#: 이제 곧 크리스마스이네.. 크리스마스에 할 일이 없는데.\\n#P...   \n",
       "\n",
       "                                              summary  \\\n",
       "8   질문자는 이기광에 대해서 질문하였고 챗봇은 이기광(李起光, 1990년 3월 30일 ...   \n",
       "9   질문자는 김동훈(배우)에 대해서 질문하였고 챗봇은 김동훈(金東勳, 1939년 3월 ...   \n",
       "12  질문자는 네오클래시컬 메탈에 대해 질문하였고 챗봇은 네오클래시컬 메탈은 헤비 메탈의...   \n",
       "13  질문자는 그루브 아마다에 대해 질문하였고 챗봇은 그루브 아마다(Groove Arma...   \n",
       "16  질문자는 루돌프 사슴코를 비롯한 캐럴에 대해 질문했고 챗봇은 《루돌프 사슴코》()는...   \n",
       "\n",
       "                                 topic  \n",
       "8                          이기광,이기광의 인물  \n",
       "9                김동훈 (배우),김동훈 (배우)의 인물  \n",
       "12  예술/디자인/방송 내에서의 네오클래시컬 메탈,네오클래시컬 메탈  \n",
       "13      예술/디자인/방송 내에서의 그루브 아마다,그루브 아마다  \n",
       "16      예술/디자인/방송 내에서의 루돌프 사슴코,루돌프 사슴코  "
      ]
     },
     "execution_count": 32,
     "metadata": {},
     "output_type": "execute_result"
    }
   ],
   "source": [
    "idxs = get_indices_with_regex(daily_dialogue_df, r\"([ㄱ-ㅎㅏ-ㅣ!?.^~;]){2,}\")\n",
    "daily_dialogue_df.iloc[idxs].head()"
   ]
  },
  {
   "cell_type": "code",
   "execution_count": 73,
   "id": "17851bed",
   "metadata": {},
   "outputs": [
    {
     "name": "stdout",
     "output_type": "stream",
     "text": [
      "38665\n"
     ]
    },
    {
     "data": {
      "text/html": [
       "<div>\n",
       "<style scoped>\n",
       "    .dataframe tbody tr th:only-of-type {\n",
       "        vertical-align: middle;\n",
       "    }\n",
       "\n",
       "    .dataframe tbody tr th {\n",
       "        vertical-align: top;\n",
       "    }\n",
       "\n",
       "    .dataframe thead th {\n",
       "        text-align: right;\n",
       "    }\n",
       "</style>\n",
       "<table border=\"1\" class=\"dataframe\">\n",
       "  <thead>\n",
       "    <tr style=\"text-align: right;\">\n",
       "      <th></th>\n",
       "      <th>fname</th>\n",
       "      <th>dialogue</th>\n",
       "      <th>summary</th>\n",
       "      <th>topic</th>\n",
       "    </tr>\n",
       "  </thead>\n",
       "  <tbody>\n",
       "    <tr>\n",
       "      <th>0</th>\n",
       "      <td>train_0</td>\n",
       "      <td>#Person1#: 안녕! 처음 들어왔는데 너는 무슨 전문 챗봇이야?\\n#Perso...</td>\n",
       "      <td>질문자는 체스터필드 (담배)에 대해 질문하였고 챗봇은 체스터필드(Chesterfie...</td>\n",
       "      <td>체스터필드 (담배),체스터필드 (담배)의 사물</td>\n",
       "    </tr>\n",
       "    <tr>\n",
       "      <th>4</th>\n",
       "      <td>train_4</td>\n",
       "      <td>#Person1#: 안녕~ 잘지내고 있니? 오랜만이야.\\n#Person2#: 안녕하...</td>\n",
       "      <td>질문자는 서울억새축제에 대해서 질문했고 챗봇은 서울억새축제는 환경 생태공원으로 탈바...</td>\n",
       "      <td>서울억새축제,서울억새축제의 의식/행사</td>\n",
       "    </tr>\n",
       "    <tr>\n",
       "      <th>6</th>\n",
       "      <td>train_6</td>\n",
       "      <td>#Person1#: 안녕! 궁금한 게 있는데 너는 어떤 분야의 챗봇이야?\\n#Per...</td>\n",
       "      <td>질문자는 위대한 유산 (2003년 영화)에 대해 질문하였고 챗봇은 \"위대한 유산\"은...</td>\n",
       "      <td>예술/디자인/방송 내에서의 위대한 유산 (2003년 영화),위대한 유산 (2003년...</td>\n",
       "    </tr>\n",
       "    <tr>\n",
       "      <th>14</th>\n",
       "      <td>train_14</td>\n",
       "      <td>#Person1#: 안녕! 나 일하다가 궁금한 것이 있어 급히 물어볼게!\\n#Per...</td>\n",
       "      <td>질문자는 \"굿 스마일 컴퍼니\"에 대해서 질문하였고, 챗봇은 주식회사 굿 스마일 컴퍼...</td>\n",
       "      <td>굿 스마일 컴퍼니,굿 스마일 컴퍼니의 개념</td>\n",
       "    </tr>\n",
       "    <tr>\n",
       "      <th>20</th>\n",
       "      <td>train_20</td>\n",
       "      <td>#Person1#: 안녕 궁금한게 있는데  물어봐도 되나?\\n#Person2#: 네...</td>\n",
       "      <td>질문자는 유리 하모니카에 대해 질문했고, 챗봇은 '유리 하모니카 또는 글라스 하모니...</td>\n",
       "      <td>유리 하모니카,유리 하모니카의 물품</td>\n",
       "    </tr>\n",
       "  </tbody>\n",
       "</table>\n",
       "</div>"
      ],
      "text/plain": [
       "       fname                                           dialogue  \\\n",
       "0    train_0  #Person1#: 안녕! 처음 들어왔는데 너는 무슨 전문 챗봇이야?\\n#Perso...   \n",
       "4    train_4  #Person1#: 안녕~ 잘지내고 있니? 오랜만이야.\\n#Person2#: 안녕하...   \n",
       "6    train_6  #Person1#: 안녕! 궁금한 게 있는데 너는 어떤 분야의 챗봇이야?\\n#Per...   \n",
       "14  train_14  #Person1#: 안녕! 나 일하다가 궁금한 것이 있어 급히 물어볼게!\\n#Per...   \n",
       "20  train_20  #Person1#: 안녕 궁금한게 있는데  물어봐도 되나?\\n#Person2#: 네...   \n",
       "\n",
       "                                              summary  \\\n",
       "0   질문자는 체스터필드 (담배)에 대해 질문하였고 챗봇은 체스터필드(Chesterfie...   \n",
       "4   질문자는 서울억새축제에 대해서 질문했고 챗봇은 서울억새축제는 환경 생태공원으로 탈바...   \n",
       "6   질문자는 위대한 유산 (2003년 영화)에 대해 질문하였고 챗봇은 \"위대한 유산\"은...   \n",
       "14  질문자는 \"굿 스마일 컴퍼니\"에 대해서 질문하였고, 챗봇은 주식회사 굿 스마일 컴퍼...   \n",
       "20  질문자는 유리 하모니카에 대해 질문했고, 챗봇은 '유리 하모니카 또는 글라스 하모니...   \n",
       "\n",
       "                                                topic  \n",
       "0                           체스터필드 (담배),체스터필드 (담배)의 사물  \n",
       "4                                서울억새축제,서울억새축제의 의식/행사  \n",
       "6   예술/디자인/방송 내에서의 위대한 유산 (2003년 영화),위대한 유산 (2003년...  \n",
       "14                            굿 스마일 컴퍼니,굿 스마일 컴퍼니의 개념  \n",
       "20                                유리 하모니카,유리 하모니카의 물품  "
      ]
     },
     "execution_count": 73,
     "metadata": {},
     "output_type": "execute_result"
    }
   ],
   "source": [
    "idxs = get_indices_with_regex(daily_dialogue_df, r\"/\")\n",
    "print(len(idxs))\n",
    "daily_dialogue_df.iloc[idxs].head()"
   ]
  },
  {
   "cell_type": "code",
   "execution_count": 33,
   "id": "474b0119",
   "metadata": {},
   "outputs": [
    {
     "name": "stderr",
     "output_type": "stream",
     "text": [
      "/tmp/ipykernel_4400/2311973655.py:16: UserWarning: This pattern is interpreted as a regular expression, and has match groups. To actually get the groups, use str.extract.\n",
      "  dialogue_matches = df['dialogue'].str.contains(pattern, na=False, regex=True)\n",
      "/tmp/ipykernel_4400/2311973655.py:17: UserWarning: This pattern is interpreted as a regular expression, and has match groups. To actually get the groups, use str.extract.\n",
      "  summary_matches = df['summary'].str.contains(pattern, na=False, regex=True)\n"
     ]
    },
    {
     "name": "stdout",
     "output_type": "stream",
     "text": [
      "137935 135114\n"
     ]
    }
   ],
   "source": [
    "only_speaker_chatbot_idxs = get_indices_with_regex(daily_dialogue_df, r\".*(질문자).*(챗봇).*\")\n",
    "print(len(daily_dialogue_df), len(only_speaker_chatbot_idxs))"
   ]
  },
  {
   "cell_type": "code",
   "execution_count": 40,
   "id": "54d9f0c1",
   "metadata": {},
   "outputs": [
    {
     "data": {
      "text/plain": [
       "'질문자는 양재동의 공원 대해 물었고 쳇봇은 매헌시민의숲은 서울특별시 양재동에 위치한 숲으로 이루어진 공원이며 공원 내에는 10만 6,600여그루의 나무로 수목이 우거져 있어, 유치원이나 주변 학교의 소풍 코스로 이용되고 공원 안에는 야외예식장과 야외무대, 테니스장, 배구장, 배드민턴장 등 각종 체육시설 및 주민 편의시설이 갖추어져있다고 답했다.'"
      ]
     },
     "execution_count": 40,
     "metadata": {},
     "output_type": "execute_result"
    }
   ],
   "source": [
    "no_patterns = list(set(list(daily_dialogue_df.index)) - set(only_speaker_chatbot_idxs))\n",
    "no_chatbot_pattern = daily_dialogue_df.iloc[no_patterns]\n",
    "no_chatbot_pattern.iloc[3]['summary']"
   ]
  },
  {
   "cell_type": "markdown",
   "id": "72fdffaf",
   "metadata": {},
   "source": [
    "- 질문자, 사용자, 챗봇, 쳇봇 등 변수가 존재하는 데이터 샘플은 제거하고 오직 '질문자', '챗봇'이 summary에 존재하는 데이터 샘플만 채택한다."
   ]
  },
  {
   "cell_type": "code",
   "execution_count": 42,
   "id": "c60be383",
   "metadata": {},
   "outputs": [
    {
     "name": "stdout",
     "output_type": "stream",
     "text": [
      "135114\n"
     ]
    }
   ],
   "source": [
    "clean_summary_speaker_chatbot = daily_dialogue_df.iloc[only_speaker_chatbot_idxs]\n",
    "print(len(clean_summary_speaker_chatbot))"
   ]
  },
  {
   "cell_type": "code",
   "execution_count": 48,
   "id": "da97f760",
   "metadata": {},
   "outputs": [],
   "source": [
    "def clean_text(text):\n",
    "    ### 질문자 = #Person1#, 챗봇 = #Person2#로 대체\n",
    "    text = text.replace(\"질문자\", \"#Person1#\")\n",
    "    text = text.replace(\"챗봇\", \"#Person2#\")\n",
    "\n",
    "    ### 《 , 》 처리 > 강조하기 위해 작은 따옴표로 감쌈.\n",
    "    text = re.sub(r\"[<|〈|《]\", \"'\", text)\n",
    "    text = re.sub(r\"[>|〉|》]\", \"'\", text)\n",
    "\n",
    "    ### 모든 물결 제거\n",
    "    text = text.replace(\"~\", \" \")\n",
    "\n",
    "    ### . . 처럼 마침표 사이에 공백만 존재하는 경우 마침표를 1개만 작성.\n",
    "    for i in range(10):\n",
    "        if re.findall(r\"\\.\\s+\\.\", text):\n",
    "            text = re.sub(r\"\\.\\s+\\.\", \".\", text)\n",
    "        else:\n",
    "            break\n",
    "\n",
    "    ### 이상한 특수문자 제거\n",
    "    text = re.sub(r\"[·|①|②|③|④|⑤|⑥|⑦|⑧|⑨|⑩]\", \"\", text)\n",
    "\n",
    "    ### - - 로 감싸진 문자에서 -만 제거\n",
    "    text = re.sub(r\"\\-(.*)\\-\", r\"\\1\", text)\n",
    "\n",
    "    ### 2번 이상 연속된 자음, 모음, 특수문자 제거\n",
    "    text = re.sub(r\"([ㄱ-ㅎㅏ-ㅣ!\\?\\.\\^~;|\\'\\\"]){2,}\", \"\", text)\n",
    "\n",
    "    ### 괄호 처리\n",
    "    # 모든 괄호 제거\n",
    "    text = re.sub(r\"\\(.*\\)\", \"\", text)\n",
    "    # matches = re.findall(r'\\(.*?\\)|（.*?）', text) # 모든 괄호 검색\n",
    "    # # 찾은 괄호들을 하나씩 확인합니다.\n",
    "    # for match in matches:\n",
    "    #     # 괄호 안의 내용만 추출합니다. (괄호 제외)\n",
    "    #     content = match[1:-1]\n",
    "        \n",
    "    #     # 한글 또는 영어만 포함된 괄호인지 확인하는 정규표현식 패턴입니다.\n",
    "    #     # 한글: [가-힣]\n",
    "    #     # 영어: [a-zA-Z]\n",
    "    #     # 숫자: [0-9]\n",
    "    #     # +: 하나 이상 반복\n",
    "    #     # $: 문자열의 끝\n",
    "    #     # 이 패턴에 일치하지 않으면 (즉, 한자나 특수문자가 포함되어 있거나 아무것도 포함 안 된 경우) 괄호를 제거합니다.\n",
    "    #     if not re.fullmatch(r'[가-힣a-zA-Z0-9]+', content):\n",
    "    #         # re.sub를 사용하여 해당 괄호 부분을 빈 문자열로 대체합니다.\n",
    "    #         text = re.sub(re.escape(match), '', text)\n",
    "\n",
    "    ### 2번 이상 등장하는 공백 제거\n",
    "    text = re.sub(r\"\\s+\", \" \", text)\n",
    "\n",
    "    return text"
   ]
  },
  {
   "cell_type": "code",
   "execution_count": 150,
   "id": "061bb1e7",
   "metadata": {},
   "outputs": [
    {
     "name": "stdout",
     "output_type": "stream",
     "text": [
      "이기광 은 한국의 가수이다.\n",
      "김동훈은 훌륭한 연기자입니다.\n",
      "괄호 안의 내용 은 남기고 싶습니다.\n",
      "이름은 중요하다.\n",
      "이름은 중요하다.\n",
      "이름'루돌프'은 중요하다.\n",
      "'Something'는 조지 해리슨이 쓰고 비틀즈가 1969년 앨범 'Abbey Road'에 담은 노래입니다\n",
      "안녕 내 이름은 \n",
      "아니 음 입니다.\n",
      "특수문자 테스트 번은 입니. 생산판매 생산 판매 \n",
      "게임 소프트인 '대도서관의 양치기 Library Party'가 출시\n",
      "Daitoshokan no Hitsujikai\n",
      "맞아. 하하. 다름이 아니라 이번에 또\n",
      "#Person1#는 #Person2#과 대화합니다.\n",
      "#Person2#과 #Person1#의 대화\n"
     ]
    }
   ],
   "source": [
    "test_case = [    \n",
    "    \"이기광 (李起光, 1990년 3월 3일)은 한국의 가수이다.\",\n",
    "    \"김동훈(배우-연기자)은 훌륭한 연기자입니다.\",\n",
    "    \"괄호 안의 내용(23한글포함) 은 남기고 싶습니다.\",\n",
    "    \"이름(name)은 중요하다.\",\n",
    "    \"이름()은 중요하다.\",\n",
    "    \"이름《루돌프》은 중요하다.\",\n",
    "    \"〈Something〉는 조지 해리슨이 쓰고 비틀즈가 1969년 앨범 《Abbey Road》에 담은 노래입니다\",\n",
    "    \"안녕~ 내 이름은 \",\n",
    "    \"아니....  음. ... . .  입니다. . .\",\n",
    "    \"특수문자 테스트 ①번은  ① 입니. 생산·판매 생산 · 판매 \",\n",
    "    \"게임 소프트인 '대도서관의 양치기 -Library Party-'가 출시\",\n",
    "    \"\\\"\\\"Daitoshokan no Hitsujikai\\\"\\\"\",\n",
    "    \"맞아. 하하. 다름이 아니라 이번에 또\",\n",
    "    \"질문자는 챗봇과 대화합니다.\", \"챗봇과 질문자의 대화\"\n",
    "]\n",
    "\n",
    "for tc in test_case:\n",
    "    print(clean_text(tc))"
   ]
  },
  {
   "cell_type": "code",
   "execution_count": 49,
   "id": "a2877032",
   "metadata": {},
   "outputs": [],
   "source": [
    "from multiprocessing import Pool\n",
    "\n",
    "def apply_clean_text_to_partition(df_partition):\n",
    "    \"\"\"\n",
    "    데이터프레임의 한 파티션에 clean_text 함수를 적용합니다.\n",
    "    \"\"\"\n",
    "    # 파티션된 데이터프레임의 세 컬럼에 텍스트 정리 함수를 적용합니다.\n",
    "    df_partition['dialogue'] = df_partition['dialogue'].apply(clean_text)\n",
    "    df_partition['summary'] = df_partition['summary'].apply(clean_text)\n",
    "    df_partition['topic'] = df_partition['topic'].apply(clean_text)\n",
    "    return df_partition\n",
    "\n",
    "def parallel_apply_clean_text(df: pd.DataFrame) -> pd.DataFrame:\n",
    "    \"\"\"\n",
    "    멀티프로세싱을 사용하여 데이터프레임의 특정 컬럼에 텍스트 정리 함수를 적용합니다.\n",
    "    \"\"\"\n",
    "    # 시스템의 CPU 코어 수를 가져와 병렬 처리를 위한 풀을 생성합니다.\n",
    "    num_cores = os.cpu_count()\n",
    "    num_workers = num_cores // 2\n",
    "    with Pool(num_workers) as pool:\n",
    "        # 데이터프레임을 코어 수에 맞게 분할합니다.\n",
    "        df_split = [df[i::num_cores] for i in range(num_cores)]\n",
    "        # 분할된 데이터프레임에 병렬로 함수를 적용합니다.\n",
    "        df_processed = pd.concat(pool.map(apply_clean_text_to_partition, df_split))\n",
    "    return df_processed\n"
   ]
  },
  {
   "cell_type": "code",
   "execution_count": null,
   "id": "2c148122",
   "metadata": {},
   "outputs": [],
   "source": [
    "# 함수 실행\n",
    "# daily_df_all_cleaned = parallel_apply_clean_text(clean_summary_speaker_chatbot)\n",
    "# print(daily_df_all_cleaned.shape)\n",
    "sampling_df_tosave_cleaned = parallel_apply_clean_text(sampling_df_tosave)\n",
    "print(sampling_df_tosave_cleaned.shape)\n",
    "not_sampled_df_tosave_cleaned = parallel_apply_clean_text(not_sampled_df_tosave)\n",
    "print(not_sampled_df_tosave_cleaned.shape)"
   ]
  },
  {
   "cell_type": "code",
   "execution_count": 51,
   "id": "bd676c5b",
   "metadata": {},
   "outputs": [
    {
     "name": "stdout",
     "output_type": "stream",
     "text": [
      "(15527, 4)\n",
      "(38232, 4)\n"
     ]
    }
   ],
   "source": [
    "print(sampling_df_tosave_cleaned.shape)\n",
    "print(not_sampled_df_tosave_cleaned.shape)"
   ]
  },
  {
   "cell_type": "code",
   "execution_count": 54,
   "id": "d4e701c0",
   "metadata": {},
   "outputs": [
    {
     "name": "stderr",
     "output_type": "stream",
     "text": [
      "/tmp/ipykernel_853/2311973655.py:16: UserWarning: This pattern is interpreted as a regular expression, and has match groups. To actually get the groups, use str.extract.\n",
      "  dialogue_matches = df['dialogue'].str.contains(pattern, na=False, regex=True)\n",
      "/tmp/ipykernel_853/2311973655.py:17: UserWarning: This pattern is interpreted as a regular expression, and has match groups. To actually get the groups, use str.extract.\n",
      "  summary_matches = df['summary'].str.contains(pattern, na=False, regex=True)\n"
     ]
    },
    {
     "name": "stdout",
     "output_type": "stream",
     "text": [
      "15526 15526\n",
      "0\n",
      "0\n",
      "38232 38232\n",
      "1\n",
      "0\n"
     ]
    }
   ],
   "source": [
    "# 확인\n",
    "only_speaker_chatbot_idxs = get_indices_with_regex(sampling_df_tosave_cleaned, r\".*(#Person1#).*(#Person2#).*\")\n",
    "print(len(sampling_df_tosave_cleaned), len(only_speaker_chatbot_idxs)) # 숫자가 같아야 한다.\n",
    "idxs_with_para = get_indices_with_regex(sampling_df_tosave_cleaned, r\"\\(.*\\)\")\n",
    "print(len(idxs_with_para)) # 괄호를 포함하는 데이터 샘플 개수\n",
    "idxs_with_s = get_indices_with_regex(sampling_df_tosave_cleaned, r\"[<|〈|《]\")\n",
    "print(len(idxs_with_s))\n",
    "\n",
    "# 괄호 포함하는 index 제거\n",
    "sampling_df_tosave_cleaned = sampling_df_tosave_cleaned.iloc[~sampling_df_tosave_cleaned.index.isin(idxs_with_para)]\n",
    "\n",
    "# 확인\n",
    "only_speaker_chatbot_idxs = get_indices_with_regex(not_sampled_df_tosave_cleaned, r\".*(#Person1#).*(#Person2#).*\")\n",
    "print(len(not_sampled_df_tosave_cleaned), len(only_speaker_chatbot_idxs)) # 숫자가 같아야 한다.\n",
    "idxs_with_para = get_indices_with_regex(not_sampled_df_tosave_cleaned, r\"\\(.*\\)\")\n",
    "print(len(idxs_with_para)) # 괄호를 포함하는 데이터 샘플 개수\n",
    "idxs_with_s = get_indices_with_regex(not_sampled_df_tosave_cleaned, r\"[<|〈|《]\")\n",
    "print(len(idxs_with_s))\n",
    "\n",
    "# 괄호 포함하는 index 제거\n",
    "not_sampled_df_tosave_cleaned = not_sampled_df_tosave_cleaned.iloc[~not_sampled_df_tosave_cleaned.index.isin(idxs_with_para)]"
   ]
  },
  {
   "cell_type": "code",
   "execution_count": 81,
   "id": "14d66cea",
   "metadata": {},
   "outputs": [
    {
     "name": "stderr",
     "output_type": "stream",
     "text": [
      "/tmp/ipykernel_471937/2311973655.py:16: UserWarning: This pattern is interpreted as a regular expression, and has match groups. To actually get the groups, use str.extract.\n",
      "  dialogue_matches = df['dialogue'].str.contains(pattern, na=False, regex=True)\n",
      "/tmp/ipykernel_471937/2311973655.py:17: UserWarning: This pattern is interpreted as a regular expression, and has match groups. To actually get the groups, use str.extract.\n",
      "  summary_matches = df['summary'].str.contains(pattern, na=False, regex=True)\n"
     ]
    },
    {
     "name": "stdout",
     "output_type": "stream",
     "text": [
      "15532 15532\n",
      "0\n",
      "0\n",
      "28889 28889\n",
      "1\n",
      "0\n"
     ]
    }
   ],
   "source": [
    "# 확인\n",
    "only_speaker_chatbot_idxs = get_indices_with_regex(sampling_15532_df_cleaned, r\".*(#Person1#).*(#Person2#).*\")\n",
    "print(len(sampling_15532_df_cleaned), len(only_speaker_chatbot_idxs)) # 숫자가 같아야 한다.\n",
    "idxs_with_para = get_indices_with_regex(sampling_15532_df_cleaned, r\"\\(.*\\)\")\n",
    "print(len(idxs_with_para)) # 괄호를 포함하는 데이터 샘플 개수\n",
    "idxs_with_s = get_indices_with_regex(sampling_15532_df_cleaned, r\"[<|〈|《]\")\n",
    "print(len(idxs_with_s))\n",
    "\n",
    "sampling_15532_df_cleaned = sampling_15532_df_cleaned.iloc[~sampling_15532_df_cleaned.index.isin(idxs_with_para)]\n",
    "\n",
    "only_speaker_chatbot_idxs = get_indices_with_regex(sampling_28889_df_cleaned, r\".*(#Person1#).*(#Person2#).*\")\n",
    "print(len(sampling_28889_df_cleaned), len(only_speaker_chatbot_idxs)) # 숫자가 같아야 한다.\n",
    "idxs_with_para = get_indices_with_regex(sampling_28889_df_cleaned, r\"\\(.*\\)\")\n",
    "print(len(idxs_with_para)) # 괄호를 포함하는 데이터 샘플 개수\n",
    "idxs_with_s = get_indices_with_regex(sampling_28889_df_cleaned, r\"[<|〈|《]\")\n",
    "print(len(idxs_with_s))\n",
    "\n",
    "sampling_28888_df_cleaned = sampling_28889_df_cleaned.iloc[~sampling_28889_df_cleaned.index.isin(idxs_with_para)]\n",
    "# # 괄호 포함하는 index 제거\n",
    "# daily_df_all_cleaned = daily_df_all_cleaned.iloc[~daily_df_all_cleaned.index.isin(idxs_with_para)]"
   ]
  },
  {
   "cell_type": "code",
   "execution_count": 82,
   "id": "26c1e41c",
   "metadata": {},
   "outputs": [
    {
     "data": {
      "text/plain": [
       "(15532, 28888)"
      ]
     },
     "execution_count": 82,
     "metadata": {},
     "output_type": "execute_result"
    }
   ],
   "source": [
    "len(sampling_15532_df_cleaned), len(sampling_28888_df_cleaned)"
   ]
  },
  {
   "cell_type": "code",
   "execution_count": null,
   "id": "5ad50bb1",
   "metadata": {},
   "outputs": [],
   "source": [
    "# daily_df_all_cleaned.to_csv(os.path.join(data_dir, \"ai_hub_02daily_cleaned.csv\"), index=False)"
   ]
  },
  {
   "cell_type": "code",
   "execution_count": 7,
   "id": "418d5294",
   "metadata": {},
   "outputs": [
    {
     "name": "stdout",
     "output_type": "stream",
     "text": [
      "Index(['fname', 'dialogue', 'summary', 'topic'], dtype='object')\n",
      "(135113, 4)\n"
     ]
    }
   ],
   "source": [
    "daily_df_all_cleaned = pd.read_csv(os.path.join(data_dir, \"ai_hub_02daily_cleaned.csv\"))\n",
    "print(daily_df_all_cleaned.columns)\n",
    "print(daily_df_all_cleaned.shape)"
   ]
  },
  {
   "cell_type": "code",
   "execution_count": 55,
   "id": "3194d16d",
   "metadata": {},
   "outputs": [
    {
     "data": {
      "text/plain": [
       "Index(['fname', 'dialogue', 'summary', 'topic'], dtype='object')"
      ]
     },
     "execution_count": 55,
     "metadata": {},
     "output_type": "execute_result"
    }
   ],
   "source": [
    "sampling_df_tosave_cleaned.columns"
   ]
  },
  {
   "cell_type": "code",
   "execution_count": 56,
   "id": "eb6c0d39",
   "metadata": {},
   "outputs": [],
   "source": [
    "sampling_df_tosave_cleaned.to_csv(os.path.join(data_dir,\"ai_hub_02daily_sft.csv\"),index=False)\n",
    "not_sampled_df_tosave_cleaned.to_csv(os.path.join(data_dir,\"ai_hub_02daily_dapt.csv\"),index=False)"
   ]
  },
  {
   "cell_type": "markdown",
   "id": "33735cc2",
   "metadata": {},
   "source": [
    "#### 토픽 정제"
   ]
  },
  {
   "cell_type": "code",
   "execution_count": 84,
   "metadata": {},
   "outputs": [],
   "source": [
    "def jaccard_similarity_with_tokenizer(sentence1, sentence2, tokenizer):\n",
    "    \"\"\"자카드 유사도 측정\n",
    "    J(A,B) = Intersection(A, B) / Union(A, B)\n",
    "    > 토큰화 기준 자카드 유사도 측정 = 겹치는 토큰 개수 / 전체 토큰 개수\n",
    "\n",
    "    :param _type_ sentence1: _description_\n",
    "    :param _type_ sentence2: _description_\n",
    "    :param _type_ tokenizer: _description_\n",
    "    :return _type_: _description_\n",
    "    \"\"\"\n",
    "    # 1. 문장을 토크나이저로 분리합니다.\n",
    "    # AutoTokenizer 코드\n",
    "    # tokens1 = set(tokenizer.tokenize(sentence1)) \n",
    "    # tokens2 = set(tokenizer.tokenize(sentence2))\n",
    "    # Kiwi tokenizer 코드\n",
    "    tokens1 = tokenizer.tokenize(sentence1)\n",
    "    tokens1 = set([t.form for t in tokens1])\n",
    "    tokens2 = tokenizer.tokenize(sentence2)\n",
    "    tokens2 = set([t.form for t in tokens2])\n",
    "    # 2. 파이썬의 set 자료형을 사용하여 교집합과 합집합을 구합니다.\n",
    "    intersection = tokens1.intersection(tokens2)\n",
    "    union = tokens1.union(tokens2)\n",
    "    # 3. 분모(합집합의 크기)가 0인 경우를 처리합니다.\n",
    "    # 두 문장 모두 비어있을 경우 1.0을 반환합니다.\n",
    "    if len(union) == 0:\n",
    "        return 1.0\n",
    "    # 4. 교집합의 크기를 합집합의 크기로 나누어 유사도를 계산합니다.\n",
    "    return len(intersection) / len(union)\n",
    "\n",
    "def sentence_similarity_with_embeddings(senteces, model):\n",
    "    pass"
   ]
  },
  {
   "cell_type": "code",
   "execution_count": 9,
   "id": "0ee0c5e3",
   "metadata": {},
   "outputs": [
    {
     "name": "stdout",
     "output_type": "stream",
     "text": [
      "0.6666666666666666\n",
      "0.2\n",
      "0.5625\n",
      "0.1875\n",
      "['체스터필드 (담배)의 사물', '서울억새축제의 의식/행사', '예술/디자인/방송 내에서의 위대한 유산 (2003년 영화), (영화)']\n"
     ]
    }
   ],
   "source": [
    "from sentence_transformers import SentenceTransformer\n",
    "# model = SentenceTransformer(\"nlpai-lab/KoE5\")\n",
    "\n",
    "from kiwipiepy import Kiwi\n",
    "kiwi = Kiwi()\n",
    "\n",
    "test_topics = [\n",
    "    \"체스터필드 (담배),체스터필드 (담배)의 사물\",\n",
    "    \"서울억새축제,서울억새축제의 의식/행사\",\n",
    "    \"예술/디자인/방송 내에서의 위대한 유산 (2003년 영화),위대한 유산 (2003년년 영화),(영화)\",\n",
    "]\n",
    "cleaned_test_topics = []\n",
    "for tt in test_topics:\n",
    "    topic_lists = tt.split(\",\")\n",
    "    if len(topic_lists)<0:\n",
    "        continue\n",
    "    # 리스트를 순회하며 원소를 삭제하기 위해 인덱스를 사용합니다.\n",
    "    i = 0\n",
    "    while i < len(topic_lists):\n",
    "        j = i + 1\n",
    "        while j < len(topic_lists):\n",
    "            # 두 토픽 간의 자카드 유사도를 계산합니다.\n",
    "            sim = jaccard_similarity_with_tokenizer(topic_lists[i], topic_lists[j], kiwi)\n",
    "            print(sim)\n",
    "            \n",
    "            # 유사도가 0.6 이상이면\n",
    "            if sim >= 0.2:\n",
    "                # 더 긴 토픽만 남기고 짧은 토픽을 제거합니다.\n",
    "                if len(topic_lists[i]) >= len(topic_lists[j]):\n",
    "                    topic_lists.pop(j) # j번째 원소 제거\n",
    "                else:\n",
    "                    topic_lists.pop(i) # i번째 원소 제거\n",
    "                    # i번째 원소가 제거되었으므로 인덱스를 조정합니다.\n",
    "                    i -= 1 \n",
    "                    break # 내부 while 루프를 다시 시작\n",
    "            else:\n",
    "                j += 1\n",
    "        i += 1\n",
    "    cleaned_test_topics.append(\", \".join(topic_lists))\n",
    "print(cleaned_test_topics)"
   ]
  },
  {
   "cell_type": "code",
   "execution_count": 86,
   "id": "b4fd5202",
   "metadata": {},
   "outputs": [],
   "source": [
    "from multiprocessing import Pool, cpu_count\n",
    "from kiwipiepy import Kiwi\n",
    "import re\n",
    "from tqdm import tqdm\n",
    "\n",
    "def process_topic_list(tt):\n",
    "    \"\"\"\n",
    "    하나의 토픽 문자열에 대해 유사도 기반으로 중복을 제거합니다.\n",
    "    \"\"\"\n",
    "    # Kiwi 객체는 프로세스마다 생성해야 안전합니다.\n",
    "    kiwi = Kiwi()\n",
    "    \n",
    "    topic_lists = tt.split(\",\")\n",
    "    if not topic_lists or len(topic_lists) < 2:\n",
    "        return \", \".join(topic_lists)\n",
    "\n",
    "    i = 0\n",
    "    while i < len(topic_lists):\n",
    "        j = i + 1\n",
    "        while j < len(topic_lists):\n",
    "            sim = jaccard_similarity_with_tokenizer(topic_lists[i], topic_lists[j], kiwi)\n",
    "            \n",
    "            if sim >= 0.2:\n",
    "                if len(topic_lists[i]) >= len(topic_lists[j]):\n",
    "                    topic_lists.pop(j)\n",
    "                else:\n",
    "                    topic_lists.pop(i)\n",
    "                    i -= 1\n",
    "                    break\n",
    "            else:\n",
    "                j += 1\n",
    "        i += 1\n",
    "    \n",
    "    return \", \".join(topic_lists)\n",
    "\n",
    "def parallel_topic_processing(df: pd.DataFrame) -> pd.DataFrame:\n",
    "    \"\"\"\n",
    "    멀티프로세싱을 사용하여 데이터프레임의 topic 컬럼을 처리합니다.\n",
    "    \"\"\"\n",
    "    # 시스템의 CPU 코어 수를 가져와 병렬 처리를 위한 풀을 생성합니다.\n",
    "    num_cores = cpu_count() - 4\n",
    "    with Pool(num_cores) as pool:\n",
    "        # pool.map을 사용하여 각 토픽 문자열에 병렬로 함수를 적용합니다.\n",
    "        # cleaned_topics = pool.map(process_topic_list, df['topic'].values)\n",
    "        cleaned_topics = list(tqdm(pool.imap_unordered(process_topic_list, df['topic'].values), total=len(df)))\n",
    "    \n",
    "    # 처리된 결과를 데이터프레임에 할당합니다.\n",
    "    df['topic'] = cleaned_topics\n",
    "    return df"
   ]
  },
  {
   "cell_type": "code",
   "execution_count": 87,
   "id": "b0e279e0",
   "metadata": {},
   "outputs": [],
   "source": [
    "# daily_df_topic_all_cleaned = parallel_topic_processing(daily_df_all_cleaned.copy())"
   ]
  },
  {
   "cell_type": "code",
   "execution_count": 88,
   "id": "504e1fb3",
   "metadata": {},
   "outputs": [
    {
     "name": "stderr",
     "output_type": "stream",
     "text": [
      "  4%|███▏                                                                         | 653/15532 [05:22<2:02:31,  2.02it/s]\n"
     ]
    },
    {
     "ename": "KeyboardInterrupt",
     "evalue": "",
     "output_type": "error",
     "traceback": [
      "\u001b[31m---------------------------------------------------------------------------\u001b[39m",
      "\u001b[31mIndexError\u001b[39m                                Traceback (most recent call last)",
      "\u001b[36mFile \u001b[39m\u001b[32m~/.conda/envs/py311/lib/python3.11/multiprocessing/pool.py:856\u001b[39m, in \u001b[36mIMapIterator.next\u001b[39m\u001b[34m(self, timeout)\u001b[39m\n\u001b[32m    855\u001b[39m \u001b[38;5;28;01mtry\u001b[39;00m:\n\u001b[32m--> \u001b[39m\u001b[32m856\u001b[39m     item = \u001b[38;5;28mself\u001b[39m._items.popleft()\n\u001b[32m    857\u001b[39m \u001b[38;5;28;01mexcept\u001b[39;00m \u001b[38;5;167;01mIndexError\u001b[39;00m:\n",
      "\u001b[31mIndexError\u001b[39m: pop from an empty deque",
      "\nDuring handling of the above exception, another exception occurred:\n",
      "\u001b[31mKeyboardInterrupt\u001b[39m                         Traceback (most recent call last)",
      "\u001b[36mCell\u001b[39m\u001b[36m \u001b[39m\u001b[32mIn[88]\u001b[39m\u001b[32m, line 1\u001b[39m\n\u001b[32m----> \u001b[39m\u001b[32m1\u001b[39m sampling_15532_df_cleaned = \u001b[43mparallel_topic_processing\u001b[49m\u001b[43m(\u001b[49m\u001b[43msampling_15532_df_cleaned\u001b[49m\u001b[43m.\u001b[49m\u001b[43mcopy\u001b[49m\u001b[43m(\u001b[49m\u001b[43m)\u001b[49m\u001b[43m)\u001b[49m\n\u001b[32m      2\u001b[39m sampling_28888_df_cleaned = parallel_topic_processing(sampling_28888_df_cleaned.copy())\n",
      "\u001b[36mCell\u001b[39m\u001b[36m \u001b[39m\u001b[32mIn[86]\u001b[39m\u001b[32m, line 45\u001b[39m, in \u001b[36mparallel_topic_processing\u001b[39m\u001b[34m(df)\u001b[39m\n\u001b[32m     41\u001b[39m num_cores = cpu_count() - \u001b[32m4\u001b[39m\n\u001b[32m     42\u001b[39m \u001b[38;5;28;01mwith\u001b[39;00m Pool(num_cores) \u001b[38;5;28;01mas\u001b[39;00m pool:\n\u001b[32m     43\u001b[39m     \u001b[38;5;66;03m# pool.map을 사용하여 각 토픽 문자열에 병렬로 함수를 적용합니다.\u001b[39;00m\n\u001b[32m     44\u001b[39m     \u001b[38;5;66;03m# cleaned_topics = pool.map(process_topic_list, df['topic'].values)\u001b[39;00m\n\u001b[32m---> \u001b[39m\u001b[32m45\u001b[39m     cleaned_topics = \u001b[38;5;28;43mlist\u001b[39;49m\u001b[43m(\u001b[49m\u001b[43mtqdm\u001b[49m\u001b[43m(\u001b[49m\u001b[43mpool\u001b[49m\u001b[43m.\u001b[49m\u001b[43mimap_unordered\u001b[49m\u001b[43m(\u001b[49m\u001b[43mprocess_topic_list\u001b[49m\u001b[43m,\u001b[49m\u001b[43m \u001b[49m\u001b[43mdf\u001b[49m\u001b[43m[\u001b[49m\u001b[33;43m'\u001b[39;49m\u001b[33;43mtopic\u001b[39;49m\u001b[33;43m'\u001b[39;49m\u001b[43m]\u001b[49m\u001b[43m.\u001b[49m\u001b[43mvalues\u001b[49m\u001b[43m)\u001b[49m\u001b[43m,\u001b[49m\u001b[43m \u001b[49m\u001b[43mtotal\u001b[49m\u001b[43m=\u001b[49m\u001b[38;5;28;43mlen\u001b[39;49m\u001b[43m(\u001b[49m\u001b[43mdf\u001b[49m\u001b[43m)\u001b[49m\u001b[43m)\u001b[49m\u001b[43m)\u001b[49m\n\u001b[32m     47\u001b[39m \u001b[38;5;66;03m# 처리된 결과를 데이터프레임에 할당합니다.\u001b[39;00m\n\u001b[32m     48\u001b[39m df[\u001b[33m'\u001b[39m\u001b[33mtopic\u001b[39m\u001b[33m'\u001b[39m] = cleaned_topics\n",
      "\u001b[36mFile \u001b[39m\u001b[32m~/.conda/envs/py311/lib/python3.11/site-packages/tqdm/std.py:1181\u001b[39m, in \u001b[36mtqdm.__iter__\u001b[39m\u001b[34m(self)\u001b[39m\n\u001b[32m   1178\u001b[39m time = \u001b[38;5;28mself\u001b[39m._time\n\u001b[32m   1180\u001b[39m \u001b[38;5;28;01mtry\u001b[39;00m:\n\u001b[32m-> \u001b[39m\u001b[32m1181\u001b[39m \u001b[43m    \u001b[49m\u001b[38;5;28;43;01mfor\u001b[39;49;00m\u001b[43m \u001b[49m\u001b[43mobj\u001b[49m\u001b[43m \u001b[49m\u001b[38;5;129;43;01min\u001b[39;49;00m\u001b[43m \u001b[49m\u001b[43miterable\u001b[49m\u001b[43m:\u001b[49m\n\u001b[32m   1182\u001b[39m \u001b[43m        \u001b[49m\u001b[38;5;28;43;01myield\u001b[39;49;00m\u001b[43m \u001b[49m\u001b[43mobj\u001b[49m\n\u001b[32m   1183\u001b[39m \u001b[43m        \u001b[49m\u001b[38;5;66;43;03m# Update and possibly print the progressbar.\u001b[39;49;00m\n\u001b[32m   1184\u001b[39m \u001b[43m        \u001b[49m\u001b[38;5;66;43;03m# Note: does not call self.update(1) for speed optimisation.\u001b[39;49;00m\n",
      "\u001b[36mFile \u001b[39m\u001b[32m~/.conda/envs/py311/lib/python3.11/multiprocessing/pool.py:861\u001b[39m, in \u001b[36mIMapIterator.next\u001b[39m\u001b[34m(self, timeout)\u001b[39m\n\u001b[32m    859\u001b[39m     \u001b[38;5;28mself\u001b[39m._pool = \u001b[38;5;28;01mNone\u001b[39;00m\n\u001b[32m    860\u001b[39m     \u001b[38;5;28;01mraise\u001b[39;00m \u001b[38;5;167;01mStopIteration\u001b[39;00m \u001b[38;5;28;01mfrom\u001b[39;00m\u001b[38;5;250m \u001b[39m\u001b[38;5;28;01mNone\u001b[39;00m\n\u001b[32m--> \u001b[39m\u001b[32m861\u001b[39m \u001b[38;5;28;43mself\u001b[39;49m\u001b[43m.\u001b[49m\u001b[43m_cond\u001b[49m\u001b[43m.\u001b[49m\u001b[43mwait\u001b[49m\u001b[43m(\u001b[49m\u001b[43mtimeout\u001b[49m\u001b[43m)\u001b[49m\n\u001b[32m    862\u001b[39m \u001b[38;5;28;01mtry\u001b[39;00m:\n\u001b[32m    863\u001b[39m     item = \u001b[38;5;28mself\u001b[39m._items.popleft()\n",
      "\u001b[36mFile \u001b[39m\u001b[32m~/.conda/envs/py311/lib/python3.11/threading.py:327\u001b[39m, in \u001b[36mCondition.wait\u001b[39m\u001b[34m(self, timeout)\u001b[39m\n\u001b[32m    325\u001b[39m \u001b[38;5;28;01mtry\u001b[39;00m:    \u001b[38;5;66;03m# restore state no matter what (e.g., KeyboardInterrupt)\u001b[39;00m\n\u001b[32m    326\u001b[39m     \u001b[38;5;28;01mif\u001b[39;00m timeout \u001b[38;5;129;01mis\u001b[39;00m \u001b[38;5;28;01mNone\u001b[39;00m:\n\u001b[32m--> \u001b[39m\u001b[32m327\u001b[39m         \u001b[43mwaiter\u001b[49m\u001b[43m.\u001b[49m\u001b[43macquire\u001b[49m\u001b[43m(\u001b[49m\u001b[43m)\u001b[49m\n\u001b[32m    328\u001b[39m         gotit = \u001b[38;5;28;01mTrue\u001b[39;00m\n\u001b[32m    329\u001b[39m     \u001b[38;5;28;01melse\u001b[39;00m:\n",
      "\u001b[31mKeyboardInterrupt\u001b[39m: "
     ]
    }
   ],
   "source": [
    "sampling_15532_df_cleaned = parallel_topic_processing(sampling_15532_df_cleaned.copy())\n",
    "sampling_28888_df_cleaned = parallel_topic_processing(sampling_28888_df_cleaned.copy())"
   ]
  },
  {
   "cell_type": "code",
   "execution_count": null,
   "id": "fa05b18f",
   "metadata": {},
   "outputs": [],
   "source": [
    "daily_df_all_cleaned['topic_counts'] = daily_df_all_cleaned['topic'].apply(lambda x: len(x.split(\",\")))\n",
    "daily_df_topic_all_cleaned['topic_counts'] = daily_df_topic_all_cleaned['topic'].apply(lambda x: len(x.split(\",\")))\n",
    "print(daily_df_all_cleaned['topic_counts'].value_counts())\n",
    "print(daily_df_topic_all_cleaned['topic_counts'].value_counts())"
   ]
  },
  {
   "cell_type": "code",
   "execution_count": null,
   "id": "f2aa07a6",
   "metadata": {},
   "outputs": [],
   "source": [
    "daily_df_topic_all_cleaned.to_csv(os.path.join(data_dir, \"ai_hub_02daily_cleaned.csv\"), index=False)"
   ]
  },
  {
   "cell_type": "code",
   "execution_count": null,
   "id": "e6fb5de5",
   "metadata": {},
   "outputs": [],
   "source": []
  }
 ],
 "metadata": {
  "kernelspec": {
   "display_name": "Python 3 (ipykernel)",
   "language": "python",
   "name": "python3"
  },
  "language_info": {
   "codemirror_mode": {
    "name": "ipython",
    "version": 3
   },
   "file_extension": ".py",
   "mimetype": "text/x-python",
   "name": "python",
   "nbconvert_exporter": "python",
   "pygments_lexer": "ipython3",
   "version": "3.11.13"
  }
 },
 "nbformat": 4,
 "nbformat_minor": 5
}
