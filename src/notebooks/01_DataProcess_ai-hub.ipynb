{
 "cells": [
  {
   "cell_type": "code",
   "execution_count": 3,
   "id": "2fc060df",
   "metadata": {},
   "outputs": [],
   "source": [
    "import json\n",
    "import pandas\n",
    "import re\n",
    "import os\n",
    "import tqdm\n",
    "import zipfile"
   ]
  },
  {
   "cell_type": "code",
   "execution_count": 5,
   "id": "1068758a",
   "metadata": {},
   "outputs": [],
   "source": [
    "project_path = \"/mnt/c/SKH/ai_lab_13/projects/nlp-text-summarization/song/\"\n",
    "data_dir = os.path.join(project_path, 'data')\n"
   ]
  },
  {
   "cell_type": "code",
   "execution_count": 6,
   "id": "d68fb2c2",
   "metadata": {},
   "outputs": [],
   "source": [
    "zip_files_path = os.path.join(data_dir, '01_Interview', 'Training')\n",
    "zip_dir_contents = {}\n",
    "# 지정된 경로에서 모든 파일 목록을 가져옵니다.\n",
    "for filename in os.listdir(zip_files_path):\n",
    "    if filename.endswith('.zip'):\n",
    "        zip_filepath = os.path.join(zip_files_path, filename)\n",
    "        internal_dirs = []\n",
    "        \n",
    "        try:\n",
    "            with zipfile.ZipFile(zip_filepath, 'r') as zf:\n",
    "                # zip 파일 내부의 모든 멤버(파일 및 디렉토리)를 가져옵니다.\n",
    "                # dirlist는 명시적으로 디렉토리로 끝나는 멤버만 포함합니다.\n",
    "                # 하지만 zipfile.namelist()는 파일과 디렉토리를 모두 반환하므로,\n",
    "                # '/'로 끝나는 항목들을 필터링하여 디렉토리만 추출합니다.\n",
    "                for member in zf.namelist():\n",
    "                    if member.endswith('/'): # 디렉토리는 보통 '/'로 끝납니다.\n",
    "                        # 최상위 디렉토리만 필요한 경우, 첫 번째 '/' 이전의 부분을 추출할 수 있습니다.\n",
    "                        # 예: 'some_dir/file.txt' -> 'some_dir'\n",
    "                        # 'another_dir/' -> 'another_dir'\n",
    "                        dir_name = member.strip('/').split('/')[0]\n",
    "                        if dir_name not in internal_dirs:\n",
    "                            internal_dirs.append(dir_name)\n",
    "                            \n",
    "            zip_dir_contents[filename] = internal_dirs\n",
    "\n",
    "        except zipfile.BadZipFile:\n",
    "            print(f\"경고: 손상된 ZIP 파일입니다: {zip_filepath}\")\n",
    "            zip_dir_contents[filename] = []\n",
    "        except Exception as e:\n",
    "            print(f\"오류 발생 ({zip_filepath}): {e}\")\n",
    "            zip_dir_contents[filename] = []"
   ]
  },
  {
   "cell_type": "code",
   "execution_count": 7,
   "id": "f1c633e9",
   "metadata": {},
   "outputs": [
    {
     "data": {
      "text/plain": [
       "{'TL_기업평가_기업평판.zip': [],\n",
       " 'TL_매체_브랜드_광고효과.zip': [],\n",
       " 'TL_매체_브랜드_브랜드인지_진단.zip': [],\n",
       " 'TL_사회_및_공공_조사_사회현안.zip': [],\n",
       " 'TL_사회_및_공공_조사_정책수요.zip': [],\n",
       " 'TL_사회_및_공공_조사_정책평가.zip': [],\n",
       " 'TL_사회_및_공공_조사_행정서비스_평가.zip': [],\n",
       " 'TL_소비자_만족도_고객_만족도.zip': [],\n",
       " 'TL_소비자_이해_U&A(이용행태).zip': [],\n",
       " 'TL_소비자_이해_구매행태.zip': [],\n",
       " 'TL_소비자_이해_라이프_스타일.zip': [],\n",
       " 'TL_제품_개발_사용성UX.zip': [],\n",
       " 'TL_제품_개발_컨셉_제품테스트.zip': [],\n",
       " 'TL_학술_심리_사회과학.zip': []}"
      ]
     },
     "execution_count": 7,
     "metadata": {},
     "output_type": "execute_result"
    }
   ],
   "source": [
    "zip_dir_contents"
   ]
  },
  {
   "cell_type": "code",
   "execution_count": null,
   "id": "415964e6",
   "metadata": {},
   "outputs": [],
   "source": []
  },
  {
   "cell_type": "code",
   "execution_count": null,
   "id": "e637085a",
   "metadata": {},
   "outputs": [],
   "source": []
  },
  {
   "cell_type": "code",
   "execution_count": null,
   "id": "c7d7fbaf",
   "metadata": {},
   "outputs": [],
   "source": []
  },
  {
   "cell_type": "code",
   "execution_count": null,
   "id": "198e7d13",
   "metadata": {},
   "outputs": [],
   "source": []
  }
 ],
 "metadata": {
  "kernelspec": {
   "display_name": "Python 3 (ipykernel)",
   "language": "python",
   "name": "python3"
  },
  "language_info": {
   "codemirror_mode": {
    "name": "ipython",
    "version": 3
   },
   "file_extension": ".py",
   "mimetype": "text/x-python",
   "name": "python",
   "nbconvert_exporter": "python",
   "pygments_lexer": "ipython3",
   "version": "3.11.13"
  }
 },
 "nbformat": 4,
 "nbformat_minor": 5
}
