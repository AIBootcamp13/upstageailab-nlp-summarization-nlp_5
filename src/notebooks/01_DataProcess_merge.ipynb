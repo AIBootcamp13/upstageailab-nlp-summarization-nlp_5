{
 "cells": [
  {
   "cell_type": "code",
   "execution_count": 7,
   "id": "d4ff0f7c",
   "metadata": {},
   "outputs": [],
   "source": [
    "# 모델의 구성 정보를 YAML 파일로 저장합니다.\n",
    "project_dir = \"/data/ephemeral/home/nlp-5/song/\"\n",
    "import os\n",
    "import sys\n",
    "sys.path.append(\n",
    "    project_dir\n",
    ")\n",
    "from src.utils.utils import *\n",
    "\n",
    "import pandas as pd\n",
    "pd.set_option('display.max_columns',None)\n",
    "pd.set_option('display.max_rows',None)\n",
    "\n",
    "train_df = pd.read_csv(os.path.join(project_dir, 'data','train.csv'))\n",
    "val_df = pd.read_csv(os.path.join(project_dir, 'data','dev.csv'))\n",
    "\n",
    "train_df_289 = pd.read_csv(os.path.join(project_dir, 'data','train_000289.csv'))\n",
    "# val_df_289 = pd.read_csv(os.path.join(project_dir, 'data','dev.csv'))"
   ]
  },
  {
   "cell_type": "code",
   "execution_count": 2,
   "id": "f958bf3d",
   "metadata": {},
   "outputs": [
    {
     "data": {
      "text/html": [
       "<div>\n",
       "<style scoped>\n",
       "    .dataframe tbody tr th:only-of-type {\n",
       "        vertical-align: middle;\n",
       "    }\n",
       "\n",
       "    .dataframe tbody tr th {\n",
       "        vertical-align: top;\n",
       "    }\n",
       "\n",
       "    .dataframe thead th {\n",
       "        text-align: right;\n",
       "    }\n",
       "</style>\n",
       "<table border=\"1\" class=\"dataframe\">\n",
       "  <thead>\n",
       "    <tr style=\"text-align: right;\">\n",
       "      <th></th>\n",
       "      <th>dialogue</th>\n",
       "      <th>summary</th>\n",
       "      <th>topic</th>\n",
       "      <th>fname</th>\n",
       "    </tr>\n",
       "  </thead>\n",
       "  <tbody>\n",
       "    <tr>\n",
       "      <th>0</th>\n",
       "      <td>#Person1#: 안녕하세요, Mr. Smith. 저는 Dr. Hawkins입니다...</td>\n",
       "      <td>Mr. Smith는 Dr. Hawkins에게 건강검진을 받으러 와서, 매년 검진 필...</td>\n",
       "      <td>건강검진</td>\n",
       "      <td>train_0</td>\n",
       "    </tr>\n",
       "    <tr>\n",
       "      <th>1</th>\n",
       "      <td>#Person1#: 안녕하세요, Mrs. Parker. 잘 지내셨나요?\\n#Pers...</td>\n",
       "      <td>Mrs. Parker가 Ricky와 함께 백신 접종을 위해 방문하였고, Dr. Pe...</td>\n",
       "      <td>백신 접종</td>\n",
       "      <td>train_1</td>\n",
       "    </tr>\n",
       "    <tr>\n",
       "      <th>2</th>\n",
       "      <td>#Person1#: 저기요, 열쇠 세트 본 적 있어요?\\n#Person2#: 어떤 ...</td>\n",
       "      <td>#Person1#은 열쇠 세트를 잃어버리고 #Person2#에게 찾는 것을 도와달라...</td>\n",
       "      <td>열쇠 분실</td>\n",
       "      <td>train_2</td>\n",
       "    </tr>\n",
       "    <tr>\n",
       "      <th>3</th>\n",
       "      <td>#Person1#: 너 여자친구 있는 거 왜 말 안 했어?\\n#Person2#: 미...</td>\n",
       "      <td>#Person1#은 #Person2#가 여자친구가 있고 결혼할 예정이라는 사실을 말...</td>\n",
       "      <td>여자친구와의 결혼</td>\n",
       "      <td>train_3</td>\n",
       "    </tr>\n",
       "    <tr>\n",
       "      <th>4</th>\n",
       "      <td>#Person1#: 안녕, 오늘 너무 멋져 보이네요. 저랑 춤 한 곡 추실래요?\\n...</td>\n",
       "      <td>Malik은 Wen과 Nikki에게 춤을 제안하고, Wen은 발을 밟는 것을 감수하...</td>\n",
       "      <td>춤 제안</td>\n",
       "      <td>train_4</td>\n",
       "    </tr>\n",
       "  </tbody>\n",
       "</table>\n",
       "</div>"
      ],
      "text/plain": [
       "                                            dialogue  \\\n",
       "0  #Person1#: 안녕하세요, Mr. Smith. 저는 Dr. Hawkins입니다...   \n",
       "1  #Person1#: 안녕하세요, Mrs. Parker. 잘 지내셨나요?\\n#Pers...   \n",
       "2  #Person1#: 저기요, 열쇠 세트 본 적 있어요?\\n#Person2#: 어떤 ...   \n",
       "3  #Person1#: 너 여자친구 있는 거 왜 말 안 했어?\\n#Person2#: 미...   \n",
       "4  #Person1#: 안녕, 오늘 너무 멋져 보이네요. 저랑 춤 한 곡 추실래요?\\n...   \n",
       "\n",
       "                                             summary      topic    fname  \n",
       "0  Mr. Smith는 Dr. Hawkins에게 건강검진을 받으러 와서, 매년 검진 필...       건강검진  train_0  \n",
       "1  Mrs. Parker가 Ricky와 함께 백신 접종을 위해 방문하였고, Dr. Pe...      백신 접종  train_1  \n",
       "2  #Person1#은 열쇠 세트를 잃어버리고 #Person2#에게 찾는 것을 도와달라...      열쇠 분실  train_2  \n",
       "3  #Person1#은 #Person2#가 여자친구가 있고 결혼할 예정이라는 사실을 말...  여자친구와의 결혼  train_3  \n",
       "4  Malik은 Wen과 Nikki에게 춤을 제안하고, Wen은 발을 밟는 것을 감수하...       춤 제안  train_4  "
      ]
     },
     "execution_count": 2,
     "metadata": {},
     "output_type": "execute_result"
    }
   ],
   "source": [
    "merged_train = pd.concat([train_df, train_df_289])\n",
    "merged_train = merged_train.reset_index(drop=False)\n",
    "merged_train.drop(columns=['fname'], axis=1, inplace=True)\n",
    "merged_train['fname'] = merged_train['index'].apply(lambda x: f'train_{x}')\n",
    "merged_train.drop(columns=['index'], axis=1, inplace=True)\n",
    "merged_train.head()"
   ]
  },
  {
   "cell_type": "code",
   "execution_count": 4,
   "id": "84897526",
   "metadata": {},
   "outputs": [],
   "source": [
    "# merged_train.to_csv(os.path.join(project_dir, 'data', 'train_357_289.csv'), index=False)"
   ]
  },
  {
   "cell_type": "code",
   "execution_count": null,
   "id": "7b0e1055",
   "metadata": {},
   "outputs": [],
   "source": []
  },
  {
   "cell_type": "code",
   "execution_count": 10,
   "id": "955ccb0d",
   "metadata": {},
   "outputs": [
    {
     "name": "stdout",
     "output_type": "stream",
     "text": [
      "(12457, 13)\n",
      "Index(['fname', 'summary_solar', 'topic_solar', 'dialogue_ko2en',\n",
      "       'dialogue_en2ko', 're_summary_solar', 'ner_solar',\n",
      "       'summary_solar_filter', 'topic_solar_filter', 'dialogue_ko2en_filter',\n",
      "       'dialogue_en2ko_filter', 're_summary_solar_filter', 'ner_solar_filter'],\n",
      "      dtype='object')\n"
     ]
    }
   ],
   "source": [
    "tsplit = 'train_solar_results_filtered'\n",
    "train_dfs = []\n",
    "for i in range(8):\n",
    "    data_path = os.path.join(project_dir, 'huggingface_app','data',f'{tsplit}{i+1}.csv')\n",
    "    df = pd.read_csv(data_path)\n",
    "    train_dfs.append(df)\n",
    "train_solar_df = pd.concat(train_dfs, axis=0)\n",
    "print(train_solar_df.shape)\n",
    "print(train_solar_df.columns)"
   ]
  },
  {
   "cell_type": "code",
   "execution_count": 13,
   "id": "3ef6d046",
   "metadata": {},
   "outputs": [
    {
     "name": "stdout",
     "output_type": "stream",
     "text": [
      "(12457, 5)\n",
      "Index(['fname', 'dialogue', 'summary', 'ner', 'topic'], dtype='object')\n"
     ]
    }
   ],
   "source": [
    "train_solar_df = train_solar_df[['fname','dialogue_en2ko_filter','re_summary_solar_filter','ner_solar_filter', 'topic_solar_filter']]\n",
    "train_solar_df.rename(columns={\n",
    "    'dialogue_en2ko_filter': 'dialogue',\n",
    "    're_summary_solar_filter': 'summary',\n",
    "    'ner_solar_filter': 'ner',\n",
    "    'topic_solar_filter': 'topic',\n",
    "}, inplace=True)\n",
    "print(train_solar_df.shape)\n",
    "print(train_solar_df.columns)"
   ]
  },
  {
   "cell_type": "code",
   "execution_count": 14,
   "id": "8f2823d6",
   "metadata": {},
   "outputs": [],
   "source": [
    "train_solar_df.to_csv(os.path.join(project_dir,'data','train_solar_backtranslate_en2ko.csv'),index=False)"
   ]
  },
  {
   "cell_type": "code",
   "execution_count": null,
   "id": "11cf1c39",
   "metadata": {},
   "outputs": [],
   "source": []
  },
  {
   "cell_type": "code",
   "execution_count": null,
   "id": "c7c97cca",
   "metadata": {},
   "outputs": [],
   "source": []
  }
 ],
 "metadata": {
  "kernelspec": {
   "display_name": "py311",
   "language": "python",
   "name": "python3"
  },
  "language_info": {
   "codemirror_mode": {
    "name": "ipython",
    "version": 3
   },
   "file_extension": ".py",
   "mimetype": "text/x-python",
   "name": "python",
   "nbconvert_exporter": "python",
   "pygments_lexer": "ipython3",
   "version": "3.11.0"
  }
 },
 "nbformat": 4,
 "nbformat_minor": 5
}
