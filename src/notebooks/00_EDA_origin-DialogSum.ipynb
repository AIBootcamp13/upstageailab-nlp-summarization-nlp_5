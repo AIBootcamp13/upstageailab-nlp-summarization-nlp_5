{
 "cells": [
  {
   "cell_type": "markdown",
   "id": "815757fc",
   "metadata": {},
   "source": [
    "# DialogSum 원본 데이터셋과의 비교"
   ]
  },
  {
   "cell_type": "code",
   "execution_count": null,
   "id": "dea2d195",
   "metadata": {},
   "outputs": [],
   "source": [
    "project_dir = '/mnt/c/SKH/ai_lab_13/projects/nlp-text-summarization/song'\n",
    "\n",
    "import os\n",
    "import pandas as pd\n",
    "\n",
    "pd.set_option('display.max_rows',None) # 또는 숫자 지정\n",
    "pd.set_option('display.max_columns',None)\n",
    "\n",
    "# 원본 데이터셋 다운로드\n",
    "\n",
    "# splits = {'train': 'train.csv', 'validation': 'validation.csv', 'test': 'test.csv'}\n",
    "# df = pd.read_csv(\"hf://datasets/knkarthick/dialogsum/\" + splits[\"validation\"])\n",
    "\n",
    "# df.rename(columns={'id':'fname'},inplace=True)\n",
    "\n",
    "# df.to_csv(os.path.join(project_dir, 'data', 'origin_dev.csv'),index=False)"
   ]
  },
  {
   "cell_type": "code",
   "execution_count": 9,
   "id": "be816642",
   "metadata": {},
   "outputs": [
    {
     "name": "stdout",
     "output_type": "stream",
     "text": [
      "Index(['fname', 'dialogue', 'summary', 'topic'], dtype='object') Index(['fname', 'dialogue', 'summary', 'topic'], dtype='object')\n"
     ]
    }
   ],
   "source": [
    "origin_train = pd.read_csv(os.path.join(project_dir, 'data', 'origin_train.csv'))\n",
    "origin_val = pd.read_csv(os.path.join(project_dir, 'data', 'origin_dev.csv'))\n",
    "\n",
    "train = pd.read_csv(os.path.join(project_dir, 'data', 'train.csv'))\n",
    "val = pd.read_csv(os.path.join(project_dir, 'data', 'dev.csv'))\n",
    "\n",
    "print(origin_train.columns, train.columns)"
   ]
  },
  {
   "cell_type": "code",
   "execution_count": 10,
   "id": "9360448a",
   "metadata": {},
   "outputs": [
    {
     "data": {
      "text/plain": [
       "topic\n",
       "shopping               174\n",
       "job interview          161\n",
       "daily casual talk      125\n",
       "phone call              89\n",
       "order food              79\n",
       "                      ... \n",
       "Overseas travelling      1\n",
       "Own house                1\n",
       "Seat exchange            1\n",
       "Buying a watch           1\n",
       "join the library         1\n",
       "Name: count, Length: 7434, dtype: int64"
      ]
     },
     "execution_count": 10,
     "metadata": {},
     "output_type": "execute_result"
    }
   ],
   "source": [
    "origin_train['topic'].value_counts()"
   ]
  },
  {
   "cell_type": "code",
   "execution_count": 11,
   "id": "825652db",
   "metadata": {},
   "outputs": [
    {
     "data": {
      "text/plain": [
       "topic\n",
       "일상 대화      236\n",
       "쇼핑         188\n",
       "전화 통화       98\n",
       "직업 면접       92\n",
       "음식 주문       85\n",
       "          ... \n",
       "진찰           1\n",
       "혼란스러움        1\n",
       "나이           1\n",
       "컴퓨터 패키지      1\n",
       "요금 지불하기      1\n",
       "Name: count, Length: 6526, dtype: int64"
      ]
     },
     "execution_count": 11,
     "metadata": {},
     "output_type": "execute_result"
    }
   ],
   "source": [
    "train['topic'].value_counts()"
   ]
  },
  {
   "cell_type": "markdown",
   "id": "fed20eb5",
   "metadata": {},
   "source": [
    "- topic이 무지하게 많다? -> topic 자체는 요약문을 3단어 이하로 요약한 것과 같다. \n",
    "- **topic = 주요 사건/사물, 담화 관계, 담화 의도, 화행 등을 아주 간략하게 요약하고 있음.**"
   ]
  },
  {
   "cell_type": "code",
   "execution_count": 26,
   "id": "e521c5f8",
   "metadata": {},
   "outputs": [
    {
     "data": {
      "text/html": [
       "<div>\n",
       "<style scoped>\n",
       "    .dataframe tbody tr th:only-of-type {\n",
       "        vertical-align: middle;\n",
       "    }\n",
       "\n",
       "    .dataframe tbody tr th {\n",
       "        vertical-align: top;\n",
       "    }\n",
       "\n",
       "    .dataframe thead th {\n",
       "        text-align: right;\n",
       "    }\n",
       "</style>\n",
       "<table border=\"1\" class=\"dataframe\">\n",
       "  <thead>\n",
       "    <tr style=\"text-align: right;\">\n",
       "      <th></th>\n",
       "      <th>fname</th>\n",
       "      <th>dialogue_origin</th>\n",
       "      <th>summary_origin</th>\n",
       "      <th>topic_origin</th>\n",
       "      <th>dialogue_comp</th>\n",
       "      <th>summary_comp</th>\n",
       "      <th>topic_comp</th>\n",
       "    </tr>\n",
       "  </thead>\n",
       "  <tbody>\n",
       "    <tr>\n",
       "      <th>0</th>\n",
       "      <td>train_0</td>\n",
       "      <td>#Person1#: Hi, Mr. Smith. I'm Doctor Hawkins. ...</td>\n",
       "      <td>Mr. Smith's getting a check-up, and Doctor Haw...</td>\n",
       "      <td>get a check-up</td>\n",
       "      <td>#Person1#: 안녕하세요, 스미스씨. 저는 호킨스 의사입니다. 오늘 왜 오셨나...</td>\n",
       "      <td>스미스씨가 건강검진을 받고 있고, 호킨스 의사는 매년 건강검진을 받는 것을 권장합니...</td>\n",
       "      <td>건강검진 받기</td>\n",
       "    </tr>\n",
       "    <tr>\n",
       "      <th>1</th>\n",
       "      <td>train_1</td>\n",
       "      <td>#Person1#: Hello Mrs. Parker, how have you bee...</td>\n",
       "      <td>Mrs Parker takes Ricky for his vaccines. Dr. P...</td>\n",
       "      <td>vaccines</td>\n",
       "      <td>#Person1#: 안녕하세요, 파커 부인, 어떻게 지내셨나요?\\n#Person2#...</td>\n",
       "      <td>파커 부인이 리키를 데리고 백신 접종을 하러 갔다. 피터스 박사는 기록을 확인한 후...</td>\n",
       "      <td>백신</td>\n",
       "    </tr>\n",
       "    <tr>\n",
       "      <th>2</th>\n",
       "      <td>train_2</td>\n",
       "      <td>#Person1#: Excuse me, did you see a set of key...</td>\n",
       "      <td>#Person1#'s looking for a set of keys and asks...</td>\n",
       "      <td>find keys</td>\n",
       "      <td>#Person1#: 실례합니다, 열쇠 한 묶음 보셨나요?\\n#Person2#: 어떤...</td>\n",
       "      <td>#Person1#은 열쇠 한 묶음을 찾고 있고, 그것을 찾기 위해 #Person2#...</td>\n",
       "      <td>열쇠 찾기</td>\n",
       "    </tr>\n",
       "    <tr>\n",
       "      <th>3</th>\n",
       "      <td>train_3</td>\n",
       "      <td>#Person1#: Why didn't you tell me you had a gi...</td>\n",
       "      <td>#Person1#'s angry because #Person2# didn't tel...</td>\n",
       "      <td>have a girlfriend</td>\n",
       "      <td>#Person1#: 왜 너는 여자친구가 있다는 걸 말해주지 않았어?\\n#Person...</td>\n",
       "      <td>#Person1#은 #Person2#가 여자친구가 있고 그녀와 결혼할 것이라는 사실...</td>\n",
       "      <td>여자친구가 있다</td>\n",
       "    </tr>\n",
       "    <tr>\n",
       "      <th>4</th>\n",
       "      <td>train_4</td>\n",
       "      <td>#Person1#: Watsup, ladies! Y'll looking'fine t...</td>\n",
       "      <td>Malik invites Nikki to dance. Nikki agrees if ...</td>\n",
       "      <td>dance</td>\n",
       "      <td>#Person1#: 안녕, 숙녀분들! 오늘 밤 당신들은 정말 멋져 보여. 이 춤을 ...</td>\n",
       "      <td>말릭이 니키에게 춤을 요청한다. 말릭이 발을 밟는 것을 신경 쓰지 않는다면 니키는 ...</td>\n",
       "      <td>댄스</td>\n",
       "    </tr>\n",
       "  </tbody>\n",
       "</table>\n",
       "</div>"
      ],
      "text/plain": [
       "     fname                                    dialogue_origin  \\\n",
       "0  train_0  #Person1#: Hi, Mr. Smith. I'm Doctor Hawkins. ...   \n",
       "1  train_1  #Person1#: Hello Mrs. Parker, how have you bee...   \n",
       "2  train_2  #Person1#: Excuse me, did you see a set of key...   \n",
       "3  train_3  #Person1#: Why didn't you tell me you had a gi...   \n",
       "4  train_4  #Person1#: Watsup, ladies! Y'll looking'fine t...   \n",
       "\n",
       "                                      summary_origin       topic_origin  \\\n",
       "0  Mr. Smith's getting a check-up, and Doctor Haw...     get a check-up   \n",
       "1  Mrs Parker takes Ricky for his vaccines. Dr. P...           vaccines   \n",
       "2  #Person1#'s looking for a set of keys and asks...          find keys   \n",
       "3  #Person1#'s angry because #Person2# didn't tel...  have a girlfriend   \n",
       "4  Malik invites Nikki to dance. Nikki agrees if ...              dance   \n",
       "\n",
       "                                       dialogue_comp  \\\n",
       "0  #Person1#: 안녕하세요, 스미스씨. 저는 호킨스 의사입니다. 오늘 왜 오셨나...   \n",
       "1  #Person1#: 안녕하세요, 파커 부인, 어떻게 지내셨나요?\\n#Person2#...   \n",
       "2  #Person1#: 실례합니다, 열쇠 한 묶음 보셨나요?\\n#Person2#: 어떤...   \n",
       "3  #Person1#: 왜 너는 여자친구가 있다는 걸 말해주지 않았어?\\n#Person...   \n",
       "4  #Person1#: 안녕, 숙녀분들! 오늘 밤 당신들은 정말 멋져 보여. 이 춤을 ...   \n",
       "\n",
       "                                        summary_comp topic_comp  \n",
       "0  스미스씨가 건강검진을 받고 있고, 호킨스 의사는 매년 건강검진을 받는 것을 권장합니...    건강검진 받기  \n",
       "1  파커 부인이 리키를 데리고 백신 접종을 하러 갔다. 피터스 박사는 기록을 확인한 후...         백신  \n",
       "2  #Person1#은 열쇠 한 묶음을 찾고 있고, 그것을 찾기 위해 #Person2#...      열쇠 찾기  \n",
       "3  #Person1#은 #Person2#가 여자친구가 있고 그녀와 결혼할 것이라는 사실...   여자친구가 있다  \n",
       "4  말릭이 니키에게 춤을 요청한다. 말릭이 발을 밟는 것을 신경 쓰지 않는다면 니키는 ...         댄스  "
      ]
     },
     "execution_count": 26,
     "metadata": {},
     "output_type": "execute_result"
    }
   ],
   "source": [
    "merged_train = pd.merge(left=origin_train, right=train, left_on='fname', right_on='fname', how='left', suffixes=('_origin','_comp'))\n",
    "merged_train.head()"
   ]
  },
  {
   "cell_type": "markdown",
   "id": "5229d9ef",
   "metadata": {},
   "source": [
    "- 원본 대화문과 경진대회 대화문의 fname은 일치하는 것으로 보인다. 경진대회에서는 10933, 10972, 11473을 제외했다. 이유는 모름.\n",
    "topic이 A/S 서비스라는 공통점이 있으나 그 외에는 특이점 없음."
   ]
  },
  {
   "cell_type": "code",
   "execution_count": 30,
   "id": "2c319cdd",
   "metadata": {},
   "outputs": [
    {
     "data": {
      "text/html": [
       "<div>\n",
       "<style scoped>\n",
       "    .dataframe tbody tr th:only-of-type {\n",
       "        vertical-align: middle;\n",
       "    }\n",
       "\n",
       "    .dataframe tbody tr th {\n",
       "        vertical-align: top;\n",
       "    }\n",
       "\n",
       "    .dataframe thead th {\n",
       "        text-align: right;\n",
       "    }\n",
       "</style>\n",
       "<table border=\"1\" class=\"dataframe\">\n",
       "  <thead>\n",
       "    <tr style=\"text-align: right;\">\n",
       "      <th></th>\n",
       "      <th>fname</th>\n",
       "      <th>dialogue_origin</th>\n",
       "      <th>summary_origin</th>\n",
       "      <th>topic_origin</th>\n",
       "      <th>dialogue_comp</th>\n",
       "      <th>summary_comp</th>\n",
       "      <th>topic_comp</th>\n",
       "    </tr>\n",
       "  </thead>\n",
       "  <tbody>\n",
       "    <tr>\n",
       "      <th>10933</th>\n",
       "      <td>train_10933</td>\n",
       "      <td>#Person1#: Can I have my money back on this sk...</td>\n",
       "      <td>#Person1# requests a refund as the skirt #Pers...</td>\n",
       "      <td>after-sales service</td>\n",
       "      <td>NaN</td>\n",
       "      <td>NaN</td>\n",
       "      <td>NaN</td>\n",
       "    </tr>\n",
       "    <tr>\n",
       "      <th>10972</th>\n",
       "      <td>train_10972</td>\n",
       "      <td>#Person1#: I bought these trousers here on Wed...</td>\n",
       "      <td>#Person1# wants to return the trousers but #Pe...</td>\n",
       "      <td>after-sales service</td>\n",
       "      <td>NaN</td>\n",
       "      <td>NaN</td>\n",
       "      <td>NaN</td>\n",
       "    </tr>\n",
       "    <tr>\n",
       "      <th>11473</th>\n",
       "      <td>train_11473</td>\n",
       "      <td>#Person1#: Hello. Thank you for calling Spend ...</td>\n",
       "      <td>#Person2# calls to exchange the sweater in the...</td>\n",
       "      <td>after-sales service</td>\n",
       "      <td>NaN</td>\n",
       "      <td>NaN</td>\n",
       "      <td>NaN</td>\n",
       "    </tr>\n",
       "  </tbody>\n",
       "</table>\n",
       "</div>"
      ],
      "text/plain": [
       "             fname                                    dialogue_origin  \\\n",
       "10933  train_10933  #Person1#: Can I have my money back on this sk...   \n",
       "10972  train_10972  #Person1#: I bought these trousers here on Wed...   \n",
       "11473  train_11473  #Person1#: Hello. Thank you for calling Spend ...   \n",
       "\n",
       "                                          summary_origin         topic_origin  \\\n",
       "10933  #Person1# requests a refund as the skirt #Pers...  after-sales service   \n",
       "10972  #Person1# wants to return the trousers but #Pe...  after-sales service   \n",
       "11473  #Person2# calls to exchange the sweater in the...  after-sales service   \n",
       "\n",
       "      dialogue_comp summary_comp topic_comp  \n",
       "10933           NaN          NaN        NaN  \n",
       "10972           NaN          NaN        NaN  \n",
       "11473           NaN          NaN        NaN  "
      ]
     },
     "execution_count": 30,
     "metadata": {},
     "output_type": "execute_result"
    }
   ],
   "source": [
    "merged_train[merged_train['dialogue_comp'].isnull()]"
   ]
  },
  {
   "cell_type": "code",
   "execution_count": 31,
   "id": "a6a09912",
   "metadata": {},
   "outputs": [
    {
     "data": {
      "text/html": [
       "<div>\n",
       "<style scoped>\n",
       "    .dataframe tbody tr th:only-of-type {\n",
       "        vertical-align: middle;\n",
       "    }\n",
       "\n",
       "    .dataframe tbody tr th {\n",
       "        vertical-align: top;\n",
       "    }\n",
       "\n",
       "    .dataframe thead th {\n",
       "        text-align: right;\n",
       "    }\n",
       "</style>\n",
       "<table border=\"1\" class=\"dataframe\">\n",
       "  <thead>\n",
       "    <tr style=\"text-align: right;\">\n",
       "      <th></th>\n",
       "      <th>fname</th>\n",
       "      <th>dialogue_origin</th>\n",
       "      <th>summary_origin</th>\n",
       "      <th>topic_origin</th>\n",
       "      <th>dialogue_comp</th>\n",
       "      <th>summary_comp</th>\n",
       "      <th>topic_comp</th>\n",
       "    </tr>\n",
       "  </thead>\n",
       "  <tbody>\n",
       "    <tr>\n",
       "      <th>2182</th>\n",
       "      <td>train_2182</td>\n",
       "      <td>#Person1#: How about the repair fee?\\n#Person2...</td>\n",
       "      <td>#Person2# will arrange staff to repair for fre...</td>\n",
       "      <td>after-sales service</td>\n",
       "      <td>#Person1#: 수리 비용은 어떻게 되나요?\\n#Person2#: 컴퓨터가 보증...</td>\n",
       "      <td>#Person2#는 #Person1#의 컴퓨터가 아직 보증 기간 내에 있으므로 직원...</td>\n",
       "      <td>A/S 서비스</td>\n",
       "    </tr>\n",
       "    <tr>\n",
       "      <th>7793</th>\n",
       "      <td>train_7793</td>\n",
       "      <td>#Person1#: Excuse me, I bought this sweater ye...</td>\n",
       "      <td>#Person1# wants to exchange for a bigger sweat...</td>\n",
       "      <td>after-sales service</td>\n",
       "      <td>#Person1#: 실례합니다, 어제 이 스웨터를 샀는데요. 집에 와서 입어보니까 ...</td>\n",
       "      <td>#Person1#은 더 큰 사이즈의 스웨터로 교환하고 싶지만, #Person2#은 ...</td>\n",
       "      <td>A/S 서비스</td>\n",
       "    </tr>\n",
       "    <tr>\n",
       "      <th>10933</th>\n",
       "      <td>train_10933</td>\n",
       "      <td>#Person1#: Can I have my money back on this sk...</td>\n",
       "      <td>#Person1# requests a refund as the skirt #Pers...</td>\n",
       "      <td>after-sales service</td>\n",
       "      <td>NaN</td>\n",
       "      <td>NaN</td>\n",
       "      <td>NaN</td>\n",
       "    </tr>\n",
       "    <tr>\n",
       "      <th>10972</th>\n",
       "      <td>train_10972</td>\n",
       "      <td>#Person1#: I bought these trousers here on Wed...</td>\n",
       "      <td>#Person1# wants to return the trousers but #Pe...</td>\n",
       "      <td>after-sales service</td>\n",
       "      <td>NaN</td>\n",
       "      <td>NaN</td>\n",
       "      <td>NaN</td>\n",
       "    </tr>\n",
       "    <tr>\n",
       "      <th>11473</th>\n",
       "      <td>train_11473</td>\n",
       "      <td>#Person1#: Hello. Thank you for calling Spend ...</td>\n",
       "      <td>#Person2# calls to exchange the sweater in the...</td>\n",
       "      <td>after-sales service</td>\n",
       "      <td>NaN</td>\n",
       "      <td>NaN</td>\n",
       "      <td>NaN</td>\n",
       "    </tr>\n",
       "  </tbody>\n",
       "</table>\n",
       "</div>"
      ],
      "text/plain": [
       "             fname                                    dialogue_origin  \\\n",
       "2182    train_2182  #Person1#: How about the repair fee?\\n#Person2...   \n",
       "7793    train_7793  #Person1#: Excuse me, I bought this sweater ye...   \n",
       "10933  train_10933  #Person1#: Can I have my money back on this sk...   \n",
       "10972  train_10972  #Person1#: I bought these trousers here on Wed...   \n",
       "11473  train_11473  #Person1#: Hello. Thank you for calling Spend ...   \n",
       "\n",
       "                                          summary_origin         topic_origin  \\\n",
       "2182   #Person2# will arrange staff to repair for fre...  after-sales service   \n",
       "7793   #Person1# wants to exchange for a bigger sweat...  after-sales service   \n",
       "10933  #Person1# requests a refund as the skirt #Pers...  after-sales service   \n",
       "10972  #Person1# wants to return the trousers but #Pe...  after-sales service   \n",
       "11473  #Person2# calls to exchange the sweater in the...  after-sales service   \n",
       "\n",
       "                                           dialogue_comp  \\\n",
       "2182   #Person1#: 수리 비용은 어떻게 되나요?\\n#Person2#: 컴퓨터가 보증...   \n",
       "7793   #Person1#: 실례합니다, 어제 이 스웨터를 샀는데요. 집에 와서 입어보니까 ...   \n",
       "10933                                                NaN   \n",
       "10972                                                NaN   \n",
       "11473                                                NaN   \n",
       "\n",
       "                                            summary_comp topic_comp  \n",
       "2182   #Person2#는 #Person1#의 컴퓨터가 아직 보증 기간 내에 있으므로 직원...    A/S 서비스  \n",
       "7793   #Person1#은 더 큰 사이즈의 스웨터로 교환하고 싶지만, #Person2#은 ...    A/S 서비스  \n",
       "10933                                                NaN        NaN  \n",
       "10972                                                NaN        NaN  \n",
       "11473                                                NaN        NaN  "
      ]
     },
     "execution_count": 31,
     "metadata": {},
     "output_type": "execute_result"
    }
   ],
   "source": [
    "merged_train[merged_train['topic_origin']=='after-sales service']"
   ]
  },
  {
   "cell_type": "code",
   "execution_count": 32,
   "id": "a1140a3c",
   "metadata": {},
   "outputs": [
    {
     "data": {
      "text/html": [
       "<div>\n",
       "<style scoped>\n",
       "    .dataframe tbody tr th:only-of-type {\n",
       "        vertical-align: middle;\n",
       "    }\n",
       "\n",
       "    .dataframe tbody tr th {\n",
       "        vertical-align: top;\n",
       "    }\n",
       "\n",
       "    .dataframe thead th {\n",
       "        text-align: right;\n",
       "    }\n",
       "</style>\n",
       "<table border=\"1\" class=\"dataframe\">\n",
       "  <thead>\n",
       "    <tr style=\"text-align: right;\">\n",
       "      <th></th>\n",
       "      <th>fname</th>\n",
       "      <th>dialogue_origin</th>\n",
       "      <th>summary_origin</th>\n",
       "      <th>topic_origin</th>\n",
       "      <th>dialogue_comp</th>\n",
       "      <th>summary_comp</th>\n",
       "      <th>topic_comp</th>\n",
       "    </tr>\n",
       "  </thead>\n",
       "  <tbody>\n",
       "    <tr>\n",
       "      <th>12455</th>\n",
       "      <td>train_12455</td>\n",
       "      <td>#Person1#: Excuse me. You are Mr. Green from M...</td>\n",
       "      <td>Tan Ling picks Mr. Green up who is easily reco...</td>\n",
       "      <td>pick up someone</td>\n",
       "      <td>#Person1#: 실례합니다. 맨체스터 출신의 그린 씨이신가요?\\n#Person2...</td>\n",
       "      <td>탄 링은 흰머리와 수염으로 쉽게 인식되는 그린 씨를 만나 호텔로 데려갈 예정입니다....</td>\n",
       "      <td>누군가를 태우다</td>\n",
       "    </tr>\n",
       "    <tr>\n",
       "      <th>12456</th>\n",
       "      <td>train_12456</td>\n",
       "      <td>#Person1#: Mister Ewing said we should show up...</td>\n",
       "      <td>#Person1# and #Person2# plan to take the under...</td>\n",
       "      <td>conference center</td>\n",
       "      <td>#Person1#: 이윙 씨가 우리가 컨퍼런스 센터에 오후 4시에 도착해야 한다고 ...</td>\n",
       "      <td>#Person1#과 #Person2#는 이윙 씨가 늦지 않도록 요청했기 때문에 컨퍼...</td>\n",
       "      <td>컨퍼런스 센터</td>\n",
       "    </tr>\n",
       "    <tr>\n",
       "      <th>12457</th>\n",
       "      <td>train_12457</td>\n",
       "      <td>#Person1#: How can I help you today?\\n#Person2...</td>\n",
       "      <td>#Person2# rents a small car for 5 days with th...</td>\n",
       "      <td>rent a car</td>\n",
       "      <td>#Person1#: 오늘 어떻게 도와드릴까요?\\n#Person2#: 차를 빌리고 싶...</td>\n",
       "      <td>#Person2#는 #Person1#의 도움으로 5일 동안 소형 차를 빌립니다.</td>\n",
       "      <td>차 렌트</td>\n",
       "    </tr>\n",
       "    <tr>\n",
       "      <th>12458</th>\n",
       "      <td>train_12458</td>\n",
       "      <td>#Person1#: You look a bit unhappy today. What'...</td>\n",
       "      <td>#Person2#'s mom lost her job. #Person2# hopes ...</td>\n",
       "      <td>job losing</td>\n",
       "      <td>#Person1#: 오늘 좀 행복해 보이지 않아. 무슨 일 있어?\\n#Person2...</td>\n",
       "      <td>#Person2#의 엄마가 일자리를 잃었다. #Person2#는 엄마가 우울해하지 ...</td>\n",
       "      <td>실직</td>\n",
       "    </tr>\n",
       "    <tr>\n",
       "      <th>12459</th>\n",
       "      <td>train_12459</td>\n",
       "      <td>#Person1#: Mom, I'm flying to visit uncle Lee'...</td>\n",
       "      <td>#Person1# asks for #Person2#'s idea of packing...</td>\n",
       "      <td>baggage pack</td>\n",
       "      <td>#Person1#: 엄마, 다음 토요일에 이 삼촌네 가족을 방문하기 위해 비행기를 ...</td>\n",
       "      <td>#Person1#은 다음 토요일에 이 삼촌네를 방문할 때 가방을 어떻게 싸야 할지 ...</td>\n",
       "      <td>짐 싸기</td>\n",
       "    </tr>\n",
       "  </tbody>\n",
       "</table>\n",
       "</div>"
      ],
      "text/plain": [
       "             fname                                    dialogue_origin  \\\n",
       "12455  train_12455  #Person1#: Excuse me. You are Mr. Green from M...   \n",
       "12456  train_12456  #Person1#: Mister Ewing said we should show up...   \n",
       "12457  train_12457  #Person1#: How can I help you today?\\n#Person2...   \n",
       "12458  train_12458  #Person1#: You look a bit unhappy today. What'...   \n",
       "12459  train_12459  #Person1#: Mom, I'm flying to visit uncle Lee'...   \n",
       "\n",
       "                                          summary_origin       topic_origin  \\\n",
       "12455  Tan Ling picks Mr. Green up who is easily reco...    pick up someone   \n",
       "12456  #Person1# and #Person2# plan to take the under...  conference center   \n",
       "12457  #Person2# rents a small car for 5 days with th...         rent a car   \n",
       "12458  #Person2#'s mom lost her job. #Person2# hopes ...         job losing   \n",
       "12459  #Person1# asks for #Person2#'s idea of packing...       baggage pack   \n",
       "\n",
       "                                           dialogue_comp  \\\n",
       "12455  #Person1#: 실례합니다. 맨체스터 출신의 그린 씨이신가요?\\n#Person2...   \n",
       "12456  #Person1#: 이윙 씨가 우리가 컨퍼런스 센터에 오후 4시에 도착해야 한다고 ...   \n",
       "12457  #Person1#: 오늘 어떻게 도와드릴까요?\\n#Person2#: 차를 빌리고 싶...   \n",
       "12458  #Person1#: 오늘 좀 행복해 보이지 않아. 무슨 일 있어?\\n#Person2...   \n",
       "12459  #Person1#: 엄마, 다음 토요일에 이 삼촌네 가족을 방문하기 위해 비행기를 ...   \n",
       "\n",
       "                                            summary_comp topic_comp  \n",
       "12455  탄 링은 흰머리와 수염으로 쉽게 인식되는 그린 씨를 만나 호텔로 데려갈 예정입니다....   누군가를 태우다  \n",
       "12456  #Person1#과 #Person2#는 이윙 씨가 늦지 않도록 요청했기 때문에 컨퍼...    컨퍼런스 센터  \n",
       "12457       #Person2#는 #Person1#의 도움으로 5일 동안 소형 차를 빌립니다.       차 렌트  \n",
       "12458  #Person2#의 엄마가 일자리를 잃었다. #Person2#는 엄마가 우울해하지 ...         실직  \n",
       "12459  #Person1#은 다음 토요일에 이 삼촌네를 방문할 때 가방을 어떻게 싸야 할지 ...       짐 싸기  "
      ]
     },
     "execution_count": 32,
     "metadata": {},
     "output_type": "execute_result"
    }
   ],
   "source": [
    "merged_train.tail()"
   ]
  },
  {
   "cell_type": "markdown",
   "id": "c281d61d",
   "metadata": {},
   "source": [
    "- validation data도 동일하게 merge 해보기\n",
    "    - 원본보다 경진대회 val이 1개 적음"
   ]
  },
  {
   "cell_type": "code",
   "execution_count": 33,
   "id": "5fdafe30",
   "metadata": {},
   "outputs": [
    {
     "name": "stdout",
     "output_type": "stream",
     "text": [
      "500 499\n"
     ]
    },
    {
     "data": {
      "text/html": [
       "<div>\n",
       "<style scoped>\n",
       "    .dataframe tbody tr th:only-of-type {\n",
       "        vertical-align: middle;\n",
       "    }\n",
       "\n",
       "    .dataframe tbody tr th {\n",
       "        vertical-align: top;\n",
       "    }\n",
       "\n",
       "    .dataframe thead th {\n",
       "        text-align: right;\n",
       "    }\n",
       "</style>\n",
       "<table border=\"1\" class=\"dataframe\">\n",
       "  <thead>\n",
       "    <tr style=\"text-align: right;\">\n",
       "      <th></th>\n",
       "      <th>fname</th>\n",
       "      <th>dialogue_origin</th>\n",
       "      <th>summary_origin</th>\n",
       "      <th>topic_origin</th>\n",
       "      <th>dialogue_comp</th>\n",
       "      <th>summary_comp</th>\n",
       "      <th>topic_comp</th>\n",
       "    </tr>\n",
       "  </thead>\n",
       "  <tbody>\n",
       "    <tr>\n",
       "      <th>0</th>\n",
       "      <td>dev_0</td>\n",
       "      <td>#Person1#: Hello, how are you doing today?\\n#P...</td>\n",
       "      <td>#Person2# has trouble breathing. The doctor as...</td>\n",
       "      <td>see a doctor</td>\n",
       "      <td>#Person1#: 안녕하세요, 오늘 하루 어떠셨어요? \\n#Person2#: 요즘...</td>\n",
       "      <td>#Person2#는 숨쉬기에 어려움을 겪는다. 의사는 #Person1#에게 이에 대...</td>\n",
       "      <td>의사에게 상담하기</td>\n",
       "    </tr>\n",
       "    <tr>\n",
       "      <th>1</th>\n",
       "      <td>dev_1</td>\n",
       "      <td>#Person1#: Hey Jimmy. Let's go workout later t...</td>\n",
       "      <td>#Person1# invites Jimmy to go workout and pers...</td>\n",
       "      <td>do exercise</td>\n",
       "      <td>#Person1#: 헤이, 지미. 나중에 운동하러 가자.\\n#Person2#: 그래...</td>\n",
       "      <td>#Person1#은 지미에게 운동하러 가자고 제안하고 팔과 배를 운동하도록 설득한다.</td>\n",
       "      <td>운동하기</td>\n",
       "    </tr>\n",
       "    <tr>\n",
       "      <th>2</th>\n",
       "      <td>dev_2</td>\n",
       "      <td>#Person1#: I need to stop eating such unhealth...</td>\n",
       "      <td>#Person1# plans to stop eating unhealthy foods...</td>\n",
       "      <td>healthy foods</td>\n",
       "      <td>#Person1#: 나는 더 이상 건강에 해로운 음식을 먹는 것을 멈춰야 해.\\n#...</td>\n",
       "      <td>#Person1#은 건강에 해로운 음식을 먹는 것을 멈추려는 계획을 세우고, #Pe...</td>\n",
       "      <td>건강한 음식</td>\n",
       "    </tr>\n",
       "    <tr>\n",
       "      <th>3</th>\n",
       "      <td>dev_3</td>\n",
       "      <td>#Person1#: Do you believe in UFOs?\\n#Person2#:...</td>\n",
       "      <td>#Person2# believes in UFOs and can see them in...</td>\n",
       "      <td>UFOs and aliens</td>\n",
       "      <td>#Person1#: UFO를 믿으세요?\\n#Person2#: 물론이죠, 그들은 저기...</td>\n",
       "      <td>#Person2#는 UFO를 믿고 꿈에서 그들을 볼 수 있다고 말한다. #Perso...</td>\n",
       "      <td>UFO와 외계인</td>\n",
       "    </tr>\n",
       "    <tr>\n",
       "      <th>4</th>\n",
       "      <td>dev_4</td>\n",
       "      <td>#Person1#: Did you go to school today?\\n#Perso...</td>\n",
       "      <td>#Person1# didn't go to school today. #Person2#...</td>\n",
       "      <td>go to school</td>\n",
       "      <td>#Person1#: 오늘 학교에 갔어?\\n#Person2#: 당연하지. 너는?\\n#...</td>\n",
       "      <td>#Person1#은 오늘 학교에 가지 않았다. #Person2#는 내일 수업을 빼먹...</td>\n",
       "      <td>학교 가기</td>\n",
       "    </tr>\n",
       "  </tbody>\n",
       "</table>\n",
       "</div>"
      ],
      "text/plain": [
       "   fname                                    dialogue_origin  \\\n",
       "0  dev_0  #Person1#: Hello, how are you doing today?\\n#P...   \n",
       "1  dev_1  #Person1#: Hey Jimmy. Let's go workout later t...   \n",
       "2  dev_2  #Person1#: I need to stop eating such unhealth...   \n",
       "3  dev_3  #Person1#: Do you believe in UFOs?\\n#Person2#:...   \n",
       "4  dev_4  #Person1#: Did you go to school today?\\n#Perso...   \n",
       "\n",
       "                                      summary_origin     topic_origin  \\\n",
       "0  #Person2# has trouble breathing. The doctor as...     see a doctor   \n",
       "1  #Person1# invites Jimmy to go workout and pers...      do exercise   \n",
       "2  #Person1# plans to stop eating unhealthy foods...    healthy foods   \n",
       "3  #Person2# believes in UFOs and can see them in...  UFOs and aliens   \n",
       "4  #Person1# didn't go to school today. #Person2#...     go to school   \n",
       "\n",
       "                                       dialogue_comp  \\\n",
       "0  #Person1#: 안녕하세요, 오늘 하루 어떠셨어요? \\n#Person2#: 요즘...   \n",
       "1  #Person1#: 헤이, 지미. 나중에 운동하러 가자.\\n#Person2#: 그래...   \n",
       "2  #Person1#: 나는 더 이상 건강에 해로운 음식을 먹는 것을 멈춰야 해.\\n#...   \n",
       "3  #Person1#: UFO를 믿으세요?\\n#Person2#: 물론이죠, 그들은 저기...   \n",
       "4  #Person1#: 오늘 학교에 갔어?\\n#Person2#: 당연하지. 너는?\\n#...   \n",
       "\n",
       "                                        summary_comp topic_comp  \n",
       "0  #Person2#는 숨쉬기에 어려움을 겪는다. 의사는 #Person1#에게 이에 대...  의사에게 상담하기  \n",
       "1    #Person1#은 지미에게 운동하러 가자고 제안하고 팔과 배를 운동하도록 설득한다.       운동하기  \n",
       "2  #Person1#은 건강에 해로운 음식을 먹는 것을 멈추려는 계획을 세우고, #Pe...     건강한 음식  \n",
       "3  #Person2#는 UFO를 믿고 꿈에서 그들을 볼 수 있다고 말한다. #Perso...   UFO와 외계인  \n",
       "4  #Person1#은 오늘 학교에 가지 않았다. #Person2#는 내일 수업을 빼먹...      학교 가기  "
      ]
     },
     "execution_count": 33,
     "metadata": {},
     "output_type": "execute_result"
    }
   ],
   "source": [
    "merged_val = pd.merge(left=origin_val, right=val, left_on='fname', right_on='fname', how='left', suffixes=('_origin','_comp'))\n",
    "print(origin_val.shape[0], val.shape[0])\n",
    "merged_val.head()"
   ]
  },
  {
   "cell_type": "markdown",
   "id": "4f68ff3b",
   "metadata": {},
   "source": [
    "- 이유는 모르겠지만, topic 중에 \"가구 구입\"은 trian dataset에만 있고 경진대회 validation에서는 제거됨.\n",
    "    - test 데이터셋에는 가구 관련 대화가 존재함. -> 큰 신경 안 써도 될 듯."
   ]
  },
  {
   "cell_type": "code",
   "execution_count": 37,
   "id": "5cfe7071",
   "metadata": {},
   "outputs": [
    {
     "data": {
      "text/html": [
       "<div>\n",
       "<style scoped>\n",
       "    .dataframe tbody tr th:only-of-type {\n",
       "        vertical-align: middle;\n",
       "    }\n",
       "\n",
       "    .dataframe tbody tr th {\n",
       "        vertical-align: top;\n",
       "    }\n",
       "\n",
       "    .dataframe thead th {\n",
       "        text-align: right;\n",
       "    }\n",
       "</style>\n",
       "<table border=\"1\" class=\"dataframe\">\n",
       "  <thead>\n",
       "    <tr style=\"text-align: right;\">\n",
       "      <th></th>\n",
       "      <th>fname</th>\n",
       "      <th>dialogue_origin</th>\n",
       "      <th>summary_origin</th>\n",
       "      <th>topic_origin</th>\n",
       "      <th>dialogue_comp</th>\n",
       "      <th>summary_comp</th>\n",
       "      <th>topic_comp</th>\n",
       "    </tr>\n",
       "  </thead>\n",
       "  <tbody>\n",
       "    <tr>\n",
       "      <th>475</th>\n",
       "      <td>dev_475</td>\n",
       "      <td>#Person1#: Good morning. I'm thinking about bu...</td>\n",
       "      <td>#Person2# assists #Person1# to buy new furnitu...</td>\n",
       "      <td>buy furniture</td>\n",
       "      <td>NaN</td>\n",
       "      <td>NaN</td>\n",
       "      <td>NaN</td>\n",
       "    </tr>\n",
       "  </tbody>\n",
       "</table>\n",
       "</div>"
      ],
      "text/plain": [
       "       fname                                    dialogue_origin  \\\n",
       "475  dev_475  #Person1#: Good morning. I'm thinking about bu...   \n",
       "\n",
       "                                        summary_origin   topic_origin  \\\n",
       "475  #Person2# assists #Person1# to buy new furnitu...  buy furniture   \n",
       "\n",
       "    dialogue_comp summary_comp topic_comp  \n",
       "475           NaN          NaN        NaN  "
      ]
     },
     "metadata": {},
     "output_type": "display_data"
    },
    {
     "data": {
      "text/html": [
       "<div>\n",
       "<style scoped>\n",
       "    .dataframe tbody tr th:only-of-type {\n",
       "        vertical-align: middle;\n",
       "    }\n",
       "\n",
       "    .dataframe tbody tr th {\n",
       "        vertical-align: top;\n",
       "    }\n",
       "\n",
       "    .dataframe thead th {\n",
       "        text-align: right;\n",
       "    }\n",
       "</style>\n",
       "<table border=\"1\" class=\"dataframe\">\n",
       "  <thead>\n",
       "    <tr style=\"text-align: right;\">\n",
       "      <th></th>\n",
       "      <th>fname</th>\n",
       "      <th>dialogue_origin</th>\n",
       "      <th>summary_origin</th>\n",
       "      <th>topic_origin</th>\n",
       "      <th>dialogue_comp</th>\n",
       "      <th>summary_comp</th>\n",
       "      <th>topic_comp</th>\n",
       "    </tr>\n",
       "  </thead>\n",
       "  <tbody>\n",
       "    <tr>\n",
       "      <th>475</th>\n",
       "      <td>dev_475</td>\n",
       "      <td>#Person1#: Good morning. I'm thinking about bu...</td>\n",
       "      <td>#Person2# assists #Person1# to buy new furnitu...</td>\n",
       "      <td>buy furniture</td>\n",
       "      <td>NaN</td>\n",
       "      <td>NaN</td>\n",
       "      <td>NaN</td>\n",
       "    </tr>\n",
       "  </tbody>\n",
       "</table>\n",
       "</div>"
      ],
      "text/plain": [
       "       fname                                    dialogue_origin  \\\n",
       "475  dev_475  #Person1#: Good morning. I'm thinking about bu...   \n",
       "\n",
       "                                        summary_origin   topic_origin  \\\n",
       "475  #Person2# assists #Person1# to buy new furnitu...  buy furniture   \n",
       "\n",
       "    dialogue_comp summary_comp topic_comp  \n",
       "475           NaN          NaN        NaN  "
      ]
     },
     "metadata": {},
     "output_type": "display_data"
    },
    {
     "data": {
      "text/html": [
       "<div>\n",
       "<style scoped>\n",
       "    .dataframe tbody tr th:only-of-type {\n",
       "        vertical-align: middle;\n",
       "    }\n",
       "\n",
       "    .dataframe tbody tr th {\n",
       "        vertical-align: top;\n",
       "    }\n",
       "\n",
       "    .dataframe thead th {\n",
       "        text-align: right;\n",
       "    }\n",
       "</style>\n",
       "<table border=\"1\" class=\"dataframe\">\n",
       "  <thead>\n",
       "    <tr style=\"text-align: right;\">\n",
       "      <th></th>\n",
       "      <th>fname</th>\n",
       "      <th>dialogue_origin</th>\n",
       "      <th>summary_origin</th>\n",
       "      <th>topic_origin</th>\n",
       "      <th>dialogue_comp</th>\n",
       "      <th>summary_comp</th>\n",
       "      <th>topic_comp</th>\n",
       "    </tr>\n",
       "  </thead>\n",
       "  <tbody>\n",
       "    <tr>\n",
       "      <th>1909</th>\n",
       "      <td>train_1909</td>\n",
       "      <td>#Person1#: I have to find a living room set. \\...</td>\n",
       "      <td>#Person2# got #Person2#'s living room set from...</td>\n",
       "      <td>buy furniture</td>\n",
       "      <td>#Person1#: 거실가구 세트를 찾아야 해요. \\n#Person2#: 어디서 찾...</td>\n",
       "      <td>#Person2#는 이케아에서 비싼 가격에 좋은 품질의 거실가구 세트를 구입했습니다...</td>\n",
       "      <td>가구 구입</td>\n",
       "    </tr>\n",
       "    <tr>\n",
       "      <th>3974</th>\n",
       "      <td>train_3974</td>\n",
       "      <td>#Person1#: I'm going to have to do some shoppi...</td>\n",
       "      <td>#Person1# wants a new bedroom set. #Person2# t...</td>\n",
       "      <td>buy furniture</td>\n",
       "      <td>#Person1#: 오늘 쇼핑을 좀 해야겠어요. \\n#Person2#: 그래요? 뭘...</td>\n",
       "      <td>#Person1#은 새로운 침실 세트를 원합니다. #Person2#는 #Person...</td>\n",
       "      <td>가구 구매</td>\n",
       "    </tr>\n",
       "    <tr>\n",
       "      <th>10962</th>\n",
       "      <td>train_10962</td>\n",
       "      <td>#Person1#: I'm going to buy a new living room ...</td>\n",
       "      <td>#Person2# recommend #Person1# to buy #Person1#...</td>\n",
       "      <td>buy furniture</td>\n",
       "      <td>#Person1#: 새로운 거실 세트를 사려고 합니다. \\n#Person2#: 어디...</td>\n",
       "      <td>#Person2#는 #Person1#에게 이케아에서 거실 세트를 사는 것을 추천합니...</td>\n",
       "      <td>가구 구입</td>\n",
       "    </tr>\n",
       "  </tbody>\n",
       "</table>\n",
       "</div>"
      ],
      "text/plain": [
       "             fname                                    dialogue_origin  \\\n",
       "1909    train_1909  #Person1#: I have to find a living room set. \\...   \n",
       "3974    train_3974  #Person1#: I'm going to have to do some shoppi...   \n",
       "10962  train_10962  #Person1#: I'm going to buy a new living room ...   \n",
       "\n",
       "                                          summary_origin   topic_origin  \\\n",
       "1909   #Person2# got #Person2#'s living room set from...  buy furniture   \n",
       "3974   #Person1# wants a new bedroom set. #Person2# t...  buy furniture   \n",
       "10962  #Person2# recommend #Person1# to buy #Person1#...  buy furniture   \n",
       "\n",
       "                                           dialogue_comp  \\\n",
       "1909   #Person1#: 거실가구 세트를 찾아야 해요. \\n#Person2#: 어디서 찾...   \n",
       "3974   #Person1#: 오늘 쇼핑을 좀 해야겠어요. \\n#Person2#: 그래요? 뭘...   \n",
       "10962  #Person1#: 새로운 거실 세트를 사려고 합니다. \\n#Person2#: 어디...   \n",
       "\n",
       "                                            summary_comp topic_comp  \n",
       "1909   #Person2#는 이케아에서 비싼 가격에 좋은 품질의 거실가구 세트를 구입했습니다...      가구 구입  \n",
       "3974   #Person1#은 새로운 침실 세트를 원합니다. #Person2#는 #Person...      가구 구매  \n",
       "10962  #Person2#는 #Person1#에게 이케아에서 거실 세트를 사는 것을 추천합니...      가구 구입  "
      ]
     },
     "metadata": {},
     "output_type": "display_data"
    }
   ],
   "source": [
    "display(merged_val[merged_val['dialogue_comp'].isnull()])\n",
    "display(merged_val[merged_val['topic_origin']=='buy furniture'])\n",
    "display(merged_train[merged_train['topic_origin']=='buy furniture'])"
   ]
  },
  {
   "cell_type": "markdown",
   "id": "d1f79153",
   "metadata": {},
   "source": [
    "## 영어 Topic과 한국어 Topic 매칭"
   ]
  },
  {
   "cell_type": "code",
   "execution_count": 44,
   "id": "ac37e46f",
   "metadata": {},
   "outputs": [],
   "source": [
    "def extract_topic_translation_pairs(df):\n",
    "    \"\"\"\n",
    "    topic_origin과 topic_comp 컬럼에서 번역쌍 매칭 딕셔너리를 반환합니다.\n",
    "    중복은 제거되고, 순서는 유지됩니다.\n",
    "\n",
    "    Args:\n",
    "        df (pd.DataFrame): 'merged_train' 데이터프레임\n",
    "\n",
    "    Returns:\n",
    "        dict: {영어 topic: 한국어 topic} 형태의 매핑 딕셔너리\n",
    "    \"\"\"\n",
    "    # 필요한 컬럼만 선택\n",
    "    topic_pairs = df[['topic_origin', 'topic_comp']]\n",
    "\n",
    "    # 중복 제거\n",
    "    unique_pairs = topic_pairs.drop_duplicates()\n",
    "\n",
    "    # 딕셔너리로 변환\n",
    "    topic_dict = dict(zip(unique_pairs['topic_origin'], unique_pairs['topic_comp']))\n",
    "\n",
    "    return topic_dict\n",
    "\n",
    "import re\n",
    "\n",
    "def clean_topic(topic_dict):\n",
    "    \"\"\"\n",
    "    topic_origin과 topic_comp로 구성된 번역 딕셔너리에서 \n",
    "    \\n, \\r 등의 특수문자와 앞뒤 공백을 제거합니다.\n",
    "\n",
    "    Args:\n",
    "        topic_dict (dict): {영어 topic: 한국어 topic} 형태의 번역 딕셔너리\n",
    "\n",
    "    Returns:\n",
    "        dict: 특수문자가 제거되고 정제된 딕셔너리\n",
    "    \"\"\"\n",
    "    cleaned_dict = {}\n",
    "\n",
    "    for k, v in topic_dict.items():\n",
    "        # None이면 빈 문자열로, 아니면 str로 변환\n",
    "        k_str = '' if k is None else str(k)\n",
    "        v_str = '' if v is None else str(v)\n",
    "\n",
    "        clean_k = re.sub(r'[\\n\\r\\t]', '', k_str).strip()\n",
    "        clean_v = re.sub(r'[\\n\\r\\t]', '', v_str).strip()\n",
    "        cleaned_dict[clean_k] = clean_v\n",
    "\n",
    "    return cleaned_dict\n"
   ]
  },
  {
   "cell_type": "code",
   "execution_count": null,
   "id": "3829c02a",
   "metadata": {},
   "outputs": [],
   "source": [
    "topic_translation_dict = extract_topic_translation_pairs(merged_train)\n",
    "topic_translation_dict = clean_topic(topic_translation_dict)\n",
    "\n",
    "# 예시 출력\n",
    "from pprint import pprint\n",
    "pprint(topic_translation_dict)\n",
    "# {'Education': '교육', 'Healthcare': '의료', ...}"
   ]
  },
  {
   "cell_type": "code",
   "execution_count": 71,
   "id": "6538ec12",
   "metadata": {},
   "outputs": [],
   "source": [
    "# 파일로 저장.\n",
    "import yaml\n",
    "with open(os.path.join(project_dir, \"data\", \"topic_dict_cleaned.yaml\"), 'w', encoding='utf-8') as f:\n",
    "    # json.dump(topic_translation_dict, fp=f)\n",
    "    yaml.safe_dump(topic_translation_dict, stream=f, allow_unicode=True)"
   ]
  },
  {
   "cell_type": "code",
   "execution_count": 49,
   "id": "00a79582",
   "metadata": {},
   "outputs": [
    {
     "data": {
      "application/vnd.jupyter.widget-view+json": {
       "model_id": "8b36fb7300114449a0d13e74a5681dff",
       "version_major": 2,
       "version_minor": 0
      },
      "text/plain": [
       "tokenizer_config.json:   0%|          | 0.00/375 [00:00<?, ?B/s]"
      ]
     },
     "metadata": {},
     "output_type": "display_data"
    },
    {
     "data": {
      "application/vnd.jupyter.widget-view+json": {
       "model_id": "995d08949af24c70851bc2c39a78f2f9",
       "version_major": 2,
       "version_minor": 0
      },
      "text/plain": [
       "config.json:   0%|          | 0.00/730 [00:00<?, ?B/s]"
      ]
     },
     "metadata": {},
     "output_type": "display_data"
    },
    {
     "data": {
      "application/vnd.jupyter.widget-view+json": {
       "model_id": "03e00e4ac71543dabf0af6fef09c1186",
       "version_major": 2,
       "version_minor": 0
      },
      "text/plain": [
       "spiece.model:   0%|          | 0.00/4.31M [00:00<?, ?B/s]"
      ]
     },
     "metadata": {},
     "output_type": "display_data"
    },
    {
     "data": {
      "application/vnd.jupyter.widget-view+json": {
       "model_id": "eb205cc389f4491eaab00e9fd0f884c2",
       "version_major": 2,
       "version_minor": 0
      },
      "text/plain": [
       "special_tokens_map.json:   0%|          | 0.00/65.0 [00:00<?, ?B/s]"
      ]
     },
     "metadata": {},
     "output_type": "display_data"
    },
    {
     "name": "stderr",
     "output_type": "stream",
     "text": [
      "You are using the default legacy behaviour of the <class 'transformers.models.t5.tokenization_t5.T5Tokenizer'>. This is expected, and simply means that the `legacy` (previous) behavior will be used so nothing changes for you. If you want to use the new behaviour, set `legacy=False`. This should only be set if you understand what it means, and thoroughly read the reason why this was added as explained in https://github.com/huggingface/transformers/pull/24565\n",
      "/home/song/.conda/envs/py310/lib/python3.10/site-packages/transformers/convert_slow_tokenizer.py:564: UserWarning: The sentencepiece tokenizer that you are converting to a fast tokenizer uses the byte fallback option which is not implemented in the fast tokenizers. In practice this means that the fast version of the tokenizer can produce unknown tokens whereas the sentencepiece version would have converted these unknown tokens into a sequence of byte tokens matching the original piece of text.\n",
      "  warnings.warn(\n"
     ]
    }
   ],
   "source": [
    "from transformers import AutoTokenizer\n",
    "tokenizer = AutoTokenizer.from_pretrained(\"csebuetnlp/mT5_multilingual_XLSum\")"
   ]
  },
  {
   "cell_type": "code",
   "execution_count": 58,
   "id": "45162c48",
   "metadata": {},
   "outputs": [
    {
     "name": "stdout",
     "output_type": "stream",
     "text": [
      "['▁ATM']\n",
      "['▁A', '/', 'S']\n",
      "['▁AS']\n",
      "['▁BBC', '▁', '영어', '▁프로그램']\n",
      "['▁CEO', '▁', 'CPR']\n",
      "['▁E', 'DD']\n",
      "['▁', 'ETV']\n",
      "['▁K', 't', 's']\n",
      "['▁', '에이', '브', '러', '햄', '▁', '링', '컨']\n",
      "['▁알', '버', '트', '▁아', '인', '슈', '타', '인']\n",
      "['▁100', '주', '년', '▁파', '티']\n"
     ]
    }
   ],
   "source": [
    "\"\"\"\n",
    "digit82/kobart-summarization 의 경우 ATM을 \n",
    "['_A', 'T', 'M'] 으로 토큰화함 => 적절하지 않음.\n",
    "\"\"\"\n",
    "print(tokenizer.tokenize(\"ATM\"))\n",
    "print(tokenizer.tokenize(\"A/S\"))\n",
    "print(tokenizer.tokenize(\"AS\"))\n",
    "print(tokenizer.tokenize(\"BBC 영어 프로그램\"))\n",
    "print(tokenizer.tokenize(\"CEO\", \"CPR\"))\n",
    "print(tokenizer.tokenize(\"EDD\"))\n",
    "print(tokenizer.tokenize(\"ETV\"))\n",
    "print(tokenizer.tokenize(\"Kts\"))\n",
    "\n",
    "print(tokenizer.tokenize(\"에이브러햄 링컨\"))\n",
    "print(tokenizer.tokenize(\"알버트 아인슈타인\"))\n",
    "\n",
    "print(tokenizer.tokenize(\"100주년 파티\"))"
   ]
  },
  {
   "cell_type": "markdown",
   "id": "47f79c84",
   "metadata": {},
   "source": [
    "- topic 후처리\n",
    "1. A/S >> AS\n",
    "2. 영어 이름에 대한 special token에 추가?\n",
    "    - Solar API 사용해서 topic_dict에서 영어 이름 추출\n",
    "3. 약어 번역\n",
    "    - EDD, ETV, Kts 등 약어가 의심되는 단어를 Solar API 를 통해 검사 후 ~~한국어로 번역~~ -> 약어를 그대로 special token에 추가?\n",
    "    > e.g. EDD topic의 요약문을 gpt에 주고 EDD가 어떤 약어인지 알아내라 했을 때 미국 캘리포니아주의 고용개발국(Employment Development Department)이라고 잘 알아냄.\n",
    "    - 이런 약어가 topic에 있는 경우, 높은 확률로 대화문, 요약문에도 약어가 존재함."
   ]
  },
  {
   "cell_type": "code",
   "execution_count": null,
   "id": "eb8d9f7f",
   "metadata": {},
   "outputs": [
    {
     "name": "stdout",
     "output_type": "stream",
     "text": [
      "['#Person2#는 #Person1#에게 EDD 사무실에서 일자리를 찾을 수 있다고 말하고 이 지역의 현지 사무실 주소를 알려줍니다.']\n",
      "['#Person1#: EDD에 어떻게 가야 하나요?\\n#Person2#: 사실, 청구를 하기 위해 굳이 사무실에 갈 필요는 없습니다. 전화나 인터넷으로 할 수 있습니다.\\n#Person1#: 그 사무실에서 직접 일자리를 찾아볼 수 있나요?\\n#Person2#: 좋은 결정입니다. 그곳에는 많은 좋은 취업 검색 도구들이 있습니다.\\n#Person1#: 제 근처에 사무실이 있나요?\\n#Person2#: 인터넷에는 고용개발 사무소의 목록이 온라인으로 나와 있습니다.\\n#Person1#: 이 지역의 현지 사무소가 어디에 있는지 아세요?\\n#Person2#: 우리 사무실은 대학에서 서쪽으로 가면 #Address#에 위치해 있습니다.\\n#Person1#: 만약 거기에 가면 바로 돈을 받을 수 있을까요?\\n#Person2#: 모든 사람들은 수급을 시작하기 전에 1주일의 대기 기간이 있습니다.']\n"
     ]
    }
   ],
   "source": [
    "# 약어의 경우 보존하는 것이 유리할 듯. 요약문에도 약어가 있어서 EDD를 Empolyment ... 로 풀어버리면 요약이 틀릴 수 있음.\n",
    "print(merged_train[merged_train['topic_origin']=='EDD']['summary_comp'].values)\n",
    "print(merged_train[merged_train['topic_origin']=='EDD']['dialogue_comp'].values)"
   ]
  },
  {
   "cell_type": "code",
   "execution_count": null,
   "id": "f64759df",
   "metadata": {},
   "outputs": [],
   "source": []
  },
  {
   "cell_type": "code",
   "execution_count": null,
   "id": "18864295",
   "metadata": {},
   "outputs": [],
   "source": []
  },
  {
   "cell_type": "code",
   "execution_count": null,
   "id": "8c345656",
   "metadata": {},
   "outputs": [],
   "source": []
  },
  {
   "cell_type": "code",
   "execution_count": null,
   "id": "9c38dc8b",
   "metadata": {},
   "outputs": [],
   "source": []
  }
 ],
 "metadata": {
  "kernelspec": {
   "display_name": "Python 3 (ipykernel)",
   "language": "python",
   "name": "python3"
  },
  "language_info": {
   "codemirror_mode": {
    "name": "ipython",
    "version": 3
   },
   "file_extension": ".py",
   "mimetype": "text/x-python",
   "name": "python",
   "nbconvert_exporter": "python",
   "pygments_lexer": "ipython3",
   "version": "3.10.0"
  }
 },
 "nbformat": 4,
 "nbformat_minor": 5
}
