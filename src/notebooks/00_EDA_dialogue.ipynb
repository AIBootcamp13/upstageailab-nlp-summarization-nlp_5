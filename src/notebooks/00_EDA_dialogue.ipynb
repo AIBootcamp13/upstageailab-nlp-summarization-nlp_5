{
 "cells": [
  {
   "cell_type": "code",
   "execution_count": 125,
   "id": "da9a991a",
   "metadata": {},
   "outputs": [],
   "source": [
    "# 모델의 구성 정보를 YAML 파일로 저장합니다.\n",
    "project_dir = \"/mnt/c/SKH/ai_lab_13/projects/nlp-text-summarization/song\"\n",
    "import os\n",
    "import sys\n",
    "sys.path.append(\n",
    "    project_dir\n",
    ")\n",
    "from src.utils.utils import *\n",
    "\n",
    "import pandas as pd\n",
    "pd.set_option('display.max_columns',None)\n",
    "pd.set_option('display.max_rows',None)\n",
    "\n",
    "train_df = pd.read_csv(os.path.join(project_dir, 'data','train_clean_special_tokens.csv'))\n",
    "val_df = pd.read_csv(os.path.join(project_dir, 'data','dev.csv'))\n",
    "test_df = pd.read_csv(os.path.join(project_dir, 'data','test.csv'))\n",
    "sub_df = pd.read_csv(os.path.join(project_dir, 'data','submission_08020735.csv'))\n",
    "\n",
    "test_df['summary'] = sub_df['summary']"
   ]
  },
  {
   "cell_type": "markdown",
   "id": "e18c7117",
   "metadata": {},
   "source": [
    "## special token 확인"
   ]
  },
  {
   "cell_type": "code",
   "execution_count": 80,
   "id": "339c8ae0",
   "metadata": {},
   "outputs": [],
   "source": [
    "special_tokens = [\n",
    "    '#Person1#', '#Person2#', '#Person3#', '#Person4#', \n",
    "    '#Person5#', '#Person6#', '#Person7#', \n",
    "    '#PhoneNumber#',\n",
    "    '#Address#',\n",
    "    '#DateOfBirth#',\n",
    "    '#PassportNumber#',\n",
    "    '#SSN#',\n",
    "    '#CardNumber#',\n",
    "    '#CarNumber#',\n",
    "    '#Email#',\n",
    "]"
   ]
  },
  {
   "cell_type": "code",
   "execution_count": 4,
   "id": "082dcc46",
   "metadata": {},
   "outputs": [
    {
     "name": "stderr",
     "output_type": "stream",
     "text": [
      "/tmp/ipykernel_899/199812826.py:2: SettingWithCopyWarning: \n",
      "A value is trying to be set on a copy of a slice from a DataFrame.\n",
      "Try using .loc[row_indexer,col_indexer] = value instead\n",
      "\n",
      "See the caveats in the documentation: https://pandas.pydata.org/pandas-docs/stable/user_guide/indexing.html#returning-a-view-versus-a-copy\n",
      "  tds[special_tokens] = 0\n",
      "100%|██████████████████████████████████████████████████████████████████████████| 12457/12457 [00:01<00:00, 10516.55it/s]\n"
     ]
    }
   ],
   "source": [
    "tds = train_df[['fname','dialogue']]\n",
    "tds[special_tokens] = 0\n",
    "def include_special_token(row):\n",
    "    for st in special_tokens:\n",
    "        if st in row['dialogue']:\n",
    "            row[st] = 1\n",
    "    return row\n",
    "from tqdm import tqdm\n",
    "tqdm.pandas()\n",
    "tds = tds.progress_apply(include_special_token, axis=1)"
   ]
  },
  {
   "cell_type": "code",
   "execution_count": 5,
   "id": "fa137106",
   "metadata": {},
   "outputs": [
    {
     "data": {
      "text/plain": [
       "#Person1#           12457\n",
       "#Person2#           12457\n",
       "#Person3#             122\n",
       "#Person4#              15\n",
       "#Person5#               5\n",
       "#Person6#               2\n",
       "#Person7#               1\n",
       "#PhoneNumber#         151\n",
       "#Address#              81\n",
       "#DateOfBirth#          20\n",
       "#PassportNumber#        5\n",
       "#SSN#                   3\n",
       "#CardNumber#           12\n",
       "#CarNumber#             7\n",
       "#Email#                13\n",
       "dtype: int64"
      ]
     },
     "execution_count": 5,
     "metadata": {},
     "output_type": "execute_result"
    }
   ],
   "source": [
    "tds[special_tokens].sum()"
   ]
  },
  {
   "cell_type": "markdown",
   "id": "b55a146d",
   "metadata": {},
   "source": [
    "- 화자 : 총 7명까지 존재"
   ]
  },
  {
   "cell_type": "code",
   "execution_count": 6,
   "id": "ed206385",
   "metadata": {},
   "outputs": [
    {
     "name": "stderr",
     "output_type": "stream",
     "text": [
      "/tmp/ipykernel_899/2116243011.py:2: SettingWithCopyWarning: \n",
      "A value is trying to be set on a copy of a slice from a DataFrame.\n",
      "Try using .loc[row_indexer,col_indexer] = value instead\n",
      "\n",
      "See the caveats in the documentation: https://pandas.pydata.org/pandas-docs/stable/user_guide/indexing.html#returning-a-view-versus-a-copy\n",
      "  vds[special_tokens] = 0\n",
      "100%|██████████████████████████████████████████████████████████████████████████████| 499/499 [00:00<00:00, 10442.29it/s]\n"
     ]
    },
    {
     "data": {
      "text/plain": [
       "#Person1#           499\n",
       "#Person2#           499\n",
       "#Person3#             5\n",
       "#Person4#             1\n",
       "#Person5#             0\n",
       "#Person6#             0\n",
       "#Person7#             0\n",
       "#PhoneNumber#         5\n",
       "#Address#             2\n",
       "#DateOfBirth#         2\n",
       "#PassportNumber#      0\n",
       "#SSN#                 0\n",
       "#CardNumber#          0\n",
       "#CarNumber#           0\n",
       "#Email#               0\n",
       "dtype: int64"
      ]
     },
     "execution_count": 6,
     "metadata": {},
     "output_type": "execute_result"
    }
   ],
   "source": [
    "vds = val_df[['fname','dialogue']]\n",
    "vds[special_tokens] = 0\n",
    "def include_special_token(row):\n",
    "    for st in special_tokens:\n",
    "        if st in row['dialogue']:\n",
    "            row[st] = 1\n",
    "    return row\n",
    "vds = vds.progress_apply(include_special_token, axis=1)\n",
    "vds[special_tokens].sum()"
   ]
  },
  {
   "cell_type": "code",
   "execution_count": 7,
   "id": "6d042f4b",
   "metadata": {},
   "outputs": [
    {
     "name": "stderr",
     "output_type": "stream",
     "text": [
      "100%|███████████████████████████████████████████████████████████████████████████████| 499/499 [00:00<00:00, 6513.12it/s]\n"
     ]
    },
    {
     "data": {
      "text/plain": [
       "#Person1#           499\n",
       "#Person2#           499\n",
       "#Person3#             4\n",
       "#Person4#             0\n",
       "#Person5#             0\n",
       "#Person6#             0\n",
       "#Person7#             0\n",
       "#PhoneNumber#         5\n",
       "#Address#             1\n",
       "#DateOfBirth#         0\n",
       "#PassportNumber#      1\n",
       "#SSN#                 0\n",
       "#CardNumber#          0\n",
       "#CarNumber#           0\n",
       "#Email#               0\n",
       "dtype: int64"
      ]
     },
     "execution_count": 7,
     "metadata": {},
     "output_type": "execute_result"
    }
   ],
   "source": [
    "ttds = test_df[['fname','dialogue']]\n",
    "ttds[special_tokens] = 0\n",
    "def include_special_token(row):\n",
    "    for st in special_tokens:\n",
    "        if st in row['dialogue']:\n",
    "            row[st] = 1\n",
    "    return row\n",
    "ttds = ttds.progress_apply(include_special_token, axis=1)\n",
    "ttds[special_tokens].sum()"
   ]
  },
  {
   "cell_type": "markdown",
   "id": "c1eaeb89",
   "metadata": {},
   "source": [
    "#### special token은 항상 요약문에 포함되는 가?"
   ]
  },
  {
   "cell_type": "code",
   "execution_count": 8,
   "id": "32ea1948",
   "metadata": {},
   "outputs": [],
   "source": [
    "# person은 제외하고 분석\n",
    "special_tokens_noperson = list(set(special_tokens) - set({'#Person1#', '#Person2#', '#Person3#', '#Person4#', \n",
    "    '#Person5#', '#Person6#', '#Person7#'}))\n",
    "special_tokens_onlyperson = ['#Person1#', '#Person2#', '#Person3#', '#Person4#', \n",
    "    '#Person5#', '#Person6#', '#Person7#']"
   ]
  },
  {
   "cell_type": "code",
   "execution_count": 4,
   "id": "77571e62",
   "metadata": {},
   "outputs": [],
   "source": [
    "from typing import List, Set\n",
    "\n",
    "def find_mismatched_special_tokens(\n",
    "    train_df: pd.DataFrame,\n",
    "    special_tokens_list: List[str]\n",
    ") -> List[str]:\n",
    "    \"\"\"\n",
    "    train_df에서 dialogue에 special_tokens_noperson 중 특정 토큰이 포함되었지만\n",
    "    summary에는 포함되지 않은 fname을 찾아 리스트로 반환합니다.\n",
    "\n",
    "    Args:\n",
    "        train_df (pd.DataFrame): 'fname', 'dialogue', 'summary' 컬럼을 포함하는 DataFrame.\n",
    "        special_tokens_noperson (List[str]): 확인하고자 하는 특별 토큰 리스트.\n",
    "\n",
    "    Returns:\n",
    "        List[str]: dialogue에는 포함되었지만 summary에는 해당 special_token이 없는 fname 리스트.\n",
    "    \"\"\"\n",
    "    \n",
    "    # 중복 확인을 위해 special_tokens_noperson을 Set으로 변환\n",
    "    special_tokens_set = set(special_tokens_list)\n",
    "    \n",
    "    mismatched_fnames = []\n",
    "\n",
    "    # 데이터프레임의 각 행을 순회합니다.\n",
    "    for index, row in train_df.iterrows():\n",
    "        fname = row['fname']\n",
    "        dialogue = str(row['dialogue']) # NaN 값이나 다른 타입이 있을 수 있으므로 문자열로 변환\n",
    "        summary = str(row['summary'])   # NaN 값이나 다른 타입이 있을 수 있으므로 문자열로 변환\n",
    "\n",
    "        # 1. dialogue에 special_tokens_noperson 중 어느 것이 포함되어 있는지 확인\n",
    "        dialogue_contained_tokens = {\n",
    "            token for token in special_tokens_set if token in dialogue\n",
    "        }\n",
    "\n",
    "        # dialogue에 special_tokens_noperson이 하나도 포함되어 있지 않다면 건너뜁니다.\n",
    "        if not dialogue_contained_tokens:\n",
    "            continue\n",
    "\n",
    "        # 2. dialogue에 포함된 special_tokens_noperson이 모두 summary에도 포함되어 있는지 확인\n",
    "        # dialogue에 포함된 토큰 중 summary에 없는 토큰을 찾습니다.\n",
    "        missing_in_summary = {\n",
    "            token for token in dialogue_contained_tokens if token not in summary\n",
    "        }\n",
    "\n",
    "        # 3. 만약 dialogue에는 포함되었지만 summary에 포함되지 않은 special_tokens_noperson이 있다면\n",
    "        #    해당 fname을 따로 리스트에 저장.\n",
    "        if missing_in_summary:\n",
    "            mismatched_fnames.append(fname)\n",
    "            # (선택 사항) 어떤 토큰이 누락되었는지 출력하여 디버깅에 도움을 줄 수 있습니다.\n",
    "            # print(f\"fname: {fname}, Missing tokens in summary: {missing_in_summary}\")\n",
    "\n",
    "    return mismatched_fnames\n",
    "\n",
    "def find_special_tokens(df, fnames, special_tokens_list):\n",
    "    filtered_df = df[df['fname'].isin(fnames)].copy()\n",
    "    special_tokens_set = set(special_tokens_list)\n",
    "    # 각 텍스트에서 스페셜 토큰을 추출하는 헬퍼 함수\n",
    "    def extract_tokens_from_text(text: str, tokens_set: Set[str]) -> List[str]:\n",
    "        if not isinstance(text, str): # NaN 값 처리\n",
    "            return []\n",
    "        \n",
    "        extracted = []\n",
    "        for token in tokens_set:\n",
    "            if token in text:\n",
    "                extracted.append(token)\n",
    "        return sorted(list(set(extracted))) # 중복 제거 및 정렬하여 일관성 유지\n",
    "    # apply() 함수를 사용하여 새로운 컬럼을 생성합니다.\n",
    "    filtered_df['dialogue_st'] = filtered_df['dialogue'].apply(\n",
    "        lambda x: extract_tokens_from_text(x, special_tokens_set)\n",
    "    )\n",
    "    filtered_df['summary_st'] = filtered_df['summary'].apply(\n",
    "        lambda x: extract_tokens_from_text(x, special_tokens_set)\n",
    "    )\n",
    "    \n",
    "    return filtered_df"
   ]
  },
  {
   "cell_type": "code",
   "execution_count": 10,
   "id": "0b3c29ca",
   "metadata": {},
   "outputs": [
    {
     "name": "stdout",
     "output_type": "stream",
     "text": [
      "mismatch 총 개수: 4402\n"
     ]
    },
    {
     "data": {
      "text/html": [
       "<div>\n",
       "<style scoped>\n",
       "    .dataframe tbody tr th:only-of-type {\n",
       "        vertical-align: middle;\n",
       "    }\n",
       "\n",
       "    .dataframe tbody tr th {\n",
       "        vertical-align: top;\n",
       "    }\n",
       "\n",
       "    .dataframe thead th {\n",
       "        text-align: right;\n",
       "    }\n",
       "</style>\n",
       "<table border=\"1\" class=\"dataframe\">\n",
       "  <thead>\n",
       "    <tr style=\"text-align: right;\">\n",
       "      <th></th>\n",
       "      <th>fname</th>\n",
       "      <th>dialogue</th>\n",
       "      <th>summary</th>\n",
       "      <th>topic</th>\n",
       "      <th>dialogue_st</th>\n",
       "      <th>summary_st</th>\n",
       "      <th>dialogue_st_len</th>\n",
       "      <th>summary_st_len</th>\n",
       "    </tr>\n",
       "  </thead>\n",
       "  <tbody>\n",
       "    <tr>\n",
       "      <th>0</th>\n",
       "      <td>train_0</td>\n",
       "      <td>#Person1#: 안녕하세요, Mr. Smith. 저는 Dr. Hawkins입니다...</td>\n",
       "      <td>Mr. Smith는 Dr. Hawkins에게 건강검진을 받으러 와서, 매년 검진 필...</td>\n",
       "      <td>건강검진</td>\n",
       "      <td>[#Person1#, #Person2#]</td>\n",
       "      <td>[]</td>\n",
       "      <td>2</td>\n",
       "      <td>0</td>\n",
       "    </tr>\n",
       "    <tr>\n",
       "      <th>1</th>\n",
       "      <td>train_1</td>\n",
       "      <td>#Person1#: 안녕하세요, Mrs. Parker. 잘 지내셨나요?\\n#Pers...</td>\n",
       "      <td>Mrs. Parker가 Ricky와 함께 백신 접종을 위해 방문하였고, Dr. Pe...</td>\n",
       "      <td>백신 접종</td>\n",
       "      <td>[#Person1#, #Person2#]</td>\n",
       "      <td>[]</td>\n",
       "      <td>2</td>\n",
       "      <td>0</td>\n",
       "    </tr>\n",
       "    <tr>\n",
       "      <th>4</th>\n",
       "      <td>train_4</td>\n",
       "      <td>#Person1#: 안녕, 오늘 너무 멋져 보이네요. 저랑 춤 한 곡 추실래요?\\n...</td>\n",
       "      <td>Malik은 Wen과 Nikki에게 춤을 제안하고, Wen은 발을 밟는 것을 감수하...</td>\n",
       "      <td>춤 제안</td>\n",
       "      <td>[#Person1#, #Person2#]</td>\n",
       "      <td>[]</td>\n",
       "      <td>2</td>\n",
       "      <td>0</td>\n",
       "    </tr>\n",
       "  </tbody>\n",
       "</table>\n",
       "</div>"
      ],
      "text/plain": [
       "     fname                                           dialogue  \\\n",
       "0  train_0  #Person1#: 안녕하세요, Mr. Smith. 저는 Dr. Hawkins입니다...   \n",
       "1  train_1  #Person1#: 안녕하세요, Mrs. Parker. 잘 지내셨나요?\\n#Pers...   \n",
       "4  train_4  #Person1#: 안녕, 오늘 너무 멋져 보이네요. 저랑 춤 한 곡 추실래요?\\n...   \n",
       "\n",
       "                                             summary  topic  \\\n",
       "0  Mr. Smith는 Dr. Hawkins에게 건강검진을 받으러 와서, 매년 검진 필...   건강검진   \n",
       "1  Mrs. Parker가 Ricky와 함께 백신 접종을 위해 방문하였고, Dr. Pe...  백신 접종   \n",
       "4  Malik은 Wen과 Nikki에게 춤을 제안하고, Wen은 발을 밟는 것을 감수하...   춤 제안   \n",
       "\n",
       "              dialogue_st summary_st  dialogue_st_len  summary_st_len  \n",
       "0  [#Person1#, #Person2#]         []                2               0  \n",
       "1  [#Person1#, #Person2#]         []                2               0  \n",
       "4  [#Person1#, #Person2#]         []                2               0  "
      ]
     },
     "metadata": {},
     "output_type": "display_data"
    },
    {
     "name": "stdout",
     "output_type": "stream",
     "text": [
      "       dialogue_st_len  summary_st_len\n",
      "count      4402.000000     4402.000000\n",
      "mean          2.089050        0.630850\n",
      "std           0.343437        0.546233\n",
      "min           2.000000        0.000000\n",
      "25%           2.000000        0.000000\n",
      "50%           2.000000        1.000000\n",
      "75%           2.000000        1.000000\n",
      "max           7.000000        6.000000\n"
     ]
    }
   ],
   "source": [
    "train_mismatched_fnames = find_mismatched_special_tokens(train_df, special_tokens)\n",
    "train_mismatched_filtered_df = find_special_tokens(train_df, train_mismatched_fnames, special_tokens)\n",
    "train_mismatched_filtered_df['dialogue_st_len'] = train_mismatched_filtered_df['dialogue_st'].apply(len)\n",
    "train_mismatched_filtered_df['summary_st_len'] = train_mismatched_filtered_df['summary_st'].apply(len)\n",
    "print(\"mismatch 총 개수:\", len(train_mismatched_fnames))\n",
    "display(train_mismatched_filtered_df.head(3))\n",
    "print(train_mismatched_filtered_df[['dialogue_st_len','summary_st_len']].describe())"
   ]
  },
  {
   "cell_type": "code",
   "execution_count": 11,
   "id": "fa830b9a",
   "metadata": {},
   "outputs": [
    {
     "name": "stdout",
     "output_type": "stream",
     "text": [
      "mismatch 총 개수: 9\n"
     ]
    },
    {
     "data": {
      "text/html": [
       "<div>\n",
       "<style scoped>\n",
       "    .dataframe tbody tr th:only-of-type {\n",
       "        vertical-align: middle;\n",
       "    }\n",
       "\n",
       "    .dataframe tbody tr th {\n",
       "        vertical-align: top;\n",
       "    }\n",
       "\n",
       "    .dataframe thead th {\n",
       "        text-align: right;\n",
       "    }\n",
       "</style>\n",
       "<table border=\"1\" class=\"dataframe\">\n",
       "  <thead>\n",
       "    <tr style=\"text-align: right;\">\n",
       "      <th></th>\n",
       "      <th>fname</th>\n",
       "      <th>dialogue</th>\n",
       "      <th>summary</th>\n",
       "      <th>topic</th>\n",
       "      <th>dialogue_st</th>\n",
       "      <th>summary_st</th>\n",
       "      <th>dialogue_st_len</th>\n",
       "      <th>summary_st_len</th>\n",
       "    </tr>\n",
       "  </thead>\n",
       "  <tbody>\n",
       "    <tr>\n",
       "      <th>38</th>\n",
       "      <td>dev_38</td>\n",
       "      <td>#Person1#: Sound and Vision, 행정부입니다. Eve Wheel...</td>\n",
       "      <td>John Cruise는 Eve에게 비디오 녹화기 문제로 불만을 제기하고, 기기가 테...</td>\n",
       "      <td>비디오 녹화기 불만 제기</td>\n",
       "      <td>[#Person1#, #Person2#, #PhoneNumber#]</td>\n",
       "      <td>[]</td>\n",
       "      <td>3</td>\n",
       "      <td>0</td>\n",
       "    </tr>\n",
       "    <tr>\n",
       "      <th>118</th>\n",
       "      <td>dev_118</td>\n",
       "      <td>#Person1#: 여기는 911입니다. \\n#Person2#: 빨리 구급차 보내주...</td>\n",
       "      <td>#Person2#가 남편의 심장마비로 911에 전화하여 #Person1#에게 구급차...</td>\n",
       "      <td>응급 이송 요청</td>\n",
       "      <td>[#Address#, #Person1#, #Person2#]</td>\n",
       "      <td>[#Person1#, #Person2#]</td>\n",
       "      <td>3</td>\n",
       "      <td>2</td>\n",
       "    </tr>\n",
       "    <tr>\n",
       "      <th>123</th>\n",
       "      <td>dev_123</td>\n",
       "      <td>#Person1#: 이 직무에 관심 가져주셔서 감사합니다. 저희 쪽에서 연락드리겠습...</td>\n",
       "      <td>#Person2#가 면접을 마치고 결과를 통보받기 위해 #Person1#에게 본인의...</td>\n",
       "      <td>면접 후 연락</td>\n",
       "      <td>[#Person1#, #Person2#, #PhoneNumber#]</td>\n",
       "      <td>[#Person1#, #Person2#]</td>\n",
       "      <td>3</td>\n",
       "      <td>2</td>\n",
       "    </tr>\n",
       "  </tbody>\n",
       "</table>\n",
       "</div>"
      ],
      "text/plain": [
       "       fname                                           dialogue  \\\n",
       "38    dev_38  #Person1#: Sound and Vision, 행정부입니다. Eve Wheel...   \n",
       "118  dev_118  #Person1#: 여기는 911입니다. \\n#Person2#: 빨리 구급차 보내주...   \n",
       "123  dev_123  #Person1#: 이 직무에 관심 가져주셔서 감사합니다. 저희 쪽에서 연락드리겠습...   \n",
       "\n",
       "                                               summary          topic  \\\n",
       "38   John Cruise는 Eve에게 비디오 녹화기 문제로 불만을 제기하고, 기기가 테...  비디오 녹화기 불만 제기   \n",
       "118  #Person2#가 남편의 심장마비로 911에 전화하여 #Person1#에게 구급차...       응급 이송 요청   \n",
       "123  #Person2#가 면접을 마치고 결과를 통보받기 위해 #Person1#에게 본인의...        면접 후 연락   \n",
       "\n",
       "                               dialogue_st              summary_st  \\\n",
       "38   [#Person1#, #Person2#, #PhoneNumber#]                      []   \n",
       "118      [#Address#, #Person1#, #Person2#]  [#Person1#, #Person2#]   \n",
       "123  [#Person1#, #Person2#, #PhoneNumber#]  [#Person1#, #Person2#]   \n",
       "\n",
       "     dialogue_st_len  summary_st_len  \n",
       "38                 3               0  \n",
       "118                3               2  \n",
       "123                3               2  "
      ]
     },
     "metadata": {},
     "output_type": "display_data"
    },
    {
     "name": "stdout",
     "output_type": "stream",
     "text": [
      "       dialogue_st_len  summary_st_len\n",
      "count              9.0        9.000000\n",
      "mean               3.0        1.111111\n",
      "std                0.0        0.927961\n",
      "min                3.0        0.000000\n",
      "25%                3.0        0.000000\n",
      "50%                3.0        1.000000\n",
      "75%                3.0        2.000000\n",
      "max                3.0        2.000000\n"
     ]
    }
   ],
   "source": [
    "val_mismatched_fnames = find_mismatched_special_tokens(val_df, special_tokens_noperson)\n",
    "val_mismatched_filtered_df = find_special_tokens(val_df, val_mismatched_fnames, special_tokens)\n",
    "val_mismatched_filtered_df['dialogue_st_len'] = val_mismatched_filtered_df['dialogue_st'].apply(len)\n",
    "val_mismatched_filtered_df['summary_st_len'] = val_mismatched_filtered_df['summary_st'].apply(len)\n",
    "print(\"mismatch 총 개수:\", len(val_mismatched_fnames))\n",
    "display(val_mismatched_filtered_df.head(3))\n",
    "print(val_mismatched_filtered_df[['dialogue_st_len','summary_st_len']].describe())"
   ]
  },
  {
   "cell_type": "code",
   "execution_count": 12,
   "id": "a051c704",
   "metadata": {},
   "outputs": [
    {
     "data": {
      "text/html": [
       "<div>\n",
       "<style scoped>\n",
       "    .dataframe tbody tr th:only-of-type {\n",
       "        vertical-align: middle;\n",
       "    }\n",
       "\n",
       "    .dataframe tbody tr th {\n",
       "        vertical-align: top;\n",
       "    }\n",
       "\n",
       "    .dataframe thead th {\n",
       "        text-align: right;\n",
       "    }\n",
       "</style>\n",
       "<table border=\"1\" class=\"dataframe\">\n",
       "  <thead>\n",
       "    <tr style=\"text-align: right;\">\n",
       "      <th></th>\n",
       "      <th>fname</th>\n",
       "      <th>dialogue</th>\n",
       "      <th>summary</th>\n",
       "      <th>topic</th>\n",
       "      <th>dialogue_st</th>\n",
       "      <th>summary_st</th>\n",
       "      <th>dialogue_st_len</th>\n",
       "      <th>summary_st_len</th>\n",
       "    </tr>\n",
       "  </thead>\n",
       "  <tbody>\n",
       "    <tr>\n",
       "      <th>38</th>\n",
       "      <td>dev_38</td>\n",
       "      <td>#Person1#: Sound and Vision, 행정부입니다. Eve Wheel...</td>\n",
       "      <td>John Cruise는 Eve에게 비디오 녹화기 문제로 불만을 제기하고, 기기가 테...</td>\n",
       "      <td>비디오 녹화기 불만 제기</td>\n",
       "      <td>[#Person1#, #Person2#, #PhoneNumber#]</td>\n",
       "      <td>[]</td>\n",
       "      <td>3</td>\n",
       "      <td>0</td>\n",
       "    </tr>\n",
       "    <tr>\n",
       "      <th>118</th>\n",
       "      <td>dev_118</td>\n",
       "      <td>#Person1#: 여기는 911입니다. \\n#Person2#: 빨리 구급차 보내주...</td>\n",
       "      <td>#Person2#가 남편의 심장마비로 911에 전화하여 #Person1#에게 구급차...</td>\n",
       "      <td>응급 이송 요청</td>\n",
       "      <td>[#Address#, #Person1#, #Person2#]</td>\n",
       "      <td>[#Person1#, #Person2#]</td>\n",
       "      <td>3</td>\n",
       "      <td>2</td>\n",
       "    </tr>\n",
       "    <tr>\n",
       "      <th>123</th>\n",
       "      <td>dev_123</td>\n",
       "      <td>#Person1#: 이 직무에 관심 가져주셔서 감사합니다. 저희 쪽에서 연락드리겠습...</td>\n",
       "      <td>#Person2#가 면접을 마치고 결과를 통보받기 위해 #Person1#에게 본인의...</td>\n",
       "      <td>면접 후 연락</td>\n",
       "      <td>[#Person1#, #Person2#, #PhoneNumber#]</td>\n",
       "      <td>[#Person1#, #Person2#]</td>\n",
       "      <td>3</td>\n",
       "      <td>2</td>\n",
       "    </tr>\n",
       "    <tr>\n",
       "      <th>136</th>\n",
       "      <td>dev_136</td>\n",
       "      <td>#Person1#: 여보세요. \\n#Person2#: 여보세요, 아빠? \\n#Per...</td>\n",
       "      <td>Mary가 아버지에게 가족의 안부를 물으며 통화한다.</td>\n",
       "      <td>가족 안부 통화</td>\n",
       "      <td>[#DateOfBirth#, #Person1#, #Person2#]</td>\n",
       "      <td>[]</td>\n",
       "      <td>3</td>\n",
       "      <td>0</td>\n",
       "    </tr>\n",
       "    <tr>\n",
       "      <th>151</th>\n",
       "      <td>dev_151</td>\n",
       "      <td>#Person1#: 안녕하세요, 호텔 방을 예약하고 싶어요. \\n#Person2#:...</td>\n",
       "      <td>Michelle은 John Sandals 씨가 뉴욕을 방문하는 4월 14일부터 4월...</td>\n",
       "      <td>호텔 방 예약</td>\n",
       "      <td>[#Person1#, #Person2#, #PhoneNumber#]</td>\n",
       "      <td>[]</td>\n",
       "      <td>3</td>\n",
       "      <td>0</td>\n",
       "    </tr>\n",
       "    <tr>\n",
       "      <th>268</th>\n",
       "      <td>dev_268</td>\n",
       "      <td>#Person1#: 네, 인터뷰는 여기까지입니다. 이 직업에 관심 가져주셔서 감사합...</td>\n",
       "      <td>인터뷰가 종료되었고, #Person1#은 #Person2#에게 최종 결정을 알리기 ...</td>\n",
       "      <td>구직 인터뷰</td>\n",
       "      <td>[#Person1#, #Person2#, #PhoneNumber#]</td>\n",
       "      <td>[#Person1#, #Person2#]</td>\n",
       "      <td>3</td>\n",
       "      <td>2</td>\n",
       "    </tr>\n",
       "    <tr>\n",
       "      <th>331</th>\n",
       "      <td>dev_331</td>\n",
       "      <td>#Person1#: 안녕하세요, 제 이름은 David Parker예요. 신문에 광고...</td>\n",
       "      <td>David Parker가 아파트 광고와 관련된 위치, 시설, 가격에 대해 문의하면서...</td>\n",
       "      <td>아파트 임대</td>\n",
       "      <td>[#Address#, #Person1#, #Person2#]</td>\n",
       "      <td>[#Person2#]</td>\n",
       "      <td>3</td>\n",
       "      <td>1</td>\n",
       "    </tr>\n",
       "    <tr>\n",
       "      <th>397</th>\n",
       "      <td>dev_397</td>\n",
       "      <td>#Person1#: 안녕하세요, 예약 데스크입니다. 무엇을 도와드릴까요?\\n#Per...</td>\n",
       "      <td>#Person1#은 Nancy의 스탠다드룸 예약을 처리하면서 그녀의 개인 정보를 요...</td>\n",
       "      <td>호텔 방 예약</td>\n",
       "      <td>[#Person1#, #Person2#, #PhoneNumber#]</td>\n",
       "      <td>[#Person1#]</td>\n",
       "      <td>3</td>\n",
       "      <td>1</td>\n",
       "    </tr>\n",
       "    <tr>\n",
       "      <th>469</th>\n",
       "      <td>dev_469</td>\n",
       "      <td>#Person1#: 언제 태어나셨어요, 물어봐도 될까요?\\n#Person2#: #D...</td>\n",
       "      <td>#Person1#은 #Person2#에게 생일과 영화 시작 시간을 묻고, 영화 시간...</td>\n",
       "      <td>생일과 영화 시간</td>\n",
       "      <td>[#DateOfBirth#, #Person1#, #Person2#]</td>\n",
       "      <td>[#Person1#, #Person2#]</td>\n",
       "      <td>3</td>\n",
       "      <td>2</td>\n",
       "    </tr>\n",
       "  </tbody>\n",
       "</table>\n",
       "</div>"
      ],
      "text/plain": [
       "       fname                                           dialogue  \\\n",
       "38    dev_38  #Person1#: Sound and Vision, 행정부입니다. Eve Wheel...   \n",
       "118  dev_118  #Person1#: 여기는 911입니다. \\n#Person2#: 빨리 구급차 보내주...   \n",
       "123  dev_123  #Person1#: 이 직무에 관심 가져주셔서 감사합니다. 저희 쪽에서 연락드리겠습...   \n",
       "136  dev_136  #Person1#: 여보세요. \\n#Person2#: 여보세요, 아빠? \\n#Per...   \n",
       "151  dev_151  #Person1#: 안녕하세요, 호텔 방을 예약하고 싶어요. \\n#Person2#:...   \n",
       "268  dev_268  #Person1#: 네, 인터뷰는 여기까지입니다. 이 직업에 관심 가져주셔서 감사합...   \n",
       "331  dev_331  #Person1#: 안녕하세요, 제 이름은 David Parker예요. 신문에 광고...   \n",
       "397  dev_397  #Person1#: 안녕하세요, 예약 데스크입니다. 무엇을 도와드릴까요?\\n#Per...   \n",
       "469  dev_469  #Person1#: 언제 태어나셨어요, 물어봐도 될까요?\\n#Person2#: #D...   \n",
       "\n",
       "                                               summary          topic  \\\n",
       "38   John Cruise는 Eve에게 비디오 녹화기 문제로 불만을 제기하고, 기기가 테...  비디오 녹화기 불만 제기   \n",
       "118  #Person2#가 남편의 심장마비로 911에 전화하여 #Person1#에게 구급차...       응급 이송 요청   \n",
       "123  #Person2#가 면접을 마치고 결과를 통보받기 위해 #Person1#에게 본인의...        면접 후 연락   \n",
       "136                      Mary가 아버지에게 가족의 안부를 물으며 통화한다.       가족 안부 통화   \n",
       "151  Michelle은 John Sandals 씨가 뉴욕을 방문하는 4월 14일부터 4월...        호텔 방 예약   \n",
       "268  인터뷰가 종료되었고, #Person1#은 #Person2#에게 최종 결정을 알리기 ...         구직 인터뷰   \n",
       "331  David Parker가 아파트 광고와 관련된 위치, 시설, 가격에 대해 문의하면서...         아파트 임대   \n",
       "397  #Person1#은 Nancy의 스탠다드룸 예약을 처리하면서 그녀의 개인 정보를 요...        호텔 방 예약   \n",
       "469  #Person1#은 #Person2#에게 생일과 영화 시작 시간을 묻고, 영화 시간...      생일과 영화 시간   \n",
       "\n",
       "                               dialogue_st              summary_st  \\\n",
       "38   [#Person1#, #Person2#, #PhoneNumber#]                      []   \n",
       "118      [#Address#, #Person1#, #Person2#]  [#Person1#, #Person2#]   \n",
       "123  [#Person1#, #Person2#, #PhoneNumber#]  [#Person1#, #Person2#]   \n",
       "136  [#DateOfBirth#, #Person1#, #Person2#]                      []   \n",
       "151  [#Person1#, #Person2#, #PhoneNumber#]                      []   \n",
       "268  [#Person1#, #Person2#, #PhoneNumber#]  [#Person1#, #Person2#]   \n",
       "331      [#Address#, #Person1#, #Person2#]             [#Person2#]   \n",
       "397  [#Person1#, #Person2#, #PhoneNumber#]             [#Person1#]   \n",
       "469  [#DateOfBirth#, #Person1#, #Person2#]  [#Person1#, #Person2#]   \n",
       "\n",
       "     dialogue_st_len  summary_st_len  \n",
       "38                 3               0  \n",
       "118                3               2  \n",
       "123                3               2  \n",
       "136                3               0  \n",
       "151                3               0  \n",
       "268                3               2  \n",
       "331                3               1  \n",
       "397                3               1  \n",
       "469                3               2  "
      ]
     },
     "execution_count": 12,
     "metadata": {},
     "output_type": "execute_result"
    }
   ],
   "source": [
    "val_mismatched_filtered_df"
   ]
  },
  {
   "cell_type": "code",
   "execution_count": 16,
   "id": "c0803b50",
   "metadata": {},
   "outputs": [
    {
     "name": "stdout",
     "output_type": "stream",
     "text": [
      "mismatch 총 개수: 7\n"
     ]
    },
    {
     "data": {
      "text/html": [
       "<div>\n",
       "<style scoped>\n",
       "    .dataframe tbody tr th:only-of-type {\n",
       "        vertical-align: middle;\n",
       "    }\n",
       "\n",
       "    .dataframe tbody tr th {\n",
       "        vertical-align: top;\n",
       "    }\n",
       "\n",
       "    .dataframe thead th {\n",
       "        text-align: right;\n",
       "    }\n",
       "</style>\n",
       "<table border=\"1\" class=\"dataframe\">\n",
       "  <thead>\n",
       "    <tr style=\"text-align: right;\">\n",
       "      <th></th>\n",
       "      <th>fname</th>\n",
       "      <th>dialogue</th>\n",
       "      <th>summary</th>\n",
       "      <th>dialogue_st</th>\n",
       "      <th>summary_st</th>\n",
       "      <th>dialogue_st_len</th>\n",
       "      <th>summary_st_len</th>\n",
       "    </tr>\n",
       "  </thead>\n",
       "  <tbody>\n",
       "    <tr>\n",
       "      <th>54</th>\n",
       "      <td>test_54</td>\n",
       "      <td>#Person1#: 여보세요, #PhoneNumber#입니다. \\n#Person2#...</td>\n",
       "      <td>데이브 톰슨이 샐리에게 전화를 걸어 짐이 아직 돌아오지 않았다고 알립니다.   ...</td>\n",
       "      <td>[#Person1#, #Person2#, #PhoneNumber#]</td>\n",
       "      <td>[]</td>\n",
       "      <td>3</td>\n",
       "      <td>0</td>\n",
       "    </tr>\n",
       "    <tr>\n",
       "      <th>146</th>\n",
       "      <td>test_146</td>\n",
       "      <td>#Person1#: 혹시 다른 지역도 추천해줄 수 있어요?\\n#Person2#: 네...</td>\n",
       "      <td>#Person1# 은 #Person2# 에게 웨스트 더비, 플랫, 그리고 John...</td>\n",
       "      <td>[#Person1#, #Person2#, #PhoneNumber#]</td>\n",
       "      <td>[#Person1#, #Person2#]</td>\n",
       "      <td>3</td>\n",
       "      <td>2</td>\n",
       "    </tr>\n",
       "    <tr>\n",
       "      <th>148</th>\n",
       "      <td>test_148</td>\n",
       "      <td>#Person1#: 안녕하세요, Dan. 9월 10일에 100대 컴퓨터 주문 건에 ...</td>\n",
       "      <td>Dan은 9월 10일에 100대 컴퓨터 주문 건에 대해 확인하려고 전화했으나 인...</td>\n",
       "      <td>[#Person1#, #Person2#, #PhoneNumber#]</td>\n",
       "      <td>[#Person1#]</td>\n",
       "      <td>3</td>\n",
       "      <td>1</td>\n",
       "    </tr>\n",
       "  </tbody>\n",
       "</table>\n",
       "</div>"
      ],
      "text/plain": [
       "        fname                                           dialogue  \\\n",
       "54    test_54  #Person1#: 여보세요, #PhoneNumber#입니다. \\n#Person2#...   \n",
       "146  test_146  #Person1#: 혹시 다른 지역도 추천해줄 수 있어요?\\n#Person2#: 네...   \n",
       "148  test_148  #Person1#: 안녕하세요, Dan. 9월 10일에 100대 컴퓨터 주문 건에 ...   \n",
       "\n",
       "                                               summary  \\\n",
       "54     데이브 톰슨이 샐리에게 전화를 걸어 짐이 아직 돌아오지 않았다고 알립니다.   ...   \n",
       "146   #Person1# 은 #Person2# 에게 웨스트 더비, 플랫, 그리고 John...   \n",
       "148    Dan은 9월 10일에 100대 컴퓨터 주문 건에 대해 확인하려고 전화했으나 인...   \n",
       "\n",
       "                               dialogue_st              summary_st  \\\n",
       "54   [#Person1#, #Person2#, #PhoneNumber#]                      []   \n",
       "146  [#Person1#, #Person2#, #PhoneNumber#]  [#Person1#, #Person2#]   \n",
       "148  [#Person1#, #Person2#, #PhoneNumber#]             [#Person1#]   \n",
       "\n",
       "     dialogue_st_len  summary_st_len  \n",
       "54                 3               0  \n",
       "146                3               2  \n",
       "148                3               1  "
      ]
     },
     "metadata": {},
     "output_type": "display_data"
    },
    {
     "name": "stdout",
     "output_type": "stream",
     "text": [
      "       dialogue_st_len  summary_st_len\n",
      "count              7.0        7.000000\n",
      "mean               3.0        1.142857\n",
      "std                0.0        0.899735\n",
      "min                3.0        0.000000\n",
      "25%                3.0        0.500000\n",
      "50%                3.0        1.000000\n",
      "75%                3.0        2.000000\n",
      "max                3.0        2.000000\n"
     ]
    }
   ],
   "source": [
    "test_mismatched_fnames = find_mismatched_special_tokens(test_df, special_tokens_noperson)\n",
    "test_mismatched_filtered_df = find_special_tokens(test_df, test_mismatched_fnames, special_tokens)\n",
    "test_mismatched_filtered_df['dialogue_st_len'] = test_mismatched_filtered_df['dialogue_st'].apply(len)\n",
    "test_mismatched_filtered_df['summary_st_len'] = test_mismatched_filtered_df['summary_st'].apply(len)\n",
    "print(\"mismatch 총 개수:\", len(test_mismatched_fnames))\n",
    "display(test_mismatched_filtered_df.head(3))\n",
    "print(test_mismatched_filtered_df[['dialogue_st_len','summary_st_len']].describe())"
   ]
  },
  {
   "cell_type": "code",
   "execution_count": 10,
   "id": "da20bee9",
   "metadata": {},
   "outputs": [],
   "source": [
    "additional_special_tokens = [\"#FlightNumber#\",\"#PersonName#\",\"#Name#\",\"#Alex#\",\"#Bob#\",\"#Kristin#\",\"#Liliana#\",\"#Mike#\"]\n",
    "def find_additional_special_tokens(row, test=False):\n",
    "    dialogue = row['dialogue']\n",
    "    summary = \"\"\n",
    "    topic = \"\"\n",
    "    if not test:\n",
    "        summary = row['summary']\n",
    "        topic = row['topic']\n",
    "    for t in [dialogue,summary,topic]:\n",
    "        for ast in additional_special_tokens:\n",
    "            if ast in t:\n",
    "                row['st'] = 1\n",
    "                return row\n",
    "    return row"
   ]
  },
  {
   "cell_type": "code",
   "execution_count": 44,
   "id": "cc395f5c",
   "metadata": {},
   "outputs": [
    {
     "name": "stderr",
     "output_type": "stream",
     "text": [
      "100%|██████████████████████████████████████████████████████████████████████████| 12457/12457 [00:00<00:00, 27714.10it/s]\n"
     ]
    }
   ],
   "source": [
    "from tqdm import tqdm\n",
    "tqdm.pandas()\n",
    "\n",
    "train_df['st'] = 0\n",
    "train_df = train_df.progress_apply(find_additional_special_tokens, axis=1)"
   ]
  },
  {
   "cell_type": "code",
   "execution_count": 45,
   "id": "f1c3ffb0",
   "metadata": {},
   "outputs": [
    {
     "name": "stdout",
     "output_type": "stream",
     "text": [
      "8\n"
     ]
    },
    {
     "data": {
      "text/html": [
       "<div>\n",
       "<style scoped>\n",
       "    .dataframe tbody tr th:only-of-type {\n",
       "        vertical-align: middle;\n",
       "    }\n",
       "\n",
       "    .dataframe tbody tr th {\n",
       "        vertical-align: top;\n",
       "    }\n",
       "\n",
       "    .dataframe thead th {\n",
       "        text-align: right;\n",
       "    }\n",
       "</style>\n",
       "<table border=\"1\" class=\"dataframe\">\n",
       "  <thead>\n",
       "    <tr style=\"text-align: right;\">\n",
       "      <th></th>\n",
       "      <th>fname</th>\n",
       "      <th>dialogue</th>\n",
       "      <th>summary</th>\n",
       "      <th>topic</th>\n",
       "      <th>st</th>\n",
       "    </tr>\n",
       "  </thead>\n",
       "  <tbody>\n",
       "    <tr>\n",
       "      <th>1946</th>\n",
       "      <td>train_1946</td>\n",
       "      <td>#Person1#: 본론으로 들어가죠.\\n#Person2#: 네, 샘플 보셨나요?\\...</td>\n",
       "      <td>한 고객은 속옷 주문을 원하고 가격 협상을 진행하였습니다. 협상 결과, 10,000...</td>\n",
       "      <td>속옷 주문 협상</td>\n",
       "      <td>1</td>\n",
       "    </tr>\n",
       "    <tr>\n",
       "      <th>3903</th>\n",
       "      <td>train_3903</td>\n",
       "      <td>#Person1#: 안녕하세요, 손님. 예약하셨나요?\\n#Person2#: 네, 제...</td>\n",
       "      <td>#PersonName#은 테이블 예약을 했습니다. #Person1#은 #Person...</td>\n",
       "      <td>음식점에서 식사</td>\n",
       "      <td>1</td>\n",
       "    </tr>\n",
       "    <tr>\n",
       "      <th>5614</th>\n",
       "      <td>train_5614</td>\n",
       "      <td>#Person1#: 무엇을 도와드릴까요?\\n#Person2#: 네, 저녁식사 예약을...</td>\n",
       "      <td>#Person1#이 #PersonName#의 여섯 커플을 위한 프라이빗 다이닝룸 예...</td>\n",
       "      <td>저녁식사 예약</td>\n",
       "      <td>1</td>\n",
       "    </tr>\n",
       "    <tr>\n",
       "      <th>6348</th>\n",
       "      <td>train_6348</td>\n",
       "      <td>#Person1#: 안녕하세요, 손님. 저희 레스토랑에 오신 것을 환영합니다.\\n#...</td>\n",
       "      <td>#Name#씨가 예약된 레스토랑에 도착합니다. #Person1#이 그를 환영하며 메...</td>\n",
       "      <td>레스토랑 방문</td>\n",
       "      <td>1</td>\n",
       "    </tr>\n",
       "    <tr>\n",
       "      <th>6608</th>\n",
       "      <td>train_6608</td>\n",
       "      <td>#Person1#: 저 Flight FA2028 비행기를 타려고 하는데, 시간 맞춰...</td>\n",
       "      <td>#Person1#은 #FlightNumber# 비행기를 타려 했지만 제시간에 도착하...</td>\n",
       "      <td>비행기 지연</td>\n",
       "      <td>1</td>\n",
       "    </tr>\n",
       "    <tr>\n",
       "      <th>6829</th>\n",
       "      <td>train_6829</td>\n",
       "      <td>#Person1#: 자, 그럼 내년 우리의 마케팅 전략에 대한 개요를 마치겠습니다....</td>\n",
       "      <td>#Person2#는 발표의 전략 개요에 대해 #Alex#를 칭찬하며, 가격 전략에 ...</td>\n",
       "      <td>발표 칭찬</td>\n",
       "      <td>1</td>\n",
       "    </tr>\n",
       "    <tr>\n",
       "      <th>7017</th>\n",
       "      <td>train_7017</td>\n",
       "      <td>#Person1#: 오늘의 주요 뉴스였습니다. 이제 국제 날씨를 #Mike Sand...</td>\n",
       "      <td>#Bob#과 함께한 #Mike Sanderson#이 자세한 국제 날씨 보고를 전달했...</td>\n",
       "      <td>국제 기상 재해</td>\n",
       "      <td>1</td>\n",
       "    </tr>\n",
       "    <tr>\n",
       "      <th>11367</th>\n",
       "      <td>train_11369</td>\n",
       "      <td>#Person1#: 빈방 있어요?\\n#Person2#: 네, 6층에 좋은 방이 있어...</td>\n",
       "      <td>#Person2#는 #Person1#에게 5일간 아침 식사가 포함된 방을 예약하고,...</td>\n",
       "      <td>호텔 서비스</td>\n",
       "      <td>1</td>\n",
       "    </tr>\n",
       "  </tbody>\n",
       "</table>\n",
       "</div>"
      ],
      "text/plain": [
       "             fname                                           dialogue  \\\n",
       "1946    train_1946  #Person1#: 본론으로 들어가죠.\\n#Person2#: 네, 샘플 보셨나요?\\...   \n",
       "3903    train_3903  #Person1#: 안녕하세요, 손님. 예약하셨나요?\\n#Person2#: 네, 제...   \n",
       "5614    train_5614  #Person1#: 무엇을 도와드릴까요?\\n#Person2#: 네, 저녁식사 예약을...   \n",
       "6348    train_6348  #Person1#: 안녕하세요, 손님. 저희 레스토랑에 오신 것을 환영합니다.\\n#...   \n",
       "6608    train_6608  #Person1#: 저 Flight FA2028 비행기를 타려고 하는데, 시간 맞춰...   \n",
       "6829    train_6829  #Person1#: 자, 그럼 내년 우리의 마케팅 전략에 대한 개요를 마치겠습니다....   \n",
       "7017    train_7017  #Person1#: 오늘의 주요 뉴스였습니다. 이제 국제 날씨를 #Mike Sand...   \n",
       "11367  train_11369  #Person1#: 빈방 있어요?\\n#Person2#: 네, 6층에 좋은 방이 있어...   \n",
       "\n",
       "                                                 summary     topic  st  \n",
       "1946   한 고객은 속옷 주문을 원하고 가격 협상을 진행하였습니다. 협상 결과, 10,000...  속옷 주문 협상   1  \n",
       "3903   #PersonName#은 테이블 예약을 했습니다. #Person1#은 #Person...  음식점에서 식사   1  \n",
       "5614   #Person1#이 #PersonName#의 여섯 커플을 위한 프라이빗 다이닝룸 예...   저녁식사 예약   1  \n",
       "6348   #Name#씨가 예약된 레스토랑에 도착합니다. #Person1#이 그를 환영하며 메...   레스토랑 방문   1  \n",
       "6608   #Person1#은 #FlightNumber# 비행기를 타려 했지만 제시간에 도착하...    비행기 지연   1  \n",
       "6829   #Person2#는 발표의 전략 개요에 대해 #Alex#를 칭찬하며, 가격 전략에 ...     발표 칭찬   1  \n",
       "7017   #Bob#과 함께한 #Mike Sanderson#이 자세한 국제 날씨 보고를 전달했...  국제 기상 재해   1  \n",
       "11367  #Person2#는 #Person1#에게 5일간 아침 식사가 포함된 방을 예약하고,...    호텔 서비스   1  "
      ]
     },
     "execution_count": 45,
     "metadata": {},
     "output_type": "execute_result"
    }
   ],
   "source": [
    "print(train_df['st'].sum())\n",
    "train_df[train_df['st']>=1]"
   ]
  },
  {
   "cell_type": "code",
   "execution_count": 18,
   "id": "d44f5bbd",
   "metadata": {},
   "outputs": [
    {
     "name": "stderr",
     "output_type": "stream",
     "text": [
      "100%|██████████████████████████████████████████████████████████████████████████████| 499/499 [00:00<00:00, 28232.47it/s]"
     ]
    },
    {
     "name": "stdout",
     "output_type": "stream",
     "text": [
      "0\n"
     ]
    },
    {
     "name": "stderr",
     "output_type": "stream",
     "text": [
      "\n"
     ]
    }
   ],
   "source": [
    "val_df['st'] = 0\n",
    "val_df = val_df.progress_apply(find_additional_special_tokens, axis=1)\n",
    "print(val_df['st'].sum())"
   ]
  },
  {
   "cell_type": "code",
   "execution_count": 19,
   "id": "257587ca",
   "metadata": {},
   "outputs": [
    {
     "name": "stderr",
     "output_type": "stream",
     "text": [
      "100%|██████████████████████████████████████████████████████████████████████████████| 499/499 [00:00<00:00, 42986.25it/s]"
     ]
    },
    {
     "name": "stdout",
     "output_type": "stream",
     "text": [
      "0\n"
     ]
    },
    {
     "name": "stderr",
     "output_type": "stream",
     "text": [
      "\n"
     ]
    }
   ],
   "source": [
    "test_df['st'] = 0\n",
    "test_df = test_df.progress_apply(lambda x: find_additional_special_tokens(x,test=True), axis=1)\n",
    "print(test_df['st'].sum())"
   ]
  },
  {
   "cell_type": "code",
   "execution_count": 54,
   "id": "b764d57a",
   "metadata": {},
   "outputs": [
    {
     "name": "stdout",
     "output_type": "stream",
     "text": [
      "#Person1#: 안녕하세요, 손님. 저희 레스토랑에 오신 것을 환영합니다.\n",
      "#Person2#: 감사합니다.\n",
      "#Person1#: 예약하셨나요?\n",
      "#Person2#: 네, 했습니다.\n",
      "#Person1#: 성함을 알 수 있을까요?\n",
      "#Person2#: 네, #Name#입니다.\n",
      "#Person1#: #Name#님, 기대하고 있었습니다. 이쪽으로 오세요. 이 자리가 괜찮으신가요?\n",
      "#Person2#: 아, 이 자리 괜찮습니다.\n",
      "#Person1#: 앉으세요.\n",
      "#Person2#: 감사합니다.\n",
      "#Person1#: 메뉴입니다.\n",
      "#Name#씨가 예약된 레스토랑에 도착합니다. #Person1#이 그를 환영하며 메뉴를 제공합니다.\n",
      "train_6348\n"
     ]
    }
   ],
   "source": [
    "index = 3\n",
    "print(train_df[train_df['st']>=1].iloc[index]['dialogue'])\n",
    "print(train_df[train_df['st']>=1].iloc[index]['summary'])\n",
    "print(train_df[train_df['st']>=1].iloc[index]['fname'])"
   ]
  },
  {
   "cell_type": "code",
   "execution_count": 55,
   "id": "e8b029ad",
   "metadata": {},
   "outputs": [],
   "source": [
    "train_df = train_df[['fname','dialogue','summary','topic']]"
   ]
  },
  {
   "cell_type": "code",
   "execution_count": 67,
   "id": "df955844",
   "metadata": {},
   "outputs": [],
   "source": [
    "# 데이터 정제\n",
    "import warnings\n",
    "warnings.filterwarnings('ignore')\n",
    "row = train_df[train_df['fname']=='train_1946']\n",
    "row['dialogue'] = row['dialogue'].str.replace(\"#Name#\",\"#Person1#\")\n",
    "row['summary'] = row['summary'].str.replace(\"#Name#\",\"#Person1#\")\n",
    "train_df[train_df['fname']=='train_1946'] = row\n",
    "\n",
    "row = train_df[train_df['fname']=='train_3903']\n",
    "row['dialogue'] = row['dialogue'].str.replace(\"#PersoneName#\",\"#Person2#\")\n",
    "row['summary'] = row['summary'].str.replace(\"#PersoneName#\",\"#Person2#\")\n",
    "train_df[train_df['fname']=='train_3903'] = row\n",
    "\n",
    "row = train_df[train_df['fname']=='train_5614']\n",
    "row['dialogue'] = row['dialogue'].str.replace(\"#PersoneName#\",\"#Person2#\")\n",
    "row['summary'] = row['summary'].str.replace(\"#PersoneName#\",\"#Person2#\")\n",
    "train_df[train_df['fname']=='train_5614'] = row\n",
    "\n",
    "row = train_df[train_df['fname']=='train_6348']\n",
    "row['dialogue'] = row['dialogue'].str.replace(\"#Name#\",\"#Person2#\")\n",
    "row['summary'] = row['summary'].str.replace(\"#Name#\",\"#Person2#\")\n",
    "train_df[train_df['fname']=='train_6348'] = row\n",
    "\n",
    "row = train_df[train_df['fname']=='train_6608']\n",
    "row['dialogue'] = row['dialogue'].str.replace(\"#FlightNumber#\",\"Flight FA2028\")\n",
    "row['summary'] = row['summary'].str.replace(\"#FlightNumber#\",\"Flight FA2028\")\n",
    "train_df[train_df['fname']=='train_6608'] = row\n",
    "\n",
    "row = train_df[train_df['fname']=='train_11369']\n",
    "row['dialogue'] = row['dialogue'].str.replace(\"#Name#\",\"#Person1#\")\n",
    "row['summary'] = row['summary'].str.replace(\"#Name#\",\"#Person1#\")\n",
    "train_df[train_df['fname']=='train_11369'] = row\n",
    "\n",
    "row = train_df[train_df['fname']=='train_7017']\n",
    "for a,b in zip([\"#Bob#\",\"#Liliana#\",\"#Mike#\",\"#Mike Sanderson#\"], [\"Bob\",\"Liliana\",\"Mike\",\"Mike Sanderson\"]):\n",
    "    row['dialogue'] = row['dialogue'].str.replace(a,b)\n",
    "    row['summary'] = row['summary'].str.replace(a,b)\n",
    "train_df[train_df['fname']=='train_7017'] = row\n",
    "\n",
    "row = train_df[train_df['fname']=='train_6829']\n",
    "for a,b in zip([\"#Alex#\",\"#Kristin#\"], [\"Alex\",\"Kristin\"]):\n",
    "    row['dialogue'] = row['dialogue'].str.replace(a,b)\n",
    "    row['summary'] = row['summary'].str.replace(a,b)\n",
    "train_df[train_df['fname']=='train_6829'] = row"
   ]
  },
  {
   "cell_type": "code",
   "execution_count": 69,
   "id": "579ea208",
   "metadata": {},
   "outputs": [
    {
     "name": "stdout",
     "output_type": "stream",
     "text": [
      "#Person1#: 자, 그럼 내년 우리의 마케팅 전략에 대한 개요를 마치겠습니다. 시간을 내주셔서 감사합니다.\n",
      "#Person2#: 와, 정말 멋진 발표였어요! 솔직히 말해서, #Person1#의 전략 개요에 완전히 놀랐어요. Alex, 오늘 정말 감동 받았어요.\n",
      "#Person1#: 에이, 별거 아니에요. 그냥 제 일을 한 거예요.\n",
      "#Person2#: 아니에요, 여기서 인정받을 자격이 있어요. 이전 발표들을 돌이켜보면 이번엔 큰 발전이 있었어요.\n",
      "#Person1#: Kristin이 슬라이드를 준비하는 데 도와줬어요. Kristin은 파워포인트의 달인입니다.\n",
      "#Person2#: 그리고 가격 전략에 대한 내 피드백을 반영했더라고요. 제 제안을 고려해줘서 정말 고맙습니다.\n",
      "#Person1#: 네, 정말 훌륭한 조언이었어요. 좋은 포인트들을 주셨죠.\n",
      "#Person2#: 정말 멋진 일을 해냈다고 말하고 싶었어요. 정말 잘했어요.\n"
     ]
    }
   ],
   "source": [
    "print(train_df[train_df['fname']=='train_6829']['dialogue'].values[0])"
   ]
  },
  {
   "cell_type": "code",
   "execution_count": 71,
   "id": "8c27867c",
   "metadata": {},
   "outputs": [],
   "source": [
    "train_df.to_csv(\"train_clean_special_tokens.csv\",index=False)"
   ]
  },
  {
   "cell_type": "code",
   "execution_count": 78,
   "id": "1734443e",
   "metadata": {},
   "outputs": [
    {
     "name": "stdout",
     "output_type": "stream",
     "text": [
      "13 376 85.78863289716625\n"
     ]
    }
   ],
   "source": [
    "result = train_df['summary'].apply(len)\n",
    "print(result.min(), result.max(), result.mean())"
   ]
  },
  {
   "cell_type": "code",
   "execution_count": null,
   "id": "1c9d6e50",
   "metadata": {},
   "outputs": [
    {
     "name": "stdout",
     "output_type": "stream",
     "text": [
      "6026 3554 2877\n",
      "270 131 98\n",
      "347 15 137\n"
     ]
    }
   ],
   "source": [
    "### Person1 으로 시작하는 데이터 개수, Person2로 시작하는 데이터 개수, 그 외 개수\n",
    "\n",
    "starts_w_person1 = list(train_df[train_df['summary'].str.startswith(\"#Person1#\")].index)\n",
    "starts_w_person2 = list(train_df[train_df['summary'].str.startswith(\"#Person2#\")].index)\n",
    "starts_w_person = starts_w_person1 + starts_w_person2\n",
    "others = list(train_df[~train_df.index.isin(starts_w_person)].index)\n",
    "print(len(starts_w_person1), len(starts_w_person2), len(others))\n",
    "# 357_289 11847 7169 5898\n",
    "# 6026 3554 2877\n",
    "\n",
    "starts_w_person1 = list(val_df[val_df['summary'].str.startswith(\"#Person1#\")].index)\n",
    "starts_w_person2 = list(val_df[val_df['summary'].str.startswith(\"#Person2#\")].index)\n",
    "starts_w_person = starts_w_person1 + starts_w_person2\n",
    "others = list(val_df[~val_df.index.isin(starts_w_person)].index)\n",
    "print(len(starts_w_person1), len(starts_w_person2), len(others))\n",
    "\n",
    "sub_df['summary'] = sub_df['summary'].apply(str.strip)\n",
    "starts_w_person1 = list(sub_df[sub_df['summary'].str.startswith(\"#Person1#\")].index)\n",
    "starts_w_person2 = list(sub_df[sub_df['summary'].str.startswith(\"#Person2#\")].index)\n",
    "starts_w_person = starts_w_person1 + starts_w_person2\n",
    "others = list(sub_df[~sub_df.index.isin(starts_w_person)].index)\n",
    "print(len(starts_w_person1), len(starts_w_person2), len(others))"
   ]
  },
  {
   "cell_type": "code",
   "execution_count": 119,
   "id": "7aada5e9",
   "metadata": {},
   "outputs": [],
   "source": [
    "import re\n",
    "def get_indices_with_regex(df: pd.DataFrame, pattern: str):\n",
    "    \"\"\"\n",
    "    dialogue와 summary 컬럼에서 특정 정규표현식을 만족하는 샘플의 인덱스를 추출합니다.\n",
    "\n",
    "    Args:\n",
    "        df (pd.DataFrame): 'dialogue'와 'summary' 컬럼을 포함하는 pandas DataFrame.\n",
    "        pattern (str): 정규표현식 패턴 문자열.\n",
    "\n",
    "    Returns:\n",
    "        List[Union[int, str]]: 정규표현식에 매칭되는 샘플의 인덱스 리스트.\n",
    "    \"\"\"\n",
    "    if 'dialogue' not in df.columns or 'summary' not in df.columns:\n",
    "        raise ValueError(\"DataFrame must contain 'dialogue' and 'summary' columns.\")\n",
    "\n",
    "    # 각 컬럼에서 정규표현식을 만족하는 행을 boolean Series로 반환\n",
    "    # dialogue_matches = df['dialogue'].str.contains(pattern, na=False, regex=True)\n",
    "    # summary_matches = df['summary'].str.contains(pattern, na=False, regex=True)\n",
    "\n",
    "    dialogue_matches = df['dialogue'].apply(lambda x: True if re.findall(pattern,x) else False)\n",
    "    summary_matches = df['summary'].apply(lambda x: True if re.findall(pattern,x) else False)    \n",
    "\n",
    "    # 두 컬럼 중 하나라도 조건을 만족하는 행을 찾기 위해 OR 연산\n",
    "    combined_matches = dialogue_matches | summary_matches\n",
    "\n",
    "    # 조건을 만족하는 행의 인덱스를 추출하여 리스트로 반환\n",
    "    indices = df[combined_matches].index.tolist()\n",
    "\n",
    "    return indices"
   ]
  },
  {
   "cell_type": "code",
   "execution_count": 120,
   "id": "467a9c87",
   "metadata": {},
   "outputs": [
    {
     "name": "stdout",
     "output_type": "stream",
     "text": [
      "116\n",
      " #Person1#은 #Person1#에게 사람 중 누가 진짜 인품이 뛰어나다고 생각하는지 묻고, #Person2#는 아브라함 링컨을 떠올립니다. \n"
     ]
    }
   ],
   "source": [
    "idxs = get_indices_with_regex(test_df, r\"#Person1#(?:[가-힣]+)?\\s*#Person1#\")\n",
    "print(len(idxs))\n",
    "print(test_df.iloc[idxs].iloc[0]['summary'])"
   ]
  },
  {
   "cell_type": "code",
   "execution_count": 121,
   "id": "25f0edd2",
   "metadata": {},
   "outputs": [
    {
     "name": "stdout",
     "output_type": "stream",
     "text": [
      "6\n",
      " #Person2#은 #Person2#에게 삶을 어떻게 조정할지 조언을합니다. #Person1#는 매일 밤 잠을자고, 와인을많이 마시고,매일아침 운동을하며,미래를 걱정합니다 \n"
     ]
    }
   ],
   "source": [
    "idxs = get_indices_with_regex(test_df, r\"#Person2#(?:[가-힣]+)?\\s*#Person2#\")\n",
    "print(len(idxs))\n",
    "print(test_df.iloc[idxs].iloc[0]['summary'])"
   ]
  },
  {
   "cell_type": "code",
   "execution_count": null,
   "id": "7c848cfb",
   "metadata": {},
   "outputs": [],
   "source": []
  }
 ],
 "metadata": {
  "kernelspec": {
   "display_name": "Python 3 (ipykernel)",
   "language": "python",
   "name": "python3"
  },
  "language_info": {
   "codemirror_mode": {
    "name": "ipython",
    "version": 3
   },
   "file_extension": ".py",
   "mimetype": "text/x-python",
   "name": "python",
   "nbconvert_exporter": "python",
   "pygments_lexer": "ipython3",
   "version": "3.11.13"
  }
 },
 "nbformat": 4,
 "nbformat_minor": 5
}
