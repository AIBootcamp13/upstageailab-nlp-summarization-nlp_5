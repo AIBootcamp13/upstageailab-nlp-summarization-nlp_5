{
 "cells": [
  {
   "cell_type": "markdown",
   "metadata": {},
   "source": [
    "# 추론 엔진 테스트\n",
    "\n",
    "이 노트북은 독립 추론 엔진과 CLI 도구를 테스트합니다."
   ]
  },
  {
   "cell_type": "code",
   "execution_count": null,
   "metadata": {},
   "outputs": [],
   "source": [
    "import sys\n",
    "from pathlib import Path\n",
    "import pandas as pd\n",
    "\n",
    "# 상위 디렉토리의 code를 import 경로에 추가\n",
    "sys.path.append(str(Path.cwd().parent / 'code'))\n",
    "\n",
    "from core.inference import InferenceEngine, InferenceConfig, create_inference_engine"
   ]
  },
  {
   "cell_type": "markdown",
   "metadata": {},
   "source": [
    "## 1. 테스트 데이터 준비"
   ]
  },
  {
   "cell_type": "code",
   "execution_count": null,
   "metadata": {},
   "outputs": [],
   "source": [
    "# 테스트용 대화 데이터\n",
    "test_dialogues = [\n",
    "    \"#Person1#: 안녕하세요. 오늘 날씨가 정말 좋네요. #Person2#: 네, 정말 좋아요. 산책하기 딱 좋은 날씨입니다. #Person1#: 점심은 드셨나요? #Person2#: 아직이요. 뭐 먹을지 고민 중이에요.\",\n",
    "    \"#Person1#: 프로젝트 진행 상황은 어떤가요? #Person2#: 순조롭게 진행되고 있습니다. 다음 주까지는 완료할 수 있을 것 같아요. #Person1#: 좋습니다. 문제가 있으면 바로 알려주세요.\",\n",
    "    \"#Person1#: 주말에 영화 보러 갈래요? #Person2#: 좋아요! 무슨 영화 볼까요? #Person1#: 액션 영화는 어때요? #Person2#: 좋습니다. 시간은 언제가 좋으세요?\"\n",
    "]\n",
    "\n",
    "# 테스트 DataFrame 생성\n",
    "test_df = pd.DataFrame({\n",
    "    'fname': [f'test_{i}.txt' for i in range(len(test_dialogues))],\n",
    "    'dialogue': test_dialogues\n",
    "})\n",
    "\n",
    "print(\"테스트 데이터:\")\n",
    "test_df"
   ]
  },
  {
   "cell_type": "markdown",
   "metadata": {},
   "source": [
    "## 2. 추론 엔진 초기화"
   ]
  },
  {
   "cell_type": "code",
   "execution_count": null,
   "metadata": {},
   "outputs": [],
   "source": [
    "# 추론 설정\n",
    "config = InferenceConfig(\n",
    "    model_path='gogamza/kobart-summarization',  # HuggingFace Hub 모델\n",
    "    batch_size=2,\n",
    "    max_source_length=512,\n",
    "    max_target_length=128,\n",
    "    num_beams=3,\n",
    "    device=None  # 자동 감지\n",
    ")\n",
    "\n",
    "print(\"추론 설정:\")\n",
    "print(f\"- 모델: {config.model_path}\")\n",
    "print(f\"- 배치 크기: {config.batch_size}\")\n",
    "print(f\"- 디바이스: {config.device or '자동 감지'}\")"
   ]
  },
  {
   "cell_type": "code",
   "execution_count": null,
   "metadata": {},
   "outputs": [],
   "source": [
    "# 추론 엔진 생성\n",
    "print(\"추론 엔진 초기화 중...\")\n",
    "engine = InferenceEngine(config)\n",
    "\n",
    "print(f\"\\n초기화 완료!\")\n",
    "print(f\"- 사용 디바이스: {engine.device}\")\n",
    "print(f\"- 모델 타입: {engine.model_type}\")\n",
    "print(f\"- 실제 배치 크기: {engine.config.batch_size}\")"
   ]
  },
  {
   "cell_type": "markdown",
   "metadata": {},
   "source": [
    "## 3. 단일 추론 테스트"
   ]
  },
  {
   "cell_type": "code",
   "execution_count": null,
   "metadata": {},
   "outputs": [],
   "source": [
    "# 단일 대화 추론\n",
    "single_dialogue = test_dialogues[0]\n",
    "print(\"입력 대화:\")\n",
    "print(single_dialogue)\n",
    "print(\"\\n\" + \"=\"*50 + \"\\n\")\n",
    "\n",
    "# 추론 실행\n",
    "summary = engine.predict_single(single_dialogue)\n",
    "print(\"생성된 요약:\")\n",
    "print(summary)"
   ]
  },
  {
   "cell_type": "markdown",
   "metadata": {},
   "source": [
    "## 4. 배치 추론 테스트"
   ]
  },
  {
   "cell_type": "code",
   "execution_count": null,
   "metadata": {},
   "outputs": [],
   "source": [
    "# 배치 추론\n",
    "print(f\"{len(test_dialogues)}개 대화에 대한 배치 추론...\")\n",
    "summaries = engine.predict_batch(test_dialogues, show_progress=True)\n",
    "\n",
    "print(\"\\n결과:\")\n",
    "for i, (dialogue, summary) in enumerate(zip(test_dialogues, summaries)):\n",
    "    print(f\"\\n[{i+1}]\")\n",
    "    print(f\"대화: {dialogue[:50]}...\")\n",
    "    print(f\"요약: {summary}\")"
   ]
  },
  {
   "cell_type": "markdown",
   "metadata": {},
   "source": [
    "## 5. DataFrame 추론 테스트"
   ]
  },
  {
   "cell_type": "code",
   "execution_count": null,
   "metadata": {},
   "outputs": [],
   "source": [
    "# DataFrame 추론\n",
    "result_df = engine.predict_from_dataframe(\n",
    "    test_df,\n",
    "    dialogue_column='dialogue',\n",
    "    output_column='summary',\n",
    "    show_progress=True\n",
    ")\n",
    "\n",
    "print(\"\\n결과 DataFrame:\")\n",
    "result_df"
   ]
  },
  {
   "cell_type": "markdown",
   "metadata": {},
   "source": [
    "## 6. 제출 파일 저장 테스트"
   ]
  },
  {
   "cell_type": "code",
   "execution_count": null,
   "metadata": {},
   "outputs": [],
   "source": [
    "# 제출 형식으로 저장\n",
    "output_path = \"test_submission.csv\"\n",
    "engine.save_submission(result_df, output_path)\n",
    "\n",
    "# 저장된 파일 확인\n",
    "saved_df = pd.read_csv(output_path)\n",
    "print(\"저장된 제출 파일:\")\n",
    "print(saved_df)\n",
    "\n",
    "# 파일 삭제\n",
    "import os\n",
    "os.remove(output_path)\n",
    "print(\"\\n테스트 파일 삭제 완료\")"
   ]
  },
  {
   "cell_type": "markdown",
   "metadata": {},
   "source": [
    "## 7. CLI 도구 테스트"
   ]
  },
  {
   "cell_type": "code",
   "execution_count": null,
   "metadata": {},
   "outputs": [],
   "source": [
    "# 테스트 데이터 저장\n",
    "test_input_path = \"test_input.csv\"\n",
    "test_df.to_csv(test_input_path, index=False)\n",
    "print(f\"테스트 입력 파일 생성: {test_input_path}\")"
   ]
  },
  {
   "cell_type": "code",
   "execution_count": null,
   "metadata": {},
   "outputs": [],
   "source": [
    "# CLI 도구 도움말 확인\n",
    "!cd ../code && python run_inference.py --help"
   ]
  },
  {
   "cell_type": "code",
   "execution_count": null,
   "metadata": {},
   "outputs": [],
   "source": [
    "# CLI 도구 실행 테스트 (작은 배치 크기로)\n",
    "!cd ../code && python run_inference.py \\\n",
    "    --model_path gogamza/kobart-summarization \\\n",
    "    --input_file ../notebooks/test_input.csv \\\n",
    "    --output_file ../notebooks/test_cli_output.csv \\\n",
    "    --batch_size 1 \\\n",
    "    --max_source_length 256 \\\n",
    "    --max_target_length 64 \\\n",
    "    --num_beams 2 \\\n",
    "    --verbose"
   ]
  },
  {
   "cell_type": "code",
   "execution_count": null,
   "metadata": {},
   "outputs": [],
   "source": [
    "# CLI 결과 확인\n",
    "if Path('test_cli_output.csv').exists():\n",
    "    cli_result = pd.read_csv('test_cli_output.csv')\n",
    "    print(\"CLI 도구 결과:\")\n",
    "    print(cli_result)\n",
    "    \n",
    "    # 테스트 파일 정리\n",
    "    os.remove('test_input.csv')\n",
    "    os.remove('test_cli_output.csv')\n",
    "    print(\"\\n테스트 파일 정리 완료\")"
   ]
  },
  {
   "cell_type": "markdown",
   "metadata": {},
   "source": [
    "## 8. 성능 측정"
   ]
  },
  {
   "cell_type": "code",
   "execution_count": null,
   "metadata": {},
   "outputs": [],
   "source": [
    "import time\n",
    "\n",
    "# 추론 속도 측정\n",
    "def measure_inference_speed(engine, dialogues, batch_size):\n",
    "    \"\"\"추론 속도 측정\"\"\"\n",
    "    engine.config.batch_size = batch_size\n",
    "    \n",
    "    start_time = time.time()\n",
    "    summaries = engine.predict_batch(dialogues, show_progress=False)\n",
    "    end_time = time.time()\n",
    "    \n",
    "    total_time = end_time - start_time\n",
    "    per_sample_time = total_time / len(dialogues)\n",
    "    \n",
    "    return {\n",
    "        'batch_size': batch_size,\n",
    "        'total_time': total_time,\n",
    "        'per_sample_time': per_sample_time,\n",
    "        'samples_per_second': len(dialogues) / total_time\n",
    "    }\n",
    "\n",
    "# 다양한 배치 크기로 테스트\n",
    "print(\"추론 속도 측정:\")\n",
    "print(f\"테스트 샘플 수: {len(test_dialogues)}\")\n",
    "print(\"\\n배치크기 | 전체시간(초) | 샘플당시간(초) | 초당샘플수\")\n",
    "print(\"-\" * 60)\n",
    "\n",
    "for batch_size in [1, 2, 4]:\n",
    "    try:\n",
    "        result = measure_inference_speed(engine, test_dialogues, batch_size)\n",
    "        print(f\"{result['batch_size']:^9} | {result['total_time']:^12.2f} | \"\n",
    "              f\"{result['per_sample_time']:^14.2f} | {result['samples_per_second']:^10.2f}\")\n",
    "    except Exception as e:\n",
    "        print(f\"{batch_size:^9} | 오류: {str(e)[:30]}...\")"
   ]
  },
  {
   "cell_type": "markdown",
   "metadata": {},
   "source": [
    "## 9. 헬퍼 함수 테스트"
   ]
  },
  {
   "cell_type": "code",
   "execution_count": null,
   "metadata": {},
   "outputs": [],
   "source": [
    "# create_inference_engine 헬퍼 함수 테스트\n",
    "quick_engine = create_inference_engine(\n",
    "    model_path='gogamza/kobart-summarization',\n",
    "    batch_size=4,\n",
    "    fp16=False,\n",
    "    max_source_length=256\n",
    ")\n",
    "\n",
    "# __call__ 메서드 테스트 (다양한 입력 형식)\n",
    "print(\"1. 문자열 입력:\")\n",
    "result1 = quick_engine(test_dialogues[0])\n",
    "print(f\"   결과: {result1}\")\n",
    "\n",
    "print(\"\\n2. 리스트 입력:\")\n",
    "result2 = quick_engine(test_dialogues[:2], show_progress=False)\n",
    "print(f\"   결과 수: {len(result2)}\")\n",
    "\n",
    "print(\"\\n3. DataFrame 입력:\")\n",
    "result3 = quick_engine(test_df.head(2), show_progress=False)\n",
    "print(f\"   결과 shape: {result3.shape}\")"
   ]
  },
  {
   "cell_type": "markdown",
   "metadata": {},
   "source": [
    "## 결론\n",
    "\n",
    "독립 추론 엔진이 성공적으로 구현되었습니다:\n",
    "\n",
    "1. **유연한 입력 처리**: 단일 텍스트, 리스트, DataFrame 모두 지원\n",
    "2. **디바이스 자동 감지**: MPS/CUDA/CPU를 자동으로 감지하고 최적화\n",
    "3. **배치 처리**: 효율적인 배치 추론으로 대용량 데이터 처리 가능\n",
    "4. **CLI 도구**: 명령행에서 쉽게 사용 가능한 독립 실행 도구\n",
    "5. **대회 제출 형식**: fname, summary 형식의 CSV 자동 생성\n",
    "\n",
    "이제 학습된 모델을 사용하여 대회 테스트 데이터에 대한 추론을 쉽게 수행할 수 있습니다!"
   ]
  }
 ],
 "metadata": {
  "kernelspec": {
   "display_name": "Python 3",
   "language": "python",
   "name": "python3"
  },
  "language_info": {
   "codemirror_mode": {
    "name": "ipython",
    "version": 3
   },
   "file_extension": ".py",
   "mimetype": "text/x-python",
   "name": "python",
   "nbconvert_exporter": "python",
   "pygments_lexer": "ipython3",
   "version": "3.10.0"
  }
 },
 "nbformat": 4,
 "nbformat_minor": 4
}