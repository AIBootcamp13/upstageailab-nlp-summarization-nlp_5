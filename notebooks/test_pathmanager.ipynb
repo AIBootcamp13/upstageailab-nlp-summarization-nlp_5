{
 "cells": [
  {
   "cell_type": "markdown",
   "metadata": {},
   "source": [
    "# PathManager 테스트 노트북\n",
    "\n",
    "이 노트북은 PathManager 클래스의 기능을 테스트하고 검증합니다."
   ]
  },
  {
   "cell_type": "code",
   "execution_count": null,
   "metadata": {},
   "outputs": [],
   "source": [
    "import sys\n",
    "from pathlib import Path\n",
    "\n",
    "# 상위 디렉토리의 code를 import 경로에 추가\n",
    "sys.path.append(str(Path.cwd().parent / 'code'))\n",
    "\n",
    "from utils.path_utils import PathManager, path_manager, get_project_root, resolve_path, ensure_dir"
   ]
  },
  {
   "cell_type": "markdown",
   "metadata": {},
   "source": [
    "## 1. 프로젝트 루트 감지 테스트"
   ]
  },
  {
   "cell_type": "code",
   "execution_count": null,
   "metadata": {},
   "outputs": [],
   "source": [
    "# 프로젝트 루트 확인\n",
    "project_root = get_project_root()\n",
    "print(f\"프로젝트 루트: {project_root}\")\n",
    "print(f\"절대 경로: {project_root.absolute()}\")\n",
    "\n",
    "# 프로젝트 구조 확인\n",
    "print(\"\\n프로젝트 구조:\")\n",
    "for item in project_root.iterdir():\n",
    "    if item.is_dir():\n",
    "        print(f\"  📁 {item.name}/\")\n",
    "    else:\n",
    "        print(f\"  📄 {item.name}\")"
   ]
  },
  {
   "cell_type": "markdown",
   "metadata": {},
   "source": [
    "## 2. 경로 해결 테스트"
   ]
  },
  {
   "cell_type": "code",
   "execution_count": null,
   "metadata": {},
   "outputs": [],
   "source": [
    "# 상대 경로를 절대 경로로 변환\n",
    "test_paths = [\n",
    "    \"data/train.csv\",\n",
    "    \"config/config.yaml\",\n",
    "    \"outputs/experiment_1/results.json\",\n",
    "    \"models/best_model/pytorch_model.bin\"\n",
    "]\n",
    "\n",
    "print(\"상대 경로 → 절대 경로 변환:\")\n",
    "for rel_path in test_paths:\n",
    "    abs_path = resolve_path(rel_path)\n",
    "    print(f\"  {rel_path} → {abs_path}\")\n",
    "    print(f\"    존재 여부: {abs_path.exists()}\")"
   ]
  },
  {
   "cell_type": "markdown",
   "metadata": {},
   "source": [
    "## 3. 디렉토리 생성 테스트"
   ]
  },
  {
   "cell_type": "code",
   "execution_count": null,
   "metadata": {},
   "outputs": [],
   "source": [
    "# 테스트용 디렉토리 생성\n",
    "test_dirs = [\n",
    "    \"test_output/experiment_1\",\n",
    "    \"test_models/transformer_v1\",\n",
    "    \"test_logs/2024_01\"\n",
    "]\n",
    "\n",
    "print(\"디렉토리 생성 테스트:\")\n",
    "for dir_path in test_dirs:\n",
    "    created_path = ensure_dir(dir_path)\n",
    "    print(f\"  생성됨: {created_path}\")\n",
    "    print(f\"    상대 경로: {path_manager.relative_to_root(created_path)}\")"
   ]
  },
  {
   "cell_type": "markdown",
   "metadata": {},
   "source": [
    "## 4. 특수 경로 메소드 테스트"
   ]
  },
  {
   "cell_type": "code",
   "execution_count": null,
   "metadata": {},
   "outputs": [],
   "source": [
    "# 데이터 경로\n",
    "data_dir = path_manager.get_data_path()\n",
    "train_data = path_manager.get_data_path(\"train.csv\")\n",
    "print(f\"데이터 디렉토리: {data_dir}\")\n",
    "print(f\"학습 데이터: {train_data}\")\n",
    "\n",
    "# 설정 경로\n",
    "config_dir = path_manager.get_config_path()\n",
    "main_config = path_manager.get_config_path(\"config.yaml\")\n",
    "print(f\"\\n설정 디렉토리: {config_dir}\")\n",
    "print(f\"메인 설정: {main_config}\")\n",
    "\n",
    "# 실험 출력 경로\n",
    "exp_name = \"test_experiment\"\n",
    "output_dir = path_manager.get_output_path(exp_name)\n",
    "results_file = path_manager.get_output_path(exp_name, \"results.json\")\n",
    "print(f\"\\n실험 출력 디렉토리: {output_dir}\")\n",
    "print(f\"결과 파일: {results_file}\")\n",
    "\n",
    "# 모델 경로\n",
    "model_name = \"bert_summarizer\"\n",
    "model_dir = path_manager.get_model_path(model_name)\n",
    "weights_file = path_manager.get_model_path(model_name, \"pytorch_model.bin\")\n",
    "print(f\"\\n모델 디렉토리: {model_dir}\")\n",
    "print(f\"가중치 파일: {weights_file}\")\n",
    "\n",
    "# 로그 경로\n",
    "log_dir = path_manager.get_log_path(exp_name)\n",
    "log_file = path_manager.get_log_path(exp_name, \"training.log\")\n",
    "print(f\"\\n로그 디렉토리: {log_dir}\")\n",
    "print(f\"로그 파일: {log_file}\")"
   ]
  },
  {
   "cell_type": "markdown",
   "metadata": {},
   "source": [
    "## 5. 크로스 플랫폼 테스트"
   ]
  },
  {
   "cell_type": "code",
   "execution_count": null,
   "metadata": {},
   "outputs": [],
   "source": [
    "import platform\n",
    "import os\n",
    "\n",
    "# 현재 플랫폼 정보\n",
    "print(f\"운영체제: {platform.system()}\")\n",
    "print(f\"플랫폼: {platform.platform()}\")\n",
    "print(f\"경로 구분자: '{os.sep}'\")\n",
    "\n",
    "# 경로 구분자 처리 테스트\n",
    "test_path = \"data/processed/train.csv\"\n",
    "resolved = resolve_path(test_path)\n",
    "print(f\"\\n입력 경로: {test_path}\")\n",
    "print(f\"해결된 경로: {resolved}\")\n",
    "print(f\"정규화된 경로: {resolved.as_posix()}\")"
   ]
  },
  {
   "cell_type": "markdown",
   "metadata": {},
   "source": [
    "## 6. 실제 사용 예제"
   ]
  },
  {
   "cell_type": "code",
   "execution_count": null,
   "metadata": {},
   "outputs": [],
   "source": [
    "# ConfigManager에서 사용\n",
    "from utils.config_manager import ConfigManager\n",
    "\n",
    "config_manager = ConfigManager()\n",
    "print(f\"ConfigManager 기본 디렉토리: {config_manager.base_dir}\")\n",
    "\n",
    "# DataProcessor에서 사용\n",
    "from utils.data_utils import DataProcessor\n",
    "\n",
    "# 데이터 파일 경로 (상대 경로로 지정)\n",
    "data_file = \"data/sample.csv\"\n",
    "print(f\"\\n데이터 파일 상대 경로: {data_file}\")\n",
    "print(f\"해결된 절대 경로: {resolve_path(data_file)}\")"
   ]
  },
  {
   "cell_type": "markdown",
   "metadata": {},
   "source": [
    "## 7. 정리 - 테스트용 디렉토리 삭제"
   ]
  },
  {
   "cell_type": "code",
   "execution_count": null,
   "metadata": {},
   "outputs": [],
   "source": [
    "import shutil\n",
    "\n",
    "# 테스트용으로 생성한 디렉토리 삭제\n",
    "test_root_dirs = [\"test_output\", \"test_models\", \"test_logs\"]\n",
    "\n",
    "for dir_name in test_root_dirs:\n",
    "    dir_path = resolve_path(dir_name)\n",
    "    if dir_path.exists():\n",
    "        shutil.rmtree(dir_path)\n",
    "        print(f\"삭제됨: {dir_path}\")"
   ]
  },
  {
   "cell_type": "markdown",
   "metadata": {},
   "source": [
    "## 결론\n",
    "\n",
    "PathManager는 다음과 같은 기능을 제공합니다:\n",
    "\n",
    "1. **자동 프로젝트 루트 감지**: code/, config/ 디렉토리 또는 .git, pyproject.toml을 기준으로 프로젝트 루트를 찾습니다.\n",
    "2. **상대 경로 해결**: 모든 상대 경로를 프로젝트 루트 기준 절대 경로로 변환합니다.\n",
    "3. **디렉토리 자동 생성**: ensure_dir()로 필요한 디렉토리를 자동 생성합니다.\n",
    "4. **특수 경로 메소드**: 데이터, 설정, 출력, 모델, 로그 등의 표준 경로를 쉽게 얻을 수 있습니다.\n",
    "5. **크로스 플랫폼 지원**: Windows, Mac, Linux에서 동일하게 동작합니다.\n",
    "\n",
    "이제 프로젝트를 다른 경로로 이동하거나 다른 시스템에서 실행해도 경로 문제가 발생하지 않습니다!"
   ]
  }
 ],
 "metadata": {
  "kernelspec": {
   "display_name": "Python 3",
   "language": "python",
   "name": "python3"
  },
  "language_info": {
   "codemirror_mode": {
    "name": "ipython",
    "version": 3
   },
   "file_extension": ".py",
   "mimetype": "text/x-python",
   "name": "python",
   "nbconvert_exporter": "python",
   "pygments_lexer": "ipython3",
   "version": "3.10.0"
  }
 },
 "nbformat": 4,
 "nbformat_minor": 4
}