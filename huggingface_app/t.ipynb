{
 "cells": [
  {
   "cell_type": "code",
   "execution_count": 6,
   "id": "1a012578",
   "metadata": {},
   "outputs": [],
   "source": [
    "import pandas as pd\n",
    "import os\n",
    "os.chdir('/mnt/c/SKH/ai_lab_13/projects/nlp-text-summarization/song/huggingface_app/')\n",
    "train1 = pd.read_csv('./data/train1_solar_results_filtered.csv')\n",
    "train2 = pd.read_csv('./data/train2_solar_results_filtered.csv')"
   ]
  },
  {
   "cell_type": "code",
   "execution_count": 8,
   "id": "b7d853ba",
   "metadata": {},
   "outputs": [
    {
     "name": "stdout",
     "output_type": "stream",
     "text": [
      "'./data/train_solar_results_filtered1.csv' 저장 완료. (행: 1625)\n",
      "'./data/train_solar_results_filtered2.csv' 저장 완료. (행: 1625)\n",
      "'./data/train_solar_results_filtered3.csv' 저장 완료. (행: 1625)\n",
      "'./data/train_solar_results_filtered4.csv' 저장 완료. (행: 1625)\n",
      "'./data/train_solar_results_filtered5.csv' 저장 완료. (행: 1489)\n",
      "'./data/train_solar_results_filtered6.csv' 저장 완료. (행: 1489)\n",
      "'./data/train_solar_results_filtered7.csv' 저장 완료. (행: 1489)\n",
      "'./data/train_solar_results_filtered8.csv' 저장 완료. (행: 1490)\n",
      "\n",
      "모든 데이터프레임 분할 및 저장이 완료되었습니다.\n"
     ]
    }
   ],
   "source": [
    "dataframes = {'train1': train1, 'train2': train2}\n",
    "file_index = 1\n",
    "\n",
    "for name, df in dataframes.items():\n",
    "    # 각 데이터프레임을 4등분할 인덱스 계산\n",
    "    chunk_size = len(df) // 4\n",
    "    for i in range(4):\n",
    "        # 시작 및 끝 인덱스 설정\n",
    "        start_idx = i * chunk_size\n",
    "        end_idx = (i + 1) * chunk_size if i < 3 else len(df) # 마지막 청크는 나머지 모두 포함\n",
    "\n",
    "        # 데이터프레임 분할\n",
    "        chunk_df = df.iloc[start_idx:end_idx]\n",
    "\n",
    "        # 파일명 설정 및 저장\n",
    "        output_filename = os.path.join('./data', f'train_solar_results_filtered{file_index}.csv')\n",
    "        chunk_df.to_csv(output_filename, index=False)\n",
    "        print(f\"'{output_filename}' 저장 완료. (행: {len(chunk_df)})\")\n",
    "        file_index += 1\n",
    "\n",
    "print(\"\\n모든 데이터프레임 분할 및 저장이 완료되었습니다.\")"
   ]
  }
 ],
 "metadata": {
  "kernelspec": {
   "display_name": "Python 3 (ipykernel)",
   "language": "python",
   "name": "python3"
  },
  "language_info": {
   "codemirror_mode": {
    "name": "ipython",
    "version": 3
   },
   "file_extension": ".py",
   "mimetype": "text/x-python",
   "name": "python",
   "nbconvert_exporter": "python",
   "pygments_lexer": "ipython3",
   "version": "3.10.0"
  }
 },
 "nbformat": 4,
 "nbformat_minor": 5
}
